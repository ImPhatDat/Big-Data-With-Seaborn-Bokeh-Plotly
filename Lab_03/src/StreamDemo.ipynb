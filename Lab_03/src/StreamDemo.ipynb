{
 "cells": [
  {
   "cell_type": "code",
   "execution_count": 1,
   "metadata": {},
   "outputs": [
    {
     "name": "stderr",
     "output_type": "stream",
     "text": [
      "your 131072x1 screen size is bogus. expect trouble\n",
      "24/05/16 20:37:55 WARN Utils: Your hostname, PhDDevice resolves to a loopback address: 127.0.1.1; using 172.24.86.99 instead (on interface eth0)\n",
      "24/05/16 20:37:55 WARN Utils: Set SPARK_LOCAL_IP if you need to bind to another address\n",
      "Setting default log level to \"WARN\".\n",
      "To adjust logging level use sc.setLogLevel(newLevel). For SparkR, use setLogLevel(newLevel).\n",
      "24/05/16 20:37:56 WARN NativeCodeLoader: Unable to load native-hadoop library for your platform... using builtin-java classes where applicable\n"
     ]
    }
   ],
   "source": [
    "import findspark\n",
    "from pyspark.sql import SparkSession\n",
    "from pyspark.sql.types import *\n",
    "import pyspark.sql.functions as f\n",
    "findspark.init()\n",
    "\n",
    "# Creating a SparkSession in Python\n",
    "spark = SparkSession.builder\\\n",
    "    .master(\"local\")\\\n",
    "    .appName(\"Spark Streaming Task 1\")\\\n",
    "    .getOrCreate()\n",
    "\n",
    "# # Configures the number of partitions to use when shuffling data for joins or aggregations.\n",
    "spark.conf.set(\"spark.sql.shuffle.partitions\", \"10\")"
   ]
  },
  {
   "cell_type": "code",
   "execution_count": 2,
   "metadata": {},
   "outputs": [
    {
     "data": {
      "text/plain": [
       "'/home/dat_21127240/BigData/Big-Data-With-Seaborn-Bokeh-Plotly/Lab_03/src'"
      ]
     },
     "execution_count": 2,
     "metadata": {},
     "output_type": "execute_result"
    }
   ],
   "source": [
    "import os\n",
    "cwd = os.getcwd()\n",
    "cwd"
   ]
  },
  {
   "cell_type": "code",
   "execution_count": 3,
   "metadata": {},
   "outputs": [],
   "source": [
    "inputPath = cwd + \"/../data/taxi-data\"\n",
    "outputPath = cwd + \"/../output_2\"\n",
    "checkpointPath = cwd + \"/../checkpoint\""
   ]
  },
  {
   "cell_type": "code",
   "execution_count": 4,
   "metadata": {},
   "outputs": [],
   "source": [
    "full_schema = StructType([StructField(f\"_c{i}\", StringType(), nullable=True) for i in range(22)])\n",
    "\n",
    "# define schema for yellow taxi trips\n",
    "yellow_taxi_schema = StructType([\n",
    "    StructField(\"type\", StringType(), nullable=False),\n",
    "    StructField(\"VendorID\", IntegerType()),\n",
    "    StructField(\"tpep_pickup_datetime\", TimestampType()),\n",
    "    StructField(\"tpep_dropoff_datetime\", TimestampType()),\n",
    "    StructField(\"passenger_count\", IntegerType()),\n",
    "    StructField(\"trip_distance\", FloatType()),\n",
    "    StructField(\"pickup_longitude\", FloatType()),\n",
    "    StructField(\"pickup_latitude\", FloatType()),\n",
    "    StructField(\"RatecodeID\", FloatType()),\n",
    "    StructField(\"store_and_fwd_flag\", StringType()),\n",
    "    StructField(\"dropoff_longitude\", FloatType()),\n",
    "    StructField(\"dropoff_latitude\", FloatType()),\n",
    "    StructField(\"payment_type\", IntegerType()),\n",
    "    StructField(\"fare_amount\", FloatType()),\n",
    "    StructField(\"extra\", FloatType()),\n",
    "    StructField(\"mta_tax\", FloatType()),\n",
    "    StructField(\"tip_amount\", FloatType()),\n",
    "    StructField(\"tolls_amount\", FloatType()),\n",
    "    StructField(\"improvement_surcharge\", FloatType()),\n",
    "    StructField(\"total_amount\", FloatType())\n",
    "])\n",
    "# define schema for green taxi trips\n",
    "green_taxi_schema = StructType([\n",
    "    StructField(\"type\", StringType(), nullable=False),\n",
    "    StructField(\"VendorID\", IntegerType()),\n",
    "    StructField(\"lpep_pickup_datetime\", TimestampType()),\n",
    "    StructField(\"Lpep_dropoff_datetime\", TimestampType()),\n",
    "    StructField(\"Store_and_fwd_flag\", StringType()),\n",
    "    StructField(\"RateCodeID\", IntegerType()),\n",
    "    StructField(\"Pickup_longitude\", FloatType()),\n",
    "    StructField(\"Pickup_latitude\", FloatType()),\n",
    "    StructField(\"Dropoff_longitude\", FloatType()),\n",
    "    StructField(\"Dropoff_latitude\", FloatType()),\n",
    "    StructField(\"Passenger_count\", IntegerType()),\n",
    "    StructField(\"Trip_distance\", FloatType()),\n",
    "    StructField(\"Fare_amount\", FloatType()),\n",
    "    StructField(\"Extra\", FloatType()),\n",
    "    StructField(\"MTA_tax\", FloatType()),\n",
    "    StructField(\"Tip_amount\", FloatType()),\n",
    "    StructField(\"Tolls_amount\", FloatType()),\n",
    "    StructField(\"Ehail_fee\", FloatType()),\n",
    "    StructField(\"improvement_surcharge\", FloatType()),\n",
    "    StructField(\"Total_amount\", FloatType()),\n",
    "    StructField(\"Payment_type\", IntegerType()),\n",
    "    StructField(\"Trip_type\", IntegerType())\n",
    "])"
   ]
  },
  {
   "cell_type": "code",
   "execution_count": 5,
   "metadata": {},
   "outputs": [],
   "source": [
    "# read the entire data files first\n",
    "full_df = spark.readStream\\\n",
    "    .option(\"maxFilesPerTrigger\", 100)\\\n",
    "    .csv(f\"file://{inputPath}\",\n",
    "         header=False,\n",
    "         schema=full_schema)\n",
    "\n",
    "# Filter rows based on the 'type' column\n",
    "yellow_df = full_df.where(full_df[\"_c0\"] == \"yellow\").selectExpr(\n",
    "    *[f\"cast(_c{i} as {field.dataType.simpleString()}) as {field.name}\" \\\n",
    "        for i, field in enumerate(yellow_taxi_schema.fields)]\n",
    ")\n",
    "\n",
    "green_df = full_df.where(full_df[\"_c0\"] == \"green\").selectExpr(\n",
    "    *[f\"cast(_c{i} as {field.dataType.simpleString()}) as {field.name}\" \\\n",
    "        for i, field in enumerate(green_taxi_schema.fields)]\n",
    ")"
   ]
  },
  {
   "cell_type": "code",
   "execution_count": 6,
   "metadata": {},
   "outputs": [],
   "source": [
    "sub_yellow = yellow_df.selectExpr(\"type\")\n",
    "sub_green = green_df.selectExpr(\"type\")"
   ]
  },
  {
   "cell_type": "code",
   "execution_count": 7,
   "metadata": {},
   "outputs": [],
   "source": [
    "sub_df = sub_yellow.union(sub_green)"
   ]
  },
  {
   "cell_type": "code",
   "execution_count": 8,
   "metadata": {},
   "outputs": [],
   "source": [
    "by_type = sub_df.groupBy(\"type\")\\\n",
    "    .count()"
   ]
  },
  {
   "cell_type": "code",
   "execution_count": 9,
   "metadata": {},
   "outputs": [
    {
     "name": "stderr",
     "output_type": "stream",
     "text": [
      "24/05/16 20:39:35 WARN ResolveWriteToStream: Temporary checkpoint location created which is deleted normally when the query didn't fail: /tmp/temporary-2f9763ac-95bd-4ae7-bf63-ccaf863551ef. If it's required to delete it under any circumstances, please set spark.sql.streaming.forceDeleteTempCheckpointLocation to true. Important to know deleting temp checkpoint folder is best effort.\n",
      "24/05/16 20:39:35 WARN ResolveWriteToStream: spark.sql.adaptive.enabled is not supported in streaming DataFrames/Datasets and will be disabled.\n",
      "                                                                                \r"
     ]
    },
    {
     "name": "stdout",
     "output_type": "stream",
     "text": [
      "-------------------------------------------\n",
      "Batch: 0\n",
      "-------------------------------------------\n",
      "+------+-----+\n",
      "|  type|count|\n",
      "+------+-----+\n",
      "|yellow|17170|\n",
      "| green| 2011|\n",
      "+------+-----+\n",
      "\n"
     ]
    },
    {
     "name": "stderr",
     "output_type": "stream",
     "text": [
      "                                                                                \r"
     ]
    },
    {
     "name": "stdout",
     "output_type": "stream",
     "text": [
      "-------------------------------------------\n",
      "Batch: 1\n",
      "-------------------------------------------\n",
      "+------+-----+\n",
      "|  type|count|\n",
      "+------+-----+\n",
      "|yellow|36047|\n",
      "| green| 4175|\n",
      "+------+-----+\n",
      "\n",
      "-------------------------------------------\n",
      "Batch: 2\n",
      "-------------------------------------------\n",
      "+------+-----+\n",
      "|  type|count|\n",
      "+------+-----+\n",
      "|yellow|55447|\n",
      "| green| 6344|\n",
      "+------+-----+\n",
      "\n"
     ]
    },
    {
     "data": {
      "text/plain": [
       "False"
      ]
     },
     "execution_count": 9,
     "metadata": {},
     "output_type": "execute_result"
    },
    {
     "name": "stderr",
     "output_type": "stream",
     "text": [
      "                                                                                \r"
     ]
    },
    {
     "name": "stdout",
     "output_type": "stream",
     "text": [
      "-------------------------------------------\n",
      "Batch: 3\n",
      "-------------------------------------------\n",
      "+------+-----+\n",
      "|  type|count|\n",
      "+------+-----+\n",
      "|yellow|75691|\n",
      "| green| 8767|\n",
      "+------+-----+\n",
      "\n",
      "-------------------------------------------\n",
      "Batch: 4\n",
      "-------------------------------------------\n",
      "+------+-----+\n",
      "|  type|count|\n",
      "+------+-----+\n",
      "|yellow|94317|\n",
      "| green|10949|\n",
      "+------+-----+\n",
      "\n",
      "-------------------------------------------\n",
      "Batch: 5\n",
      "-------------------------------------------\n",
      "+------+------+\n",
      "|  type| count|\n",
      "+------+------+\n",
      "|yellow|113752|\n",
      "| green| 13207|\n",
      "+------+------+\n",
      "\n",
      "-------------------------------------------\n",
      "Batch: 6\n",
      "-------------------------------------------\n",
      "+------+------+\n",
      "|  type| count|\n",
      "+------+------+\n",
      "|yellow|133414|\n",
      "| green| 15560|\n",
      "+------+------+\n",
      "\n",
      "-------------------------------------------\n",
      "Batch: 7\n",
      "-------------------------------------------\n",
      "+------+------+\n",
      "|  type| count|\n",
      "+------+------+\n",
      "|yellow|153316|\n",
      "| green| 17926|\n",
      "+------+------+\n",
      "\n"
     ]
    },
    {
     "name": "stderr",
     "output_type": "stream",
     "text": [
      "                                                                                \r"
     ]
    },
    {
     "name": "stdout",
     "output_type": "stream",
     "text": [
      "-------------------------------------------\n",
      "Batch: 8\n",
      "-------------------------------------------\n",
      "+------+------+\n",
      "|  type| count|\n",
      "+------+------+\n",
      "|yellow|186547|\n",
      "| green| 22509|\n",
      "+------+------+\n",
      "\n",
      "-------------------------------------------\n",
      "Batch: 9\n",
      "-------------------------------------------\n",
      "+------+------+\n",
      "|  type| count|\n",
      "+------+------+\n",
      "|yellow|220773|\n",
      "| green| 26970|\n",
      "+------+------+\n",
      "\n"
     ]
    },
    {
     "name": "stderr",
     "output_type": "stream",
     "text": [
      "                                                                                \r"
     ]
    },
    {
     "name": "stdout",
     "output_type": "stream",
     "text": [
      "-------------------------------------------\n",
      "Batch: 10\n",
      "-------------------------------------------\n",
      "+------+------+\n",
      "|  type| count|\n",
      "+------+------+\n",
      "|yellow|254973|\n",
      "| green| 31505|\n",
      "+------+------+\n",
      "\n",
      "-------------------------------------------\n",
      "Batch: 11\n",
      "-------------------------------------------\n",
      "+------+------+\n",
      "|  type| count|\n",
      "+------+------+\n",
      "|yellow|289111|\n",
      "| green| 36074|\n",
      "+------+------+\n",
      "\n",
      "-------------------------------------------\n",
      "Batch: 12\n",
      "-------------------------------------------\n",
      "+------+------+\n",
      "|  type| count|\n",
      "+------+------+\n",
      "|yellow|323586|\n",
      "| green| 40529|\n",
      "+------+------+\n",
      "\n"
     ]
    },
    {
     "name": "stderr",
     "output_type": "stream",
     "text": [
      "                                                                                \r"
     ]
    },
    {
     "name": "stdout",
     "output_type": "stream",
     "text": [
      "-------------------------------------------\n",
      "Batch: 13\n",
      "-------------------------------------------\n",
      "+------+------+\n",
      "|  type| count|\n",
      "+------+------+\n",
      "|yellow|357839|\n",
      "| green| 45001|\n",
      "+------+------+\n",
      "\n",
      "-------------------------------------------\n",
      "Batch: 14\n",
      "-------------------------------------------\n",
      "+------+------+\n",
      "|  type| count|\n",
      "+------+------+\n",
      "|yellow|370999|\n",
      "| green| 46741|\n",
      "+------+------+\n",
      "\n"
     ]
    }
   ],
   "source": [
    "query = by_type.writeStream\\\n",
    "    .format(\"console\")\\\n",
    "    .outputMode(\"complete\")\\\n",
    "    .queryName(\"Type_Count\")\\\n",
    "    .start()\n",
    "query.awaitTermination(10)"
   ]
  },
  {
   "cell_type": "code",
   "execution_count": 10,
   "metadata": {},
   "outputs": [],
   "source": [
    "query.stop()\n",
    "spark.stop()"
   ]
  },
  {
   "cell_type": "code",
   "execution_count": null,
   "metadata": {},
   "outputs": [],
   "source": []
  }
 ],
 "metadata": {
  "kernelspec": {
   "display_name": "Python 3 (ipykernel)",
   "language": "python",
   "name": "python3"
  },
  "language_info": {
   "codemirror_mode": {
    "name": "ipython",
    "version": 3
   },
   "file_extension": ".py",
   "mimetype": "text/x-python",
   "name": "python",
   "nbconvert_exporter": "python",
   "pygments_lexer": "ipython3",
   "version": "3.12.3"
  }
 },
 "nbformat": 4,
 "nbformat_minor": 4
}
