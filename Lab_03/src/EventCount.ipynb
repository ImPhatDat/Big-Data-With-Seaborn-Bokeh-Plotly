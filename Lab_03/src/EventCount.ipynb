{
 "cells": [
  {
   "cell_type": "code",
   "execution_count": 1,
   "metadata": {},
   "outputs": [
    {
     "name": "stderr",
     "output_type": "stream",
     "text": [
      "your 131072x1 screen size is bogus. expect trouble\n",
      "24/05/16 18:27:03 WARN Utils: Your hostname, PhDDevice resolves to a loopback address: 127.0.1.1; using 172.24.86.99 instead (on interface eth0)\n",
      "24/05/16 18:27:03 WARN Utils: Set SPARK_LOCAL_IP if you need to bind to another address\n",
      "Setting default log level to \"WARN\".\n",
      "To adjust logging level use sc.setLogLevel(newLevel). For SparkR, use setLogLevel(newLevel).\n",
      "24/05/16 18:27:05 WARN NativeCodeLoader: Unable to load native-hadoop library for your platform... using builtin-java classes where applicable\n"
     ]
    }
   ],
   "source": [
    "import findspark\n",
    "from pyspark.sql import SparkSession\n",
    "from pyspark.sql.types import *\n",
    "import pyspark.sql.functions as f\n",
    "findspark.init()\n",
    "\n",
    "# Creating a SparkSession in Python\n",
    "spark = SparkSession.builder\\\n",
    "    .master(\"local\")\\\n",
    "    .appName(\"Spark Streaming\")\\\n",
    "    .getOrCreate()\n",
    "\n",
    "# keep the size of shuffles small\n",
    "spark.conf.set(\"spark.sql.shuffle.partitions\", \"2\")"
   ]
  },
  {
   "cell_type": "code",
   "execution_count": 2,
   "metadata": {},
   "outputs": [
    {
     "data": {
      "text/plain": [
       "'/home/dat_21127240/BigData/Big-Data-With-Seaborn-Bokeh-Plotly/Lab_03/src'"
      ]
     },
     "execution_count": 2,
     "metadata": {},
     "output_type": "execute_result"
    }
   ],
   "source": [
    "import os\n",
    "cwd = os.getcwd()\n",
    "cwd"
   ]
  },
  {
   "cell_type": "code",
   "execution_count": 3,
   "metadata": {},
   "outputs": [],
   "source": [
    "inputPath = cwd + \"/../data/taxi-data\"\n",
    "outputPath = cwd + \"/../output_2\"\n",
    "checkpointPath = cwd + \"/../checkpoint\""
   ]
  },
  {
   "cell_type": "code",
   "execution_count": 4,
   "metadata": {},
   "outputs": [],
   "source": [
    "full_schema = StructType([StructField(f\"_c{i}\", StringType(), nullable=True) for i in range(22)])\n",
    "\n",
    "# define schema for yellow taxi trips\n",
    "yellow_taxi_schema = StructType([\n",
    "    StructField(\"type\", StringType(), nullable=False),\n",
    "    StructField(\"VendorID\", IntegerType()),\n",
    "    StructField(\"tpep_pickup_datetime\", TimestampType()),\n",
    "    StructField(\"tpep_dropoff_datetime\", TimestampType()),\n",
    "    StructField(\"passenger_count\", IntegerType()),\n",
    "    StructField(\"trip_distance\", FloatType()),\n",
    "    StructField(\"pickup_longitude\", FloatType()),\n",
    "    StructField(\"pickup_latitude\", FloatType()),\n",
    "    StructField(\"RatecodeID\", FloatType()),\n",
    "    StructField(\"store_and_fwd_flag\", StringType()),\n",
    "    StructField(\"dropoff_longitude\", FloatType()),\n",
    "    StructField(\"dropoff_latitude\", FloatType()),\n",
    "    StructField(\"payment_type\", IntegerType()),\n",
    "    StructField(\"fare_amount\", FloatType()),\n",
    "    StructField(\"extra\", FloatType()),\n",
    "    StructField(\"mta_tax\", FloatType()),\n",
    "    StructField(\"tip_amount\", FloatType()),\n",
    "    StructField(\"tolls_amount\", FloatType()),\n",
    "    StructField(\"improvement_surcharge\", FloatType()),\n",
    "    StructField(\"total_amount\", FloatType())\n",
    "])\n",
    "# define schema for green taxi trips\n",
    "green_taxi_schema = StructType([\n",
    "    StructField(\"type\", StringType(), nullable=False),\n",
    "    StructField(\"VendorID\", IntegerType()),\n",
    "    StructField(\"lpep_pickup_datetime\", TimestampType()),\n",
    "    StructField(\"Lpep_dropoff_datetime\", TimestampType()),\n",
    "    StructField(\"Store_and_fwd_flag\", StringType()),\n",
    "    StructField(\"RateCodeID\", IntegerType()),\n",
    "    StructField(\"Pickup_longitude\", FloatType()),\n",
    "    StructField(\"Pickup_latitude\", FloatType()),\n",
    "    StructField(\"Dropoff_longitude\", FloatType()),\n",
    "    StructField(\"Dropoff_latitude\", FloatType()),\n",
    "    StructField(\"Passenger_count\", IntegerType()),\n",
    "    StructField(\"Trip_distance\", FloatType()),\n",
    "    StructField(\"Fare_amount\", FloatType()),\n",
    "    StructField(\"Extra\", FloatType()),\n",
    "    StructField(\"MTA_tax\", FloatType()),\n",
    "    StructField(\"Tip_amount\", FloatType()),\n",
    "    StructField(\"Tolls_amount\", FloatType()),\n",
    "    StructField(\"Ehail_fee\", FloatType()),\n",
    "    StructField(\"improvement_surcharge\", FloatType()),\n",
    "    StructField(\"Total_amount\", FloatType()),\n",
    "    StructField(\"Payment_type\", IntegerType()),\n",
    "    StructField(\"Trip_type\", IntegerType())\n",
    "])"
   ]
  },
  {
   "cell_type": "code",
   "execution_count": 5,
   "metadata": {},
   "outputs": [],
   "source": [
    "# read the entire data files first\n",
    "full_df = spark.readStream\\\n",
    "    .option(\"maxFilesPerTrigger\", 100)\\\n",
    "    .csv(f\"file://{inputPath}\",\n",
    "         header=False,\n",
    "         schema=full_schema)\n",
    "\n",
    "# Filter rows based on the 'type' column\n",
    "yellow_df = full_df.where(full_df[\"_c0\"] == \"yellow\").selectExpr(\n",
    "    *[f\"cast(_c{i} as {field.dataType.simpleString()}) as {field.name}\" \\\n",
    "        for i, field in enumerate(yellow_taxi_schema.fields)]\n",
    ")\n",
    "\n",
    "green_df = full_df.where(full_df[\"_c0\"] == \"green\").selectExpr(\n",
    "    *[f\"cast(_c{i} as {field.dataType.simpleString()}) as {field.name}\" \\\n",
    "        for i, field in enumerate(green_taxi_schema.fields)]\n",
    ")"
   ]
  },
  {
   "cell_type": "code",
   "execution_count": 6,
   "metadata": {},
   "outputs": [],
   "source": [
    "sub_yellow = yellow_df.selectExpr(\"tpep_dropoff_datetime as dropoff_datetime\")\n",
    "sub_green = green_df.selectExpr(\"Lpep_dropoff_datetime as dropoff_datetime\")"
   ]
  },
  {
   "cell_type": "code",
   "execution_count": 7,
   "metadata": {},
   "outputs": [],
   "source": [
    "sub_df = sub_yellow.union(sub_green)"
   ]
  },
  {
   "cell_type": "code",
   "execution_count": null,
   "metadata": {},
   "outputs": [],
   "source": [
    "by_dropoff = sub_df.groupBy(f.window(f.col(\"dropoff_datetime\"), \"1 hour\"))\\\n",
    "    .count()"
   ]
  },
  {
   "cell_type": "code",
   "execution_count": 11,
   "metadata": {},
   "outputs": [],
   "source": [
    "def foreach_batch_function(batch_df, epoch_id):\n",
    "    # get endHour column\n",
    "    tmp_df = batch_df.withColumn(\"startHour\", f.hour(f.col(\"window.start\")))\n",
    "    \n",
    "    # for each endHour, write to different directory\n",
    "    start_hours = tmp_df.select(\"startHour\").distinct().collect()\n",
    "    \n",
    "    if len(start_hours) != 0:\n",
    "        for start_hour in start_hours:\n",
    "            h_num = start_hour['startHour']\n",
    "            hour_df = tmp_df.where(f.col(\"startHour\") == f.lit(h_num)).select(\"count\")\n",
    "            output_dir = f\"file://{outputPath}/output-{(h_num + 1) * 60 * 60 * 1000}\"\n",
    "            \n",
    "            hour_df.write.mode(\"overwrite\").csv(output_dir)"
   ]
  },
  {
   "cell_type": "code",
   "execution_count": null,
   "metadata": {},
   "outputs": [],
   "source": [
    "query = by_dropoff.writeStream\\\n",
    "    .outputMode(\"update\")\\\n",
    "    .foreachBatch(foreach_batch_function)\\\n",
    "    .queryName(\"Event_Count\")\\\n",
    "    .option(\"checkpointLocation\", f\"file://{cwd}/../checkpoint\")\\\n",
    "    .start()\n",
    "query.awaitTermination()"
   ]
  },
  {
   "cell_type": "code",
   "execution_count": 13,
   "metadata": {},
   "outputs": [],
   "source": [
    "query.stop()\n",
    "spark.stop()"
   ]
  },
  {
   "cell_type": "code",
   "execution_count": null,
   "metadata": {},
   "outputs": [],
   "source": []
  }
 ],
 "metadata": {
  "kernelspec": {
   "display_name": "Python 3 (ipykernel)",
   "language": "python",
   "name": "python3"
  },
  "language_info": {
   "codemirror_mode": {
    "name": "ipython",
    "version": 3
   },
   "file_extension": ".py",
   "mimetype": "text/x-python",
   "name": "python",
   "nbconvert_exporter": "python",
   "pygments_lexer": "ipython3",
   "version": "3.12.3"
  }
 },
 "nbformat": 4,
 "nbformat_minor": 4
}
