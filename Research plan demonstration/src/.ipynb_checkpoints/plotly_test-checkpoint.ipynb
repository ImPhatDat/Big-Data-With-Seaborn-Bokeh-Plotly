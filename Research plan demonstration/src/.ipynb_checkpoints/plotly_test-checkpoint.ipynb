{
 "cells": [
  {
   "cell_type": "code",
   "execution_count": 7,
   "id": "1e11d125-c16d-425f-b688-2222e5fef331",
   "metadata": {},
   "outputs": [],
   "source": [
    "import pandas as pd\n",
    "import numpy as np\n",
    "import matplotlib.pyplot as plt\n",
    "import plotly.express as px\n",
    "from bokeh.plotting import figure, output_file, show, ColumnDataSource\n",
    "from bokeh.models import ColumnDataSource, Slider, HoverTool, CustomJS\n",
    "from bokeh.layouts import column, row, Spacer, layout"
   ]
  },
  {
   "cell_type": "code",
   "execution_count": 8,
   "id": "25fe1236-cd0b-4594-9cda-9523ddb76e5f",
   "metadata": {},
   "outputs": [
    {
     "data": {
      "text/html": [
       "    <style>\n",
       "        .bk-notebook-logo {\n",
       "            display: block;\n",
       "            width: 20px;\n",
       "            height: 20px;\n",
       "            background-image: url(data:image/png;base64,iVBORw0KGgoAAAANSUhEUgAAABQAAAAUCAYAAACNiR0NAAAABHNCSVQICAgIfAhkiAAAAAlwSFlzAAALEgAACxIB0t1+/AAAABx0RVh0U29mdHdhcmUAQWRvYmUgRmlyZXdvcmtzIENTNui8sowAAAOkSURBVDiNjZRtaJVlGMd/1/08zzln5zjP1LWcU9N0NkN8m2CYjpgQYQXqSs0I84OLIC0hkEKoPtiH3gmKoiJDU7QpLgoLjLIQCpEsNJ1vqUOdO7ppbuec5+V+rj4ctwzd8IIbbi6u+8f1539dt3A78eXC7QizUF7gyV1fD1Yqg4JWz84yffhm0qkFqBogB9rM8tZdtwVsPUhWhGcFJngGeWrPzHm5oaMmkfEg1usvLFyc8jLRqDOMru7AyC8saQr7GG7f5fvDeH7Ej8CM66nIF+8yngt6HWaKh7k49Soy9nXurCi1o3qUbS3zWfrYeQDTB/Qj6kX6Ybhw4B+bOYoLKCC9H3Nu/leUTZ1JdRWkkn2ldcCamzrcf47KKXdAJllSlxAOkRgyHsGC/zRday5Qld9DyoM4/q/rUoy/CXh3jzOu3bHUVZeU+DEn8FInkPBFlu3+nW3Nw0mk6vCDiWg8CeJaxEwuHS3+z5RgY+YBR6V1Z1nxSOfoaPa4LASWxxdNp+VWTk7+4vzaou8v8PN+xo+KY2xsw6une2frhw05CTYOmQvsEhjhWjn0bmXPjpE1+kplmmkP3suftwTubK9Vq22qKmrBhpY4jvd5afdRA3wGjFAgcnTK2s4hY0/GPNIb0nErGMCRxWOOX64Z8RAC4oCXdklmEvcL8o0BfkNK4lUg9HTl+oPlQxdNo3Mg4Nv175e/1LDGzZen30MEjRUtmXSfiTVu1kK8W4txyV6BMKlbgk3lMwYCiusNy9fVfvvwMxv8Ynl6vxoByANLTWplvuj/nF9m2+PDtt1eiHPBr1oIfhCChQMBw6Aw0UulqTKZdfVvfG7VcfIqLG9bcldL/+pdWTLxLUy8Qq38heUIjh4XlzZxzQm19lLFlr8vdQ97rjZVOLf8nclzckbcD4wxXMidpX30sFd37Fv/GtwwhzhxGVAprjbg0gCAEeIgwCZyTV2Z1REEW8O4py0wsjeloKoMr6iCY6dP92H6Vw/oTyICIthibxjm/DfN9lVz8IqtqKYLUXfoKVMVQVVJOElGjrnnUt9T9wbgp8AyYKaGlqingHZU/uG2NTZSVqwHQTWkx9hxjkpWDaCg6Ckj5qebgBVbT3V3NNXMSiWSDdGV3hrtzla7J+duwPOToIg42ChPQOQjspnSlp1V+Gjdged7+8UN5CRAV7a5EdFNwCjEaBR27b3W890TE7g24NAP/mMDXRWrGoFPQI9ls/MWO2dWFAar/xcOIImbbpA3zgAAAABJRU5ErkJggg==);\n",
       "        }\n",
       "    </style>\n",
       "    <div>\n",
       "        <a href=\"https://bokeh.org\" target=\"_blank\" class=\"bk-notebook-logo\"></a>\n",
       "        <span id=\"fca3b6d0-eb36-4d89-ade7-04684f641641\">Loading BokehJS ...</span>\n",
       "    </div>\n"
      ]
     },
     "metadata": {},
     "output_type": "display_data"
    },
    {
     "data": {
      "application/javascript": [
       "(function(root) {\n",
       "  function now() {\n",
       "    return new Date();\n",
       "  }\n",
       "\n",
       "  const force = true;\n",
       "\n",
       "  if (typeof root._bokeh_onload_callbacks === \"undefined\" || force === true) {\n",
       "    root._bokeh_onload_callbacks = [];\n",
       "    root._bokeh_is_loading = undefined;\n",
       "  }\n",
       "\n",
       "const JS_MIME_TYPE = 'application/javascript';\n",
       "  const HTML_MIME_TYPE = 'text/html';\n",
       "  const EXEC_MIME_TYPE = 'application/vnd.bokehjs_exec.v0+json';\n",
       "  const CLASS_NAME = 'output_bokeh rendered_html';\n",
       "\n",
       "  /**\n",
       "   * Render data to the DOM node\n",
       "   */\n",
       "  function render(props, node) {\n",
       "    const script = document.createElement(\"script\");\n",
       "    node.appendChild(script);\n",
       "  }\n",
       "\n",
       "  /**\n",
       "   * Handle when an output is cleared or removed\n",
       "   */\n",
       "  function handleClearOutput(event, handle) {\n",
       "    function drop(id) {\n",
       "      const view = Bokeh.index.get_by_id(id)\n",
       "      if (view != null) {\n",
       "        view.model.document.clear()\n",
       "        Bokeh.index.delete(view)\n",
       "      }\n",
       "    }\n",
       "\n",
       "    const cell = handle.cell;\n",
       "\n",
       "    const id = cell.output_area._bokeh_element_id;\n",
       "    const server_id = cell.output_area._bokeh_server_id;\n",
       "\n",
       "    // Clean up Bokeh references\n",
       "    if (id != null) {\n",
       "      drop(id)\n",
       "    }\n",
       "\n",
       "    if (server_id !== undefined) {\n",
       "      // Clean up Bokeh references\n",
       "      const cmd_clean = \"from bokeh.io.state import curstate; print(curstate().uuid_to_server['\" + server_id + \"'].get_sessions()[0].document.roots[0]._id)\";\n",
       "      cell.notebook.kernel.execute(cmd_clean, {\n",
       "        iopub: {\n",
       "          output: function(msg) {\n",
       "            const id = msg.content.text.trim()\n",
       "            drop(id)\n",
       "          }\n",
       "        }\n",
       "      });\n",
       "      // Destroy server and session\n",
       "      const cmd_destroy = \"import bokeh.io.notebook as ion; ion.destroy_server('\" + server_id + \"')\";\n",
       "      cell.notebook.kernel.execute(cmd_destroy);\n",
       "    }\n",
       "  }\n",
       "\n",
       "  /**\n",
       "   * Handle when a new output is added\n",
       "   */\n",
       "  function handleAddOutput(event, handle) {\n",
       "    const output_area = handle.output_area;\n",
       "    const output = handle.output;\n",
       "\n",
       "    // limit handleAddOutput to display_data with EXEC_MIME_TYPE content only\n",
       "    if ((output.output_type != \"display_data\") || (!Object.prototype.hasOwnProperty.call(output.data, EXEC_MIME_TYPE))) {\n",
       "      return\n",
       "    }\n",
       "\n",
       "    const toinsert = output_area.element.find(\".\" + CLASS_NAME.split(' ')[0]);\n",
       "\n",
       "    if (output.metadata[EXEC_MIME_TYPE][\"id\"] !== undefined) {\n",
       "      toinsert[toinsert.length - 1].firstChild.textContent = output.data[JS_MIME_TYPE];\n",
       "      // store reference to embed id on output_area\n",
       "      output_area._bokeh_element_id = output.metadata[EXEC_MIME_TYPE][\"id\"];\n",
       "    }\n",
       "    if (output.metadata[EXEC_MIME_TYPE][\"server_id\"] !== undefined) {\n",
       "      const bk_div = document.createElement(\"div\");\n",
       "      bk_div.innerHTML = output.data[HTML_MIME_TYPE];\n",
       "      const script_attrs = bk_div.children[0].attributes;\n",
       "      for (let i = 0; i < script_attrs.length; i++) {\n",
       "        toinsert[toinsert.length - 1].firstChild.setAttribute(script_attrs[i].name, script_attrs[i].value);\n",
       "        toinsert[toinsert.length - 1].firstChild.textContent = bk_div.children[0].textContent\n",
       "      }\n",
       "      // store reference to server id on output_area\n",
       "      output_area._bokeh_server_id = output.metadata[EXEC_MIME_TYPE][\"server_id\"];\n",
       "    }\n",
       "  }\n",
       "\n",
       "  function register_renderer(events, OutputArea) {\n",
       "\n",
       "    function append_mime(data, metadata, element) {\n",
       "      // create a DOM node to render to\n",
       "      const toinsert = this.create_output_subarea(\n",
       "        metadata,\n",
       "        CLASS_NAME,\n",
       "        EXEC_MIME_TYPE\n",
       "      );\n",
       "      this.keyboard_manager.register_events(toinsert);\n",
       "      // Render to node\n",
       "      const props = {data: data, metadata: metadata[EXEC_MIME_TYPE]};\n",
       "      render(props, toinsert[toinsert.length - 1]);\n",
       "      element.append(toinsert);\n",
       "      return toinsert\n",
       "    }\n",
       "\n",
       "    /* Handle when an output is cleared or removed */\n",
       "    events.on('clear_output.CodeCell', handleClearOutput);\n",
       "    events.on('delete.Cell', handleClearOutput);\n",
       "\n",
       "    /* Handle when a new output is added */\n",
       "    events.on('output_added.OutputArea', handleAddOutput);\n",
       "\n",
       "    /**\n",
       "     * Register the mime type and append_mime function with output_area\n",
       "     */\n",
       "    OutputArea.prototype.register_mime_type(EXEC_MIME_TYPE, append_mime, {\n",
       "      /* Is output safe? */\n",
       "      safe: true,\n",
       "      /* Index of renderer in `output_area.display_order` */\n",
       "      index: 0\n",
       "    });\n",
       "  }\n",
       "\n",
       "  // register the mime type if in Jupyter Notebook environment and previously unregistered\n",
       "  if (root.Jupyter !== undefined) {\n",
       "    const events = require('base/js/events');\n",
       "    const OutputArea = require('notebook/js/outputarea').OutputArea;\n",
       "\n",
       "    if (OutputArea.prototype.mime_types().indexOf(EXEC_MIME_TYPE) == -1) {\n",
       "      register_renderer(events, OutputArea);\n",
       "    }\n",
       "  }\n",
       "  if (typeof (root._bokeh_timeout) === \"undefined\" || force === true) {\n",
       "    root._bokeh_timeout = Date.now() + 5000;\n",
       "    root._bokeh_failed_load = false;\n",
       "  }\n",
       "\n",
       "  const NB_LOAD_WARNING = {'data': {'text/html':\n",
       "     \"<div style='background-color: #fdd'>\\n\"+\n",
       "     \"<p>\\n\"+\n",
       "     \"BokehJS does not appear to have successfully loaded. If loading BokehJS from CDN, this \\n\"+\n",
       "     \"may be due to a slow or bad network connection. Possible fixes:\\n\"+\n",
       "     \"</p>\\n\"+\n",
       "     \"<ul>\\n\"+\n",
       "     \"<li>re-rerun `output_notebook()` to attempt to load from CDN again, or</li>\\n\"+\n",
       "     \"<li>use INLINE resources instead, as so:</li>\\n\"+\n",
       "     \"</ul>\\n\"+\n",
       "     \"<code>\\n\"+\n",
       "     \"from bokeh.resources import INLINE\\n\"+\n",
       "     \"output_notebook(resources=INLINE)\\n\"+\n",
       "     \"</code>\\n\"+\n",
       "     \"</div>\"}};\n",
       "\n",
       "  function display_loaded() {\n",
       "    const el = document.getElementById(\"fca3b6d0-eb36-4d89-ade7-04684f641641\");\n",
       "    if (el != null) {\n",
       "      el.textContent = \"BokehJS is loading...\";\n",
       "    }\n",
       "    if (root.Bokeh !== undefined) {\n",
       "      if (el != null) {\n",
       "        el.textContent = \"BokehJS \" + root.Bokeh.version + \" successfully loaded.\";\n",
       "      }\n",
       "    } else if (Date.now() < root._bokeh_timeout) {\n",
       "      setTimeout(display_loaded, 100)\n",
       "    }\n",
       "  }\n",
       "\n",
       "  function run_callbacks() {\n",
       "    try {\n",
       "      root._bokeh_onload_callbacks.forEach(function(callback) {\n",
       "        if (callback != null)\n",
       "          callback();\n",
       "      });\n",
       "    } finally {\n",
       "      delete root._bokeh_onload_callbacks\n",
       "    }\n",
       "    console.debug(\"Bokeh: all callbacks have finished\");\n",
       "  }\n",
       "\n",
       "  function load_libs(css_urls, js_urls, callback) {\n",
       "    if (css_urls == null) css_urls = [];\n",
       "    if (js_urls == null) js_urls = [];\n",
       "\n",
       "    root._bokeh_onload_callbacks.push(callback);\n",
       "    if (root._bokeh_is_loading > 0) {\n",
       "      console.debug(\"Bokeh: BokehJS is being loaded, scheduling callback at\", now());\n",
       "      return null;\n",
       "    }\n",
       "    if (js_urls == null || js_urls.length === 0) {\n",
       "      run_callbacks();\n",
       "      return null;\n",
       "    }\n",
       "    console.debug(\"Bokeh: BokehJS not loaded, scheduling load and callback at\", now());\n",
       "    root._bokeh_is_loading = css_urls.length + js_urls.length;\n",
       "\n",
       "    function on_load() {\n",
       "      root._bokeh_is_loading--;\n",
       "      if (root._bokeh_is_loading === 0) {\n",
       "        console.debug(\"Bokeh: all BokehJS libraries/stylesheets loaded\");\n",
       "        run_callbacks()\n",
       "      }\n",
       "    }\n",
       "\n",
       "    function on_error(url) {\n",
       "      console.error(\"failed to load \" + url);\n",
       "    }\n",
       "\n",
       "    for (let i = 0; i < css_urls.length; i++) {\n",
       "      const url = css_urls[i];\n",
       "      const element = document.createElement(\"link\");\n",
       "      element.onload = on_load;\n",
       "      element.onerror = on_error.bind(null, url);\n",
       "      element.rel = \"stylesheet\";\n",
       "      element.type = \"text/css\";\n",
       "      element.href = url;\n",
       "      console.debug(\"Bokeh: injecting link tag for BokehJS stylesheet: \", url);\n",
       "      document.body.appendChild(element);\n",
       "    }\n",
       "\n",
       "    for (let i = 0; i < js_urls.length; i++) {\n",
       "      const url = js_urls[i];\n",
       "      const element = document.createElement('script');\n",
       "      element.onload = on_load;\n",
       "      element.onerror = on_error.bind(null, url);\n",
       "      element.async = false;\n",
       "      element.src = url;\n",
       "      console.debug(\"Bokeh: injecting script tag for BokehJS library: \", url);\n",
       "      document.head.appendChild(element);\n",
       "    }\n",
       "  };\n",
       "\n",
       "  function inject_raw_css(css) {\n",
       "    const element = document.createElement(\"style\");\n",
       "    element.appendChild(document.createTextNode(css));\n",
       "    document.body.appendChild(element);\n",
       "  }\n",
       "\n",
       "  const js_urls = [\"https://cdn.bokeh.org/bokeh/release/bokeh-3.3.4.min.js\", \"https://cdn.bokeh.org/bokeh/release/bokeh-gl-3.3.4.min.js\", \"https://cdn.bokeh.org/bokeh/release/bokeh-widgets-3.3.4.min.js\", \"https://cdn.bokeh.org/bokeh/release/bokeh-tables-3.3.4.min.js\", \"https://cdn.bokeh.org/bokeh/release/bokeh-mathjax-3.3.4.min.js\"];\n",
       "  const css_urls = [];\n",
       "\n",
       "  const inline_js = [    function(Bokeh) {\n",
       "      Bokeh.set_log_level(\"info\");\n",
       "    },\n",
       "function(Bokeh) {\n",
       "    }\n",
       "  ];\n",
       "\n",
       "  function run_inline_js() {\n",
       "    if (root.Bokeh !== undefined || force === true) {\n",
       "          for (let i = 0; i < inline_js.length; i++) {\n",
       "      inline_js[i].call(root, root.Bokeh);\n",
       "    }\n",
       "if (force === true) {\n",
       "        display_loaded();\n",
       "      }} else if (Date.now() < root._bokeh_timeout) {\n",
       "      setTimeout(run_inline_js, 100);\n",
       "    } else if (!root._bokeh_failed_load) {\n",
       "      console.log(\"Bokeh: BokehJS failed to load within specified timeout.\");\n",
       "      root._bokeh_failed_load = true;\n",
       "    } else if (force !== true) {\n",
       "      const cell = $(document.getElementById(\"fca3b6d0-eb36-4d89-ade7-04684f641641\")).parents('.cell').data().cell;\n",
       "      cell.output_area.append_execute_result(NB_LOAD_WARNING)\n",
       "    }\n",
       "  }\n",
       "\n",
       "  if (root._bokeh_is_loading === 0) {\n",
       "    console.debug(\"Bokeh: BokehJS loaded, going straight to plotting\");\n",
       "    run_inline_js();\n",
       "  } else {\n",
       "    load_libs(css_urls, js_urls, function() {\n",
       "      console.debug(\"Bokeh: BokehJS plotting callback run at\", now());\n",
       "      run_inline_js();\n",
       "    });\n",
       "  }\n",
       "}(window));"
      ],
      "application/vnd.bokehjs_load.v0+json": "(function(root) {\n  function now() {\n    return new Date();\n  }\n\n  const force = true;\n\n  if (typeof root._bokeh_onload_callbacks === \"undefined\" || force === true) {\n    root._bokeh_onload_callbacks = [];\n    root._bokeh_is_loading = undefined;\n  }\n\n\n  if (typeof (root._bokeh_timeout) === \"undefined\" || force === true) {\n    root._bokeh_timeout = Date.now() + 5000;\n    root._bokeh_failed_load = false;\n  }\n\n  const NB_LOAD_WARNING = {'data': {'text/html':\n     \"<div style='background-color: #fdd'>\\n\"+\n     \"<p>\\n\"+\n     \"BokehJS does not appear to have successfully loaded. If loading BokehJS from CDN, this \\n\"+\n     \"may be due to a slow or bad network connection. Possible fixes:\\n\"+\n     \"</p>\\n\"+\n     \"<ul>\\n\"+\n     \"<li>re-rerun `output_notebook()` to attempt to load from CDN again, or</li>\\n\"+\n     \"<li>use INLINE resources instead, as so:</li>\\n\"+\n     \"</ul>\\n\"+\n     \"<code>\\n\"+\n     \"from bokeh.resources import INLINE\\n\"+\n     \"output_notebook(resources=INLINE)\\n\"+\n     \"</code>\\n\"+\n     \"</div>\"}};\n\n  function display_loaded() {\n    const el = document.getElementById(\"fca3b6d0-eb36-4d89-ade7-04684f641641\");\n    if (el != null) {\n      el.textContent = \"BokehJS is loading...\";\n    }\n    if (root.Bokeh !== undefined) {\n      if (el != null) {\n        el.textContent = \"BokehJS \" + root.Bokeh.version + \" successfully loaded.\";\n      }\n    } else if (Date.now() < root._bokeh_timeout) {\n      setTimeout(display_loaded, 100)\n    }\n  }\n\n  function run_callbacks() {\n    try {\n      root._bokeh_onload_callbacks.forEach(function(callback) {\n        if (callback != null)\n          callback();\n      });\n    } finally {\n      delete root._bokeh_onload_callbacks\n    }\n    console.debug(\"Bokeh: all callbacks have finished\");\n  }\n\n  function load_libs(css_urls, js_urls, callback) {\n    if (css_urls == null) css_urls = [];\n    if (js_urls == null) js_urls = [];\n\n    root._bokeh_onload_callbacks.push(callback);\n    if (root._bokeh_is_loading > 0) {\n      console.debug(\"Bokeh: BokehJS is being loaded, scheduling callback at\", now());\n      return null;\n    }\n    if (js_urls == null || js_urls.length === 0) {\n      run_callbacks();\n      return null;\n    }\n    console.debug(\"Bokeh: BokehJS not loaded, scheduling load and callback at\", now());\n    root._bokeh_is_loading = css_urls.length + js_urls.length;\n\n    function on_load() {\n      root._bokeh_is_loading--;\n      if (root._bokeh_is_loading === 0) {\n        console.debug(\"Bokeh: all BokehJS libraries/stylesheets loaded\");\n        run_callbacks()\n      }\n    }\n\n    function on_error(url) {\n      console.error(\"failed to load \" + url);\n    }\n\n    for (let i = 0; i < css_urls.length; i++) {\n      const url = css_urls[i];\n      const element = document.createElement(\"link\");\n      element.onload = on_load;\n      element.onerror = on_error.bind(null, url);\n      element.rel = \"stylesheet\";\n      element.type = \"text/css\";\n      element.href = url;\n      console.debug(\"Bokeh: injecting link tag for BokehJS stylesheet: \", url);\n      document.body.appendChild(element);\n    }\n\n    for (let i = 0; i < js_urls.length; i++) {\n      const url = js_urls[i];\n      const element = document.createElement('script');\n      element.onload = on_load;\n      element.onerror = on_error.bind(null, url);\n      element.async = false;\n      element.src = url;\n      console.debug(\"Bokeh: injecting script tag for BokehJS library: \", url);\n      document.head.appendChild(element);\n    }\n  };\n\n  function inject_raw_css(css) {\n    const element = document.createElement(\"style\");\n    element.appendChild(document.createTextNode(css));\n    document.body.appendChild(element);\n  }\n\n  const js_urls = [\"https://cdn.bokeh.org/bokeh/release/bokeh-3.3.4.min.js\", \"https://cdn.bokeh.org/bokeh/release/bokeh-gl-3.3.4.min.js\", \"https://cdn.bokeh.org/bokeh/release/bokeh-widgets-3.3.4.min.js\", \"https://cdn.bokeh.org/bokeh/release/bokeh-tables-3.3.4.min.js\", \"https://cdn.bokeh.org/bokeh/release/bokeh-mathjax-3.3.4.min.js\"];\n  const css_urls = [];\n\n  const inline_js = [    function(Bokeh) {\n      Bokeh.set_log_level(\"info\");\n    },\nfunction(Bokeh) {\n    }\n  ];\n\n  function run_inline_js() {\n    if (root.Bokeh !== undefined || force === true) {\n          for (let i = 0; i < inline_js.length; i++) {\n      inline_js[i].call(root, root.Bokeh);\n    }\nif (force === true) {\n        display_loaded();\n      }} else if (Date.now() < root._bokeh_timeout) {\n      setTimeout(run_inline_js, 100);\n    } else if (!root._bokeh_failed_load) {\n      console.log(\"Bokeh: BokehJS failed to load within specified timeout.\");\n      root._bokeh_failed_load = true;\n    } else if (force !== true) {\n      const cell = $(document.getElementById(\"fca3b6d0-eb36-4d89-ade7-04684f641641\")).parents('.cell').data().cell;\n      cell.output_area.append_execute_result(NB_LOAD_WARNING)\n    }\n  }\n\n  if (root._bokeh_is_loading === 0) {\n    console.debug(\"Bokeh: BokehJS loaded, going straight to plotting\");\n    run_inline_js();\n  } else {\n    load_libs(css_urls, js_urls, function() {\n      console.debug(\"Bokeh: BokehJS plotting callback run at\", now());\n      run_inline_js();\n    });\n  }\n}(window));"
     },
     "metadata": {},
     "output_type": "display_data"
    }
   ],
   "source": [
    "output_notebook()"
   ]
  },
  {
   "cell_type": "code",
   "execution_count": 9,
   "id": "33d20f1d-b763-4939-91a4-84ed0b32d134",
   "metadata": {},
   "outputs": [
    {
     "data": {
      "text/html": [
       "<div>\n",
       "<style scoped>\n",
       "    .dataframe tbody tr th:only-of-type {\n",
       "        vertical-align: middle;\n",
       "    }\n",
       "\n",
       "    .dataframe tbody tr th {\n",
       "        vertical-align: top;\n",
       "    }\n",
       "\n",
       "    .dataframe thead th {\n",
       "        text-align: right;\n",
       "    }\n",
       "</style>\n",
       "<table border=\"1\" class=\"dataframe\">\n",
       "  <thead>\n",
       "    <tr style=\"text-align: right;\">\n",
       "      <th></th>\n",
       "      <th>year</th>\n",
       "      <th>make</th>\n",
       "      <th>model</th>\n",
       "      <th>trim</th>\n",
       "      <th>body</th>\n",
       "      <th>transmission</th>\n",
       "      <th>vin</th>\n",
       "      <th>state</th>\n",
       "      <th>condition</th>\n",
       "      <th>odometer</th>\n",
       "      <th>color</th>\n",
       "      <th>interior</th>\n",
       "      <th>seller</th>\n",
       "      <th>mmr</th>\n",
       "      <th>sellingprice</th>\n",
       "      <th>saledate</th>\n",
       "    </tr>\n",
       "  </thead>\n",
       "  <tbody>\n",
       "    <tr>\n",
       "      <th>0</th>\n",
       "      <td>2015</td>\n",
       "      <td>Kia</td>\n",
       "      <td>Sorento</td>\n",
       "      <td>LX</td>\n",
       "      <td>SUV</td>\n",
       "      <td>automatic</td>\n",
       "      <td>5xyktca69fg566472</td>\n",
       "      <td>ca</td>\n",
       "      <td>5.0</td>\n",
       "      <td>16639.0</td>\n",
       "      <td>white</td>\n",
       "      <td>black</td>\n",
       "      <td>kia motors america  inc</td>\n",
       "      <td>20500.0</td>\n",
       "      <td>21500.0</td>\n",
       "      <td>Tue Dec 16 2014 12:30:00 GMT-0800 (PST)</td>\n",
       "    </tr>\n",
       "    <tr>\n",
       "      <th>1</th>\n",
       "      <td>2015</td>\n",
       "      <td>Kia</td>\n",
       "      <td>Sorento</td>\n",
       "      <td>LX</td>\n",
       "      <td>SUV</td>\n",
       "      <td>automatic</td>\n",
       "      <td>5xyktca69fg561319</td>\n",
       "      <td>ca</td>\n",
       "      <td>5.0</td>\n",
       "      <td>9393.0</td>\n",
       "      <td>white</td>\n",
       "      <td>beige</td>\n",
       "      <td>kia motors america  inc</td>\n",
       "      <td>20800.0</td>\n",
       "      <td>21500.0</td>\n",
       "      <td>Tue Dec 16 2014 12:30:00 GMT-0800 (PST)</td>\n",
       "    </tr>\n",
       "    <tr>\n",
       "      <th>2</th>\n",
       "      <td>2014</td>\n",
       "      <td>BMW</td>\n",
       "      <td>3 Series</td>\n",
       "      <td>328i SULEV</td>\n",
       "      <td>Sedan</td>\n",
       "      <td>automatic</td>\n",
       "      <td>wba3c1c51ek116351</td>\n",
       "      <td>ca</td>\n",
       "      <td>45.0</td>\n",
       "      <td>1331.0</td>\n",
       "      <td>gray</td>\n",
       "      <td>black</td>\n",
       "      <td>financial services remarketing (lease)</td>\n",
       "      <td>31900.0</td>\n",
       "      <td>30000.0</td>\n",
       "      <td>Thu Jan 15 2015 04:30:00 GMT-0800 (PST)</td>\n",
       "    </tr>\n",
       "    <tr>\n",
       "      <th>3</th>\n",
       "      <td>2015</td>\n",
       "      <td>Volvo</td>\n",
       "      <td>S60</td>\n",
       "      <td>T5</td>\n",
       "      <td>Sedan</td>\n",
       "      <td>automatic</td>\n",
       "      <td>yv1612tb4f1310987</td>\n",
       "      <td>ca</td>\n",
       "      <td>41.0</td>\n",
       "      <td>14282.0</td>\n",
       "      <td>white</td>\n",
       "      <td>black</td>\n",
       "      <td>volvo na rep/world omni</td>\n",
       "      <td>27500.0</td>\n",
       "      <td>27750.0</td>\n",
       "      <td>Thu Jan 29 2015 04:30:00 GMT-0800 (PST)</td>\n",
       "    </tr>\n",
       "    <tr>\n",
       "      <th>4</th>\n",
       "      <td>2014</td>\n",
       "      <td>BMW</td>\n",
       "      <td>6 Series Gran Coupe</td>\n",
       "      <td>650i</td>\n",
       "      <td>Sedan</td>\n",
       "      <td>automatic</td>\n",
       "      <td>wba6b2c57ed129731</td>\n",
       "      <td>ca</td>\n",
       "      <td>43.0</td>\n",
       "      <td>2641.0</td>\n",
       "      <td>gray</td>\n",
       "      <td>black</td>\n",
       "      <td>financial services remarketing (lease)</td>\n",
       "      <td>66000.0</td>\n",
       "      <td>67000.0</td>\n",
       "      <td>Thu Dec 18 2014 12:30:00 GMT-0800 (PST)</td>\n",
       "    </tr>\n",
       "    <tr>\n",
       "      <th>...</th>\n",
       "      <td>...</td>\n",
       "      <td>...</td>\n",
       "      <td>...</td>\n",
       "      <td>...</td>\n",
       "      <td>...</td>\n",
       "      <td>...</td>\n",
       "      <td>...</td>\n",
       "      <td>...</td>\n",
       "      <td>...</td>\n",
       "      <td>...</td>\n",
       "      <td>...</td>\n",
       "      <td>...</td>\n",
       "      <td>...</td>\n",
       "      <td>...</td>\n",
       "      <td>...</td>\n",
       "      <td>...</td>\n",
       "    </tr>\n",
       "    <tr>\n",
       "      <th>558832</th>\n",
       "      <td>2015</td>\n",
       "      <td>Kia</td>\n",
       "      <td>K900</td>\n",
       "      <td>Luxury</td>\n",
       "      <td>Sedan</td>\n",
       "      <td>NaN</td>\n",
       "      <td>knalw4d4xf6019304</td>\n",
       "      <td>in</td>\n",
       "      <td>45.0</td>\n",
       "      <td>18255.0</td>\n",
       "      <td>silver</td>\n",
       "      <td>black</td>\n",
       "      <td>avis corporation</td>\n",
       "      <td>35300.0</td>\n",
       "      <td>33000.0</td>\n",
       "      <td>Thu Jul 09 2015 07:00:00 GMT-0700 (PDT)</td>\n",
       "    </tr>\n",
       "    <tr>\n",
       "      <th>558833</th>\n",
       "      <td>2012</td>\n",
       "      <td>Ram</td>\n",
       "      <td>2500</td>\n",
       "      <td>Power Wagon</td>\n",
       "      <td>Crew Cab</td>\n",
       "      <td>automatic</td>\n",
       "      <td>3c6td5et6cg112407</td>\n",
       "      <td>wa</td>\n",
       "      <td>5.0</td>\n",
       "      <td>54393.0</td>\n",
       "      <td>white</td>\n",
       "      <td>black</td>\n",
       "      <td>i -5 uhlmann rv</td>\n",
       "      <td>30200.0</td>\n",
       "      <td>30800.0</td>\n",
       "      <td>Wed Jul 08 2015 09:30:00 GMT-0700 (PDT)</td>\n",
       "    </tr>\n",
       "    <tr>\n",
       "      <th>558834</th>\n",
       "      <td>2012</td>\n",
       "      <td>BMW</td>\n",
       "      <td>X5</td>\n",
       "      <td>xDrive35d</td>\n",
       "      <td>SUV</td>\n",
       "      <td>automatic</td>\n",
       "      <td>5uxzw0c58cl668465</td>\n",
       "      <td>ca</td>\n",
       "      <td>48.0</td>\n",
       "      <td>50561.0</td>\n",
       "      <td>black</td>\n",
       "      <td>black</td>\n",
       "      <td>financial services remarketing (lease)</td>\n",
       "      <td>29800.0</td>\n",
       "      <td>34000.0</td>\n",
       "      <td>Wed Jul 08 2015 09:30:00 GMT-0700 (PDT)</td>\n",
       "    </tr>\n",
       "    <tr>\n",
       "      <th>558835</th>\n",
       "      <td>2015</td>\n",
       "      <td>Nissan</td>\n",
       "      <td>Altima</td>\n",
       "      <td>2.5 S</td>\n",
       "      <td>sedan</td>\n",
       "      <td>automatic</td>\n",
       "      <td>1n4al3ap0fc216050</td>\n",
       "      <td>ga</td>\n",
       "      <td>38.0</td>\n",
       "      <td>16658.0</td>\n",
       "      <td>white</td>\n",
       "      <td>black</td>\n",
       "      <td>enterprise vehicle exchange / tra / rental / t...</td>\n",
       "      <td>15100.0</td>\n",
       "      <td>11100.0</td>\n",
       "      <td>Thu Jul 09 2015 06:45:00 GMT-0700 (PDT)</td>\n",
       "    </tr>\n",
       "    <tr>\n",
       "      <th>558836</th>\n",
       "      <td>2014</td>\n",
       "      <td>Ford</td>\n",
       "      <td>F-150</td>\n",
       "      <td>XLT</td>\n",
       "      <td>SuperCrew</td>\n",
       "      <td>automatic</td>\n",
       "      <td>1ftfw1et2eke87277</td>\n",
       "      <td>ca</td>\n",
       "      <td>34.0</td>\n",
       "      <td>15008.0</td>\n",
       "      <td>gray</td>\n",
       "      <td>gray</td>\n",
       "      <td>ford motor credit company llc pd</td>\n",
       "      <td>29600.0</td>\n",
       "      <td>26700.0</td>\n",
       "      <td>Thu May 28 2015 05:30:00 GMT-0700 (PDT)</td>\n",
       "    </tr>\n",
       "  </tbody>\n",
       "</table>\n",
       "<p>558837 rows × 16 columns</p>\n",
       "</div>"
      ],
      "text/plain": [
       "        year    make                model         trim       body  \\\n",
       "0       2015     Kia              Sorento           LX        SUV   \n",
       "1       2015     Kia              Sorento           LX        SUV   \n",
       "2       2014     BMW             3 Series   328i SULEV      Sedan   \n",
       "3       2015   Volvo                  S60           T5      Sedan   \n",
       "4       2014     BMW  6 Series Gran Coupe         650i      Sedan   \n",
       "...      ...     ...                  ...          ...        ...   \n",
       "558832  2015     Kia                 K900       Luxury      Sedan   \n",
       "558833  2012     Ram                 2500  Power Wagon   Crew Cab   \n",
       "558834  2012     BMW                   X5    xDrive35d        SUV   \n",
       "558835  2015  Nissan               Altima        2.5 S      sedan   \n",
       "558836  2014    Ford                F-150          XLT  SuperCrew   \n",
       "\n",
       "       transmission                vin state  condition  odometer   color  \\\n",
       "0         automatic  5xyktca69fg566472    ca        5.0   16639.0   white   \n",
       "1         automatic  5xyktca69fg561319    ca        5.0    9393.0   white   \n",
       "2         automatic  wba3c1c51ek116351    ca       45.0    1331.0    gray   \n",
       "3         automatic  yv1612tb4f1310987    ca       41.0   14282.0   white   \n",
       "4         automatic  wba6b2c57ed129731    ca       43.0    2641.0    gray   \n",
       "...             ...                ...   ...        ...       ...     ...   \n",
       "558832          NaN  knalw4d4xf6019304    in       45.0   18255.0  silver   \n",
       "558833    automatic  3c6td5et6cg112407    wa        5.0   54393.0   white   \n",
       "558834    automatic  5uxzw0c58cl668465    ca       48.0   50561.0   black   \n",
       "558835    automatic  1n4al3ap0fc216050    ga       38.0   16658.0   white   \n",
       "558836    automatic  1ftfw1et2eke87277    ca       34.0   15008.0    gray   \n",
       "\n",
       "       interior                                             seller      mmr  \\\n",
       "0         black                            kia motors america  inc  20500.0   \n",
       "1         beige                            kia motors america  inc  20800.0   \n",
       "2         black             financial services remarketing (lease)  31900.0   \n",
       "3         black                            volvo na rep/world omni  27500.0   \n",
       "4         black             financial services remarketing (lease)  66000.0   \n",
       "...         ...                                                ...      ...   \n",
       "558832    black                                   avis corporation  35300.0   \n",
       "558833    black                                    i -5 uhlmann rv  30200.0   \n",
       "558834    black             financial services remarketing (lease)  29800.0   \n",
       "558835    black  enterprise vehicle exchange / tra / rental / t...  15100.0   \n",
       "558836     gray                   ford motor credit company llc pd  29600.0   \n",
       "\n",
       "        sellingprice                                 saledate  \n",
       "0            21500.0  Tue Dec 16 2014 12:30:00 GMT-0800 (PST)  \n",
       "1            21500.0  Tue Dec 16 2014 12:30:00 GMT-0800 (PST)  \n",
       "2            30000.0  Thu Jan 15 2015 04:30:00 GMT-0800 (PST)  \n",
       "3            27750.0  Thu Jan 29 2015 04:30:00 GMT-0800 (PST)  \n",
       "4            67000.0  Thu Dec 18 2014 12:30:00 GMT-0800 (PST)  \n",
       "...              ...                                      ...  \n",
       "558832       33000.0  Thu Jul 09 2015 07:00:00 GMT-0700 (PDT)  \n",
       "558833       30800.0  Wed Jul 08 2015 09:30:00 GMT-0700 (PDT)  \n",
       "558834       34000.0  Wed Jul 08 2015 09:30:00 GMT-0700 (PDT)  \n",
       "558835       11100.0  Thu Jul 09 2015 06:45:00 GMT-0700 (PDT)  \n",
       "558836       26700.0  Thu May 28 2015 05:30:00 GMT-0700 (PDT)  \n",
       "\n",
       "[558837 rows x 16 columns]"
      ]
     },
     "execution_count": 9,
     "metadata": {},
     "output_type": "execute_result"
    }
   ],
   "source": [
    "df = pd.read_csv(\"../data/car_prices.csv\")\n",
    "df"
   ]
  },
  {
   "cell_type": "code",
   "execution_count": 10,
   "id": "8d6bd63c-da22-4303-995a-4f6783e70fe7",
   "metadata": {},
   "outputs": [
    {
     "data": {
      "text/plain": [
       "{'lincoln': 'Lincoln',\n",
       " 'bmw': 'Bmw',\n",
       " 'ford': 'Ford',\n",
       " 'mitsubishi': 'Mitsubishi',\n",
       " 'smart': 'Smart',\n",
       " 'chevrolet': 'Chevrolet',\n",
       " 'chrysler': 'Chrysler',\n",
       " 'pontiac': 'Pontiac',\n",
       " 'landrover': 'Landrover',\n",
       " 'cadillac': 'Cadillac',\n",
       " 'land rover': 'Land Rover',\n",
       " 'mercedes': 'Mercedes',\n",
       " 'mazda': 'Mazda',\n",
       " 'toyota': 'Toyota',\n",
       " 'lexus': 'Lexus',\n",
       " 'gmc truck': 'Gmc Truck',\n",
       " 'honda': 'Honda',\n",
       " 'nissan': 'Nissan',\n",
       " 'porsche': 'Porsche',\n",
       " 'dodge': 'Dodge',\n",
       " 'subaru': 'Subaru',\n",
       " 'oldsmobile': 'Oldsmobile',\n",
       " 'hyundai': 'Hyundai',\n",
       " 'jeep': 'Jeep',\n",
       " 'dodge tk': 'Dodge Tk',\n",
       " 'acura': 'Acura',\n",
       " 'volkswagen': 'Volkswagen',\n",
       " 'suzuki': 'Suzuki',\n",
       " 'kia': 'Kia',\n",
       " 'audi': 'Audi',\n",
       " 'gmc': 'Gmc',\n",
       " 'maserati': 'Maserati',\n",
       " 'mazda tk': 'Mazda Tk',\n",
       " 'mercury': 'Mercury',\n",
       " 'buick': 'Buick',\n",
       " 'hyundai tk': 'Hyundai Tk',\n",
       " 'mercedes-b': 'Mercedes-B',\n",
       " 'vw': 'Vw',\n",
       " 'chev truck': 'Chev Truck',\n",
       " 'ford tk': 'Ford Tk',\n",
       " 'plymouth': 'Plymouth',\n",
       " 'ford truck': 'Ford Truck',\n",
       " 'airstream': 'Airstream',\n",
       " 'dot': 'Dot'}"
      ]
     },
     "execution_count": 10,
     "metadata": {},
     "output_type": "execute_result"
    }
   ],
   "source": [
    "import re\n",
    "\n",
    "def has_no_capital_letters(text):\n",
    "    return not bool(re.search(r'[A-Z]', text))\n",
    "\n",
    "bad_make_labels=[make for make in df['make'].dropna().unique() if has_no_capital_letters(make)]\n",
    "make_labels_dict={bad_make_label:bad_make_label.title() for bad_make_label in bad_make_labels}\n",
    "make_labels_dict"
   ]
  },
  {
   "cell_type": "code",
   "execution_count": 11,
   "id": "7b2390cc-f6c1-4eae-b3bd-837cb986b6a7",
   "metadata": {},
   "outputs": [
    {
     "data": {
      "text/plain": [
       "array(['Kia', 'BMW', 'Volvo', 'Nissan', 'Chevrolet', 'Audi', 'Ford',\n",
       "       'Hyundai', 'Buick', 'Cadillac', 'Acura', 'Lexus', 'Infiniti',\n",
       "       'Jeep', 'Mercedes-Benz', 'Mitsubishi', 'Mazda', 'MINI',\n",
       "       'Land Rover', 'Lincoln', 'Jaguar', 'Volkswagen', 'Toyota',\n",
       "       'Subaru', 'Scion', 'Porsche', nan, 'Dodge', 'FIAT', 'Chrysler',\n",
       "       'Ferrari', 'Honda', 'GMC', 'Ram', 'Smart', 'Bentley', 'Pontiac',\n",
       "       'Saturn', 'Maserati', 'Mercury', 'HUMMER', 'GMC Truck', 'Saab',\n",
       "       'Suzuki', 'Oldsmobile', 'Isuzu', 'Dodge Truck', 'Geo',\n",
       "       'Rolls-Royce', 'Mazda Truck', 'Hyundai Truck', 'Daewoo',\n",
       "       'Chev Truck', 'Ford Truck', 'Plymouth', 'Tesla', 'Airstream',\n",
       "       'Dot', 'Aston Martin', 'Fisker', 'Lamborghini', 'Lotus'],\n",
       "      dtype=object)"
      ]
     },
     "execution_count": 11,
     "metadata": {},
     "output_type": "execute_result"
    }
   ],
   "source": [
    "df['make']=df['make'].apply(lambda x:make_labels_dict[x] if x in make_labels_dict else x)\n",
    "make_labels_dict_2={\n",
    "    'Bmw':'BMW',\n",
    "    'Ford Tk':'Ford Truck',\n",
    "    'Gmc':'GMC',\n",
    "    'Gmc Truck':'GMC Truck',\n",
    "    'Landrover':'Land Rover',\n",
    "    'Mercedes-B':'Mercedes-Benz',\n",
    "    'Mercedes':'Mercedes-Benz',\n",
    "    'Vw':'Volkswagen',\n",
    "}\n",
    "\n",
    "df['make']=df['make'].apply(lambda x:make_labels_dict_2[x] if x in make_labels_dict_2 else x)\n",
    "\n",
    "df['make']=df['make'].str.replace(' Tk', ' Truck',regex=True)\n",
    "\n",
    "df['make'].unique()"
   ]
  },
  {
   "cell_type": "code",
   "execution_count": 12,
   "id": "c9b7b89f-debe-4bf9-badd-f8c63fac9323",
   "metadata": {},
   "outputs": [
    {
     "data": {
      "text/plain": [
       "{(1982, nan): [207920, 530893], (1983, nan): [368682], (1984, 'Chevrolet'): [78404], (1984, nan): [102085, 174101, 182345, 234576], (1985, 'Chevrolet'): [41335, 41339], (1985, nan): [41336, 166358, 281625, 293303, 473480, 488121, 552718, 556442], (1986, 'Chevrolet'): [95346], (1986, 'Mercedes-Benz'): [7731], (1986, nan): [41338, 182344, 191462, 207919, 293301, 348259, 440142, 530892, 547229], (1987, 'Mercedes-Benz'): [5267], (1987, nan): [41340, 41341, 68235, 191464, 331792, 460004, 530894], (1988, nan): [60242, 143821, 166355, 166356, 167910, 191465, 234575, 234577, 281626, 348260, 385544], (1989, 'Chevrolet'): [109983, 137436], (1989, 'Mercedes-Benz'): [5278, 5285], (1989, 'Toyota'): [5271, 60238], (1989, nan): [5274, 109985, 207432, 218171, 218175, 234566, 234569, 234572, 281627, 335774, 449722, 449723, 462886, 481527], (1990, 'Cadillac'): [109986], (1990, 'Chevrolet'): [7720, 30255, 41337, 49557, 293302, 363610, 435610, 552716], (1990, 'Honda'): [30250, 30281, 60235, 78403, 166359, 207921, 460000, 481528, 530870, 547231], (1990, 'Jaguar'): [462885], (1990, 'Lexus'): [30270, 49555, 60241, 137434, 218178, 234565, 321801], (1990, 'Mazda'): [207434, 321804, 385540, 394764, 445207], (1990, 'Mercedes-Benz'): [60240, 411101], (1990, 'Nissan'): [102083, 109984, 300938], (1990, 'Toyota'): [30242, 30271, 49556, 86713, 137426, 137435, 394762, 399830], (1990, nan): [187571, 234571, 361577, 553521], (1991, 'BMW'): [394760], (1991, 'Buick'): [30265, 49479, 109980], (1991, 'Cadillac'): [137431, 207433, 265412, 547230], (1991, 'Chevrolet'): [49466, 84854, 137432, 460002, 513408], (1991, 'Ford'): [547232], (1991, 'Honda'): [49476, 60234, 156322, 166349, 166357, 174100, 265411, 321807, 513406, 547233], (1991, 'Lexus'): [5289, 95345, 166352, 372938], (1991, 'Lincoln'): [143819, 156321], (1991, 'Mazda'): [60239, 78388, 166350, 530886], (1991, 'Mercedes-Benz'): [30243, 30245, 49472, 137428, 218176, 335773, 379368, 394765, 412661, 459999], (1991, 'Nissan'): [30264, 452280], (1991, 'Oldsmobile'): [445209], (1991, 'Toyota'): [30254, 30259, 30267, 30268, 49470, 49486, 60236, 60237, 78385, 137429, 156332, 265410, 308361, 337548, 382316, 385542, 460003, 503649], (1991, nan): [187573, 218179], (1992, 'BMW'): [321810], (1992, 'Buick'): [30251, 49474, 49478, 60211, 218173, 321803, 481530, 495551, 518929, 530891], (1992, 'Cadillac'): [5273, 5281, 60216, 84853, 248371, 530875], (1992, 'Chevrolet'): [95342, 131541, 171783, 174095, 179302, 445213, 513407], (1992, 'Ford'): [30274, 141827, 271258, 382313], (1992, 'Honda'): [5270, 5294, 30276, 30277, 49473, 60220, 109987, 137424, 137433, 174097, 182343, 207438, 218172, 218177, 234567, 265413, 281617, 300929, 329778, 379369, 530876, 552720], (1992, 'Jeep'): [30279, 218174], (1992, 'Lexus'): [7730, 30241, 30246, 30248, 30249, 30260, 49484, 95344, 137430, 166348, 166353, 187568, 248372, 356147, 385537, 404956, 459998, 460001, 530885], (1992, 'Lincoln'): [84850, 300935, 552721], (1992, 'Mazda'): [137425, 368681, 385539, 552717], (1992, 'Mercedes-Benz'): [30263, 137427, 234574], (1992, 'Mercury'): [78396, 109981, 248369, 399824], (1992, 'Nissan'): [293295], (1992, 'Oldsmobile'): [5296, 385538, 530882], (1992, 'Pontiac'): [394761, 394767], (1992, 'Saturn'): [84855], (1992, 'Toyota'): [5275, 5286, 30256, 30257, 30273, 30280, 49475, 60217, 60218, 60222, 60224, 95343, 102084, 143820, 166351, 166354, 171791, 234563, 265409, 300934, 321802, 321806, 329775, 335772, 354820, 368680, 402164, 414972, 473475, 481529, 508132], (1992, nan): [131555, 171782, 174094, 207439, 361578, 399833, 425509, 508131, 552719], (1993, 'Acura'): [5287, 171784, 179300], (1993, 'Buick'): [30181, 30229, 60219, 348251], (1993, 'Cadillac'): [30192, 179298, 281612, 412662, 443814], (1993, 'Chevrolet'): [30205, 30213, 49483, 102082, 207425, 329766, 329774, 348250, 387320, 445208, 511461], (1993, 'Ford'): [5269, 30247, 30252, 30266, 30278, 95338, 109982, 166346, 167908, 187564, 215348, 215349, 321800, 354817, 409936, 416794, 473471], (1993, 'GMC'): [49461, 321805], (1993, 'Geo'): [5288, 361574], (1993, 'Honda'): [30244, 30253, 30269, 49463, 49471, 131550, 131553, 207436, 234568, 234570, 248370, 271257, 281619, 329777, 329779, 354814, 385541, 394756, 407718, 414973, 420491, 445214, 473478, 508134, 530888, 555483], (1993, 'Infiniti'): [49469, 131556, 337547], (1993, 'Jeep'): [41330, 60215, 95331, 131551, 131552, 131559, 166338, 281615, 399829], (1993, 'Lexus'): [5279, 30261, 49485, 131545, 166333, 167907, 215351, 368679, 394768, 399825], (1993, 'Lincoln'): [187567, 187574, 300932], (1993, 'Mazda'): [84849, 131547, 207437, 449724], (1993, 'Mercedes-Benz'): [95330, 174096, 234573, 271259, 402744, 404957, 445211, 530879], (1993, 'Mercury'): [49467, 49487, 207435], (1993, 'Nissan'): [68231, 281616, 293297, 293299, 323948, 361570, 382314], (1993, 'Oldsmobile'): [5280, 30272, 73064, 102080, 459993], (1993, 'Pontiac'): [385543], (1993, 'Saturn'): [5272, 5284, 7721, 426490], (1993, 'Toyota'): [30262, 49464, 49481, 60223, 73066, 95340, 131544, 131549, 131557, 137419, 137420, 156325, 166336, 166347, 171786, 179299, 187565, 187566, 187572, 187575, 191463, 207918, 215347, 234561, 234564, 293294, 293298, 293300, 300930, 300933, 321808, 331791, 354821, 361572, 361575, 363609, 372940, 372941, 394763, 394766, 411889, 459990, 473479, 481526, 495548, 496376, 551673, 556443], (1993, 'Volvo'): [49482, 281622], (1993, nan): [30235, 30258, 30275, 60221, 150305, 166332, 166337, 166340, 207431, 218167, 241047, 281611, 281620, 281621, 281623, 293296, 321809, 329776, 361573, 361576, 394758, 438459, 473474, 503650, 511460, 518926, 547218, 551669], (1994, 'Acura'): [5291, 49441, 49442, 137415, 335770, 382310, 488117, 547217, 547222, 551670], (1994, 'BMW'): [30179, 30198, 30224, 171776, 205744, 234528, 234541, 265408, 300927, 385528, 423974, 506558], (1994, 'Buick'): [30182, 41323, 49435, 60226, 166328, 171777, 205737, 215295, 305220, 337545, 361568, 399828], (1994, 'Cadillac'): [30189, 30210, 102061, 107458, 335764, 392947, 488109, 557327], (1994, 'Chevrolet'): [30169, 30190, 30209, 30220, 30221, 68220, 68221, 131513, 131521, 166317, 379366, 459995, 496378, 530889], (1994, 'Chrysler'): [182340, 293293, 403207], (1994, 'Dodge'): [30236, 60205], (1994, 'Ford'): [5282, 7722, 7725, 30172, 30174, 30180, 30218, 41325, 49434, 60212, 60227, 60230, 68233, 78392, 131523, 131531, 131532, 150308, 156326, 156329, 166334, 166896, 171775, 179294, 182342, 205740, 207427, 218168, 234526, 234536, 234556, 254830, 261217, 281618, 298696, 308356, 308358, 308359, 308360, 329771, 335769, 335771, 354816, 361566, 379360, 392945, 399826, 399832, 462881, 474762, 495550, 502159, 506556], (1994, 'GMC'): [30170], (1994, 'Geo'): [30233, 109975, 281614], (1994, 'Honda'): [30178, 30199, 30208, 30231, 30237, 30239, 41329, 41334, 49460, 49477, 60207, 78384, 78395, 84845, 95312, 95318, 95322, 95323, 95324, 95329, 95341, 102081, 107460, 131515, 131524, 131535, 131554, 137417, 137418, 137421, 166342, 166344, 182339, 207428, 207916, 218166, 234529, 234549, 271238, 281624, 290612, 300928, 321795, 329770, 340976, 348255, 354818, 379355, 379356, 379358, 385529, 386796, 386926, 402162, 403392, 433228, 445210, 459992, 466300, 473473, 474763, 481525, 488115, 502163, 503652, 508130, 518921, 557328], (1994, 'Infiniti'): [30207, 30223, 234557, 414971], (1994, 'Isuzu'): [41332, 68234, 207917, 530871], (1994, 'Jeep'): [30188, 30201, 49459, 49480, 60210, 95335, 131561, 143817, 290605, 290610, 459984], (1994, 'Lexus'): [5268, 5292, 7723, 30176, 49465, 131538, 234530, 298695, 340977, 356529, 361571, 363607, 385527, 392950, 402163], (1994, 'Lincoln'): [60209, 131540, 187569, 335766], (1994, 'Mazda'): [49468, 95337, 131546, 131548, 179297, 290606, 337546, 502158], (1994, 'Mercedes-Benz'): [5276, 5283, 30217, 41326, 49462, 60208, 166339, 207422, 207424, 207430, 248364, 290607, 300931, 386797, 407519, 409089, 423975, 425507, 547212], (1994, 'Mercury'): [5277, 60206, 84851, 95332, 131560, 137422, 156331, 187563, 234527, 234546, 248368, 405621, 547223], (1994, 'Mitsubishi'): [60204], ...}"
      ]
     },
     "execution_count": 12,
     "metadata": {},
     "output_type": "execute_result"
    }
   ],
   "source": [
    "group = ['year', 'make', 'mmr', 'sellingprice']\n",
    "df_need = pd.DataFrame(df, columns=group)\n",
    "data = df_need.groupby(['year', 'make'])\n",
    "data.groups"
   ]
  },
  {
   "cell_type": "code",
   "execution_count": 13,
   "id": "d9a4a4e8-c5f0-47e4-9e6c-5dcaa9f1676b",
   "metadata": {},
   "outputs": [
    {
     "data": {
      "text/html": [
       "<div>\n",
       "<style scoped>\n",
       "    .dataframe tbody tr th:only-of-type {\n",
       "        vertical-align: middle;\n",
       "    }\n",
       "\n",
       "    .dataframe tbody tr th {\n",
       "        vertical-align: top;\n",
       "    }\n",
       "\n",
       "    .dataframe thead th {\n",
       "        text-align: right;\n",
       "    }\n",
       "</style>\n",
       "<table border=\"1\" class=\"dataframe\">\n",
       "  <thead>\n",
       "    <tr style=\"text-align: right;\">\n",
       "      <th></th>\n",
       "      <th>year</th>\n",
       "      <th>make</th>\n",
       "      <th>mmr</th>\n",
       "      <th>sellingprice</th>\n",
       "    </tr>\n",
       "  </thead>\n",
       "  <tbody>\n",
       "    <tr>\n",
       "      <th>0</th>\n",
       "      <td>1984</td>\n",
       "      <td>Chevrolet</td>\n",
       "      <td>3300.000000</td>\n",
       "      <td>3100.000000</td>\n",
       "    </tr>\n",
       "    <tr>\n",
       "      <th>1</th>\n",
       "      <td>1985</td>\n",
       "      <td>Chevrolet</td>\n",
       "      <td>2162.500000</td>\n",
       "      <td>3875.000000</td>\n",
       "    </tr>\n",
       "    <tr>\n",
       "      <th>2</th>\n",
       "      <td>1986</td>\n",
       "      <td>Chevrolet</td>\n",
       "      <td>5000.000000</td>\n",
       "      <td>8600.000000</td>\n",
       "    </tr>\n",
       "    <tr>\n",
       "      <th>3</th>\n",
       "      <td>1986</td>\n",
       "      <td>Mercedes-Benz</td>\n",
       "      <td>1625.000000</td>\n",
       "      <td>1400.000000</td>\n",
       "    </tr>\n",
       "    <tr>\n",
       "      <th>4</th>\n",
       "      <td>1987</td>\n",
       "      <td>Mercedes-Benz</td>\n",
       "      <td>550.000000</td>\n",
       "      <td>300.000000</td>\n",
       "    </tr>\n",
       "    <tr>\n",
       "      <th>...</th>\n",
       "      <td>...</td>\n",
       "      <td>...</td>\n",
       "      <td>...</td>\n",
       "      <td>...</td>\n",
       "    </tr>\n",
       "    <tr>\n",
       "      <th>884</th>\n",
       "      <td>2015</td>\n",
       "      <td>Smart</td>\n",
       "      <td>9750.000000</td>\n",
       "      <td>9166.666667</td>\n",
       "    </tr>\n",
       "    <tr>\n",
       "      <th>885</th>\n",
       "      <td>2015</td>\n",
       "      <td>Subaru</td>\n",
       "      <td>24676.694915</td>\n",
       "      <td>24541.313559</td>\n",
       "    </tr>\n",
       "    <tr>\n",
       "      <th>886</th>\n",
       "      <td>2015</td>\n",
       "      <td>Toyota</td>\n",
       "      <td>19977.215190</td>\n",
       "      <td>19302.995781</td>\n",
       "    </tr>\n",
       "    <tr>\n",
       "      <th>887</th>\n",
       "      <td>2015</td>\n",
       "      <td>Volkswagen</td>\n",
       "      <td>17110.317460</td>\n",
       "      <td>15184.831461</td>\n",
       "    </tr>\n",
       "    <tr>\n",
       "      <th>888</th>\n",
       "      <td>2015</td>\n",
       "      <td>Volvo</td>\n",
       "      <td>26178.337531</td>\n",
       "      <td>26107.682620</td>\n",
       "    </tr>\n",
       "  </tbody>\n",
       "</table>\n",
       "<p>889 rows × 4 columns</p>\n",
       "</div>"
      ],
      "text/plain": [
       "     year           make           mmr  sellingprice\n",
       "0    1984      Chevrolet   3300.000000   3100.000000\n",
       "1    1985      Chevrolet   2162.500000   3875.000000\n",
       "2    1986      Chevrolet   5000.000000   8600.000000\n",
       "3    1986  Mercedes-Benz   1625.000000   1400.000000\n",
       "4    1987  Mercedes-Benz    550.000000    300.000000\n",
       "..    ...            ...           ...           ...\n",
       "884  2015          Smart   9750.000000   9166.666667\n",
       "885  2015         Subaru  24676.694915  24541.313559\n",
       "886  2015         Toyota  19977.215190  19302.995781\n",
       "887  2015     Volkswagen  17110.317460  15184.831461\n",
       "888  2015          Volvo  26178.337531  26107.682620\n",
       "\n",
       "[889 rows x 4 columns]"
      ]
     },
     "execution_count": 13,
     "metadata": {},
     "output_type": "execute_result"
    }
   ],
   "source": [
    "result = data.mean().reset_index()\n",
    "result"
   ]
  },
  {
   "cell_type": "code",
   "execution_count": 14,
   "id": "6b90cb9e-59b6-43e4-a3ed-562393317c04",
   "metadata": {},
   "outputs": [
    {
     "data": {
      "text/html": [
       "<div>\n",
       "<style scoped>\n",
       "    .dataframe tbody tr th:only-of-type {\n",
       "        vertical-align: middle;\n",
       "    }\n",
       "\n",
       "    .dataframe tbody tr th {\n",
       "        vertical-align: top;\n",
       "    }\n",
       "\n",
       "    .dataframe thead th {\n",
       "        text-align: right;\n",
       "    }\n",
       "</style>\n",
       "<table border=\"1\" class=\"dataframe\">\n",
       "  <thead>\n",
       "    <tr style=\"text-align: right;\">\n",
       "      <th></th>\n",
       "      <th>year</th>\n",
       "      <th>MMR</th>\n",
       "      <th>Sellingprice</th>\n",
       "    </tr>\n",
       "  </thead>\n",
       "  <tbody>\n",
       "    <tr>\n",
       "      <th>0</th>\n",
       "      <td>1982</td>\n",
       "      <td>4925.000000</td>\n",
       "      <td>12750.000000</td>\n",
       "    </tr>\n",
       "    <tr>\n",
       "      <th>1</th>\n",
       "      <td>1983</td>\n",
       "      <td>6050.000000</td>\n",
       "      <td>5250.000000</td>\n",
       "    </tr>\n",
       "    <tr>\n",
       "      <th>2</th>\n",
       "      <td>1984</td>\n",
       "      <td>2185.000000</td>\n",
       "      <td>2160.000000</td>\n",
       "    </tr>\n",
       "    <tr>\n",
       "      <th>3</th>\n",
       "      <td>1985</td>\n",
       "      <td>3300.000000</td>\n",
       "      <td>3520.000000</td>\n",
       "    </tr>\n",
       "    <tr>\n",
       "      <th>4</th>\n",
       "      <td>1986</td>\n",
       "      <td>2359.090909</td>\n",
       "      <td>2538.636364</td>\n",
       "    </tr>\n",
       "    <tr>\n",
       "      <th>5</th>\n",
       "      <td>1987</td>\n",
       "      <td>1793.750000</td>\n",
       "      <td>1512.500000</td>\n",
       "    </tr>\n",
       "    <tr>\n",
       "      <th>6</th>\n",
       "      <td>1988</td>\n",
       "      <td>2990.909091</td>\n",
       "      <td>3168.181818</td>\n",
       "    </tr>\n",
       "    <tr>\n",
       "      <th>7</th>\n",
       "      <td>1989</td>\n",
       "      <td>1683.750000</td>\n",
       "      <td>1620.000000</td>\n",
       "    </tr>\n",
       "    <tr>\n",
       "      <th>8</th>\n",
       "      <td>1990</td>\n",
       "      <td>1694.387755</td>\n",
       "      <td>1435.714286</td>\n",
       "    </tr>\n",
       "    <tr>\n",
       "      <th>9</th>\n",
       "      <td>1991</td>\n",
       "      <td>1195.895522</td>\n",
       "      <td>943.656716</td>\n",
       "    </tr>\n",
       "    <tr>\n",
       "      <th>10</th>\n",
       "      <td>1992</td>\n",
       "      <td>991.666667</td>\n",
       "      <td>991.666667</td>\n",
       "    </tr>\n",
       "    <tr>\n",
       "      <th>11</th>\n",
       "      <td>1993</td>\n",
       "      <td>844.756098</td>\n",
       "      <td>833.902439</td>\n",
       "    </tr>\n",
       "    <tr>\n",
       "      <th>12</th>\n",
       "      <td>1994</td>\n",
       "      <td>947.512755</td>\n",
       "      <td>870.599490</td>\n",
       "    </tr>\n",
       "    <tr>\n",
       "      <th>13</th>\n",
       "      <td>1995</td>\n",
       "      <td>980.625879</td>\n",
       "      <td>913.292546</td>\n",
       "    </tr>\n",
       "    <tr>\n",
       "      <th>14</th>\n",
       "      <td>1996</td>\n",
       "      <td>1001.615746</td>\n",
       "      <td>985.781434</td>\n",
       "    </tr>\n",
       "    <tr>\n",
       "      <th>15</th>\n",
       "      <td>1997</td>\n",
       "      <td>1172.946313</td>\n",
       "      <td>1157.454722</td>\n",
       "    </tr>\n",
       "    <tr>\n",
       "      <th>16</th>\n",
       "      <td>1998</td>\n",
       "      <td>1299.069335</td>\n",
       "      <td>1261.719404</td>\n",
       "    </tr>\n",
       "    <tr>\n",
       "      <th>17</th>\n",
       "      <td>1999</td>\n",
       "      <td>1595.249777</td>\n",
       "      <td>1533.696105</td>\n",
       "    </tr>\n",
       "    <tr>\n",
       "      <th>18</th>\n",
       "      <td>2000</td>\n",
       "      <td>1862.932849</td>\n",
       "      <td>1827.834130</td>\n",
       "    </tr>\n",
       "    <tr>\n",
       "      <th>19</th>\n",
       "      <td>2001</td>\n",
       "      <td>2190.425943</td>\n",
       "      <td>2131.014224</td>\n",
       "    </tr>\n",
       "    <tr>\n",
       "      <th>20</th>\n",
       "      <td>2002</td>\n",
       "      <td>2676.242923</td>\n",
       "      <td>2611.709315</td>\n",
       "    </tr>\n",
       "    <tr>\n",
       "      <th>21</th>\n",
       "      <td>2003</td>\n",
       "      <td>3505.665989</td>\n",
       "      <td>3447.268654</td>\n",
       "    </tr>\n",
       "    <tr>\n",
       "      <th>22</th>\n",
       "      <td>2004</td>\n",
       "      <td>4401.326260</td>\n",
       "      <td>4321.474455</td>\n",
       "    </tr>\n",
       "    <tr>\n",
       "      <th>23</th>\n",
       "      <td>2005</td>\n",
       "      <td>4991.101477</td>\n",
       "      <td>4893.989857</td>\n",
       "    </tr>\n",
       "    <tr>\n",
       "      <th>24</th>\n",
       "      <td>2006</td>\n",
       "      <td>6299.358117</td>\n",
       "      <td>6190.204808</td>\n",
       "    </tr>\n",
       "    <tr>\n",
       "      <th>25</th>\n",
       "      <td>2007</td>\n",
       "      <td>8114.740639</td>\n",
       "      <td>8021.969687</td>\n",
       "    </tr>\n",
       "    <tr>\n",
       "      <th>26</th>\n",
       "      <td>2008</td>\n",
       "      <td>9633.394705</td>\n",
       "      <td>9508.054092</td>\n",
       "    </tr>\n",
       "    <tr>\n",
       "      <th>27</th>\n",
       "      <td>2009</td>\n",
       "      <td>10581.613577</td>\n",
       "      <td>10462.313295</td>\n",
       "    </tr>\n",
       "    <tr>\n",
       "      <th>28</th>\n",
       "      <td>2010</td>\n",
       "      <td>12544.195771</td>\n",
       "      <td>12412.453313</td>\n",
       "    </tr>\n",
       "    <tr>\n",
       "      <th>29</th>\n",
       "      <td>2011</td>\n",
       "      <td>16025.586533</td>\n",
       "      <td>15851.677185</td>\n",
       "    </tr>\n",
       "    <tr>\n",
       "      <th>30</th>\n",
       "      <td>2012</td>\n",
       "      <td>16792.560085</td>\n",
       "      <td>16653.749836</td>\n",
       "    </tr>\n",
       "    <tr>\n",
       "      <th>31</th>\n",
       "      <td>2013</td>\n",
       "      <td>17665.157141</td>\n",
       "      <td>17476.602700</td>\n",
       "    </tr>\n",
       "    <tr>\n",
       "      <th>32</th>\n",
       "      <td>2014</td>\n",
       "      <td>20338.425766</td>\n",
       "      <td>20090.200535</td>\n",
       "    </tr>\n",
       "    <tr>\n",
       "      <th>33</th>\n",
       "      <td>2015</td>\n",
       "      <td>26548.501753</td>\n",
       "      <td>25932.117198</td>\n",
       "    </tr>\n",
       "  </tbody>\n",
       "</table>\n",
       "</div>"
      ],
      "text/plain": [
       "    year           MMR  Sellingprice\n",
       "0   1982   4925.000000  12750.000000\n",
       "1   1983   6050.000000   5250.000000\n",
       "2   1984   2185.000000   2160.000000\n",
       "3   1985   3300.000000   3520.000000\n",
       "4   1986   2359.090909   2538.636364\n",
       "5   1987   1793.750000   1512.500000\n",
       "6   1988   2990.909091   3168.181818\n",
       "7   1989   1683.750000   1620.000000\n",
       "8   1990   1694.387755   1435.714286\n",
       "9   1991   1195.895522    943.656716\n",
       "10  1992    991.666667    991.666667\n",
       "11  1993    844.756098    833.902439\n",
       "12  1994    947.512755    870.599490\n",
       "13  1995    980.625879    913.292546\n",
       "14  1996   1001.615746    985.781434\n",
       "15  1997   1172.946313   1157.454722\n",
       "16  1998   1299.069335   1261.719404\n",
       "17  1999   1595.249777   1533.696105\n",
       "18  2000   1862.932849   1827.834130\n",
       "19  2001   2190.425943   2131.014224\n",
       "20  2002   2676.242923   2611.709315\n",
       "21  2003   3505.665989   3447.268654\n",
       "22  2004   4401.326260   4321.474455\n",
       "23  2005   4991.101477   4893.989857\n",
       "24  2006   6299.358117   6190.204808\n",
       "25  2007   8114.740639   8021.969687\n",
       "26  2008   9633.394705   9508.054092\n",
       "27  2009  10581.613577  10462.313295\n",
       "28  2010  12544.195771  12412.453313\n",
       "29  2011  16025.586533  15851.677185\n",
       "30  2012  16792.560085  16653.749836\n",
       "31  2013  17665.157141  17476.602700\n",
       "32  2014  20338.425766  20090.200535\n",
       "33  2015  26548.501753  25932.117198"
      ]
     },
     "execution_count": 14,
     "metadata": {},
     "output_type": "execute_result"
    }
   ],
   "source": [
    "temp1 = df_need.groupby('year')['mmr'].mean()\n",
    "temp2 = df_need.groupby('year')['sellingprice'].mean()\n",
    "result_fluc = pd.concat([temp1, temp2], axis=1)\n",
    "result_fluc.columns = ['MMR', 'Sellingprice']\n",
    "result_fluc = result_fluc.reset_index()\n",
    "result_fluc"
   ]
  },
  {
   "cell_type": "code",
   "execution_count": 18,
   "id": "2f5ecb6c-8d4d-4a2b-b0de-12bf5eba100b",
   "metadata": {},
   "outputs": [
    {
     "data": {
      "text/html": [
       "<div>\n",
       "<style scoped>\n",
       "    .dataframe tbody tr th:only-of-type {\n",
       "        vertical-align: middle;\n",
       "    }\n",
       "\n",
       "    .dataframe tbody tr th {\n",
       "        vertical-align: top;\n",
       "    }\n",
       "\n",
       "    .dataframe thead th {\n",
       "        text-align: right;\n",
       "    }\n",
       "</style>\n",
       "<table border=\"1\" class=\"dataframe\">\n",
       "  <thead>\n",
       "    <tr style=\"text-align: right;\">\n",
       "      <th></th>\n",
       "      <th>year</th>\n",
       "      <th>make</th>\n",
       "      <th>mmr</th>\n",
       "      <th>sellingprice</th>\n",
       "    </tr>\n",
       "  </thead>\n",
       "  <tbody>\n",
       "    <tr>\n",
       "      <th>0</th>\n",
       "      <td>1984</td>\n",
       "      <td>Chevrolet</td>\n",
       "      <td>3300.000000</td>\n",
       "      <td>3100.000000</td>\n",
       "    </tr>\n",
       "    <tr>\n",
       "      <th>1</th>\n",
       "      <td>1985</td>\n",
       "      <td>Chevrolet</td>\n",
       "      <td>2162.500000</td>\n",
       "      <td>3875.000000</td>\n",
       "    </tr>\n",
       "    <tr>\n",
       "      <th>2</th>\n",
       "      <td>1986</td>\n",
       "      <td>Chevrolet</td>\n",
       "      <td>5000.000000</td>\n",
       "      <td>8600.000000</td>\n",
       "    </tr>\n",
       "    <tr>\n",
       "      <th>3</th>\n",
       "      <td>1986</td>\n",
       "      <td>Mercedes-Benz</td>\n",
       "      <td>1625.000000</td>\n",
       "      <td>1400.000000</td>\n",
       "    </tr>\n",
       "    <tr>\n",
       "      <th>4</th>\n",
       "      <td>1987</td>\n",
       "      <td>Mercedes-Benz</td>\n",
       "      <td>550.000000</td>\n",
       "      <td>300.000000</td>\n",
       "    </tr>\n",
       "    <tr>\n",
       "      <th>...</th>\n",
       "      <td>...</td>\n",
       "      <td>...</td>\n",
       "      <td>...</td>\n",
       "      <td>...</td>\n",
       "    </tr>\n",
       "    <tr>\n",
       "      <th>884</th>\n",
       "      <td>2015</td>\n",
       "      <td>Smart</td>\n",
       "      <td>9750.000000</td>\n",
       "      <td>9166.666667</td>\n",
       "    </tr>\n",
       "    <tr>\n",
       "      <th>885</th>\n",
       "      <td>2015</td>\n",
       "      <td>Subaru</td>\n",
       "      <td>24676.694915</td>\n",
       "      <td>24541.313559</td>\n",
       "    </tr>\n",
       "    <tr>\n",
       "      <th>886</th>\n",
       "      <td>2015</td>\n",
       "      <td>Toyota</td>\n",
       "      <td>19977.215190</td>\n",
       "      <td>19302.995781</td>\n",
       "    </tr>\n",
       "    <tr>\n",
       "      <th>887</th>\n",
       "      <td>2015</td>\n",
       "      <td>Volkswagen</td>\n",
       "      <td>17110.317460</td>\n",
       "      <td>15184.831461</td>\n",
       "    </tr>\n",
       "    <tr>\n",
       "      <th>888</th>\n",
       "      <td>2015</td>\n",
       "      <td>Volvo</td>\n",
       "      <td>26178.337531</td>\n",
       "      <td>26107.682620</td>\n",
       "    </tr>\n",
       "  </tbody>\n",
       "</table>\n",
       "<p>889 rows × 4 columns</p>\n",
       "</div>"
      ],
      "text/plain": [
       "     year           make           mmr  sellingprice\n",
       "0    1984      Chevrolet   3300.000000   3100.000000\n",
       "1    1985      Chevrolet   2162.500000   3875.000000\n",
       "2    1986      Chevrolet   5000.000000   8600.000000\n",
       "3    1986  Mercedes-Benz   1625.000000   1400.000000\n",
       "4    1987  Mercedes-Benz    550.000000    300.000000\n",
       "..    ...            ...           ...           ...\n",
       "884  2015          Smart   9750.000000   9166.666667\n",
       "885  2015         Subaru  24676.694915  24541.313559\n",
       "886  2015         Toyota  19977.215190  19302.995781\n",
       "887  2015     Volkswagen  17110.317460  15184.831461\n",
       "888  2015          Volvo  26178.337531  26107.682620\n",
       "\n",
       "[889 rows x 4 columns]"
      ]
     },
     "execution_count": 18,
     "metadata": {},
     "output_type": "execute_result"
    }
   ],
   "source": [
    "result"
   ]
  },
  {
   "cell_type": "code",
   "execution_count": 21,
   "id": "4c03aaf7-dd1a-4ca2-8299-0d57569d1ec8",
   "metadata": {},
   "outputs": [
    {
     "data": {
      "application/vnd.plotly.v1+json": {
       "config": {
        "plotlyServerURL": "https://plot.ly"
       },
       "data": [
        {
         "alignmentgroup": "True",
         "hovertemplate": "year=1996<br>make=%{x}<br>sellingprice=%{y}<extra></extra>",
         "legendgroup": "",
         "marker": {
          "color": "#636efa",
          "pattern": {
           "shape": ""
          }
         },
         "name": "",
         "offsetgroup": "",
         "orientation": "v",
         "showlegend": false,
         "textposition": "auto",
         "type": "bar",
         "x": [
          "Acura",
          "Audi",
          "BMW",
          "Buick",
          "Cadillac",
          "Chevrolet",
          "Chrysler",
          "Dodge",
          "Ford",
          "GMC",
          "Geo",
          "Honda",
          "Infiniti",
          "Isuzu",
          "Jaguar",
          "Jeep",
          "Lexus",
          "Lincoln",
          "Mazda",
          "Mercedes-Benz",
          "Mercury",
          "Mitsubishi",
          "Nissan",
          "Oldsmobile",
          "Pontiac",
          "Saturn",
          "Subaru",
          "Suzuki",
          "Toyota",
          "Volkswagen",
          "Volvo"
         ],
         "xaxis": "x",
         "y": [
          815.3846153846154,
          300,
          1248.6842105263158,
          675,
          715.7894736842105,
          956.7164179104477,
          445.8333333333333,
          947.3684210526316,
          953.2258064516129,
          687.5,
          558.3333333333334,
          778.6111111111111,
          732.8125,
          450,
          1450,
          764.5833333333334,
          1984.375,
          755.5555555555555,
          806.25,
          1664.2857142857142,
          866.25,
          500,
          635.4166666666666,
          335.7142857142857,
          1004.5454545454545,
          423.0769230769231,
          880,
          1000,
          964.8496240601504,
          881.25,
          501.9230769230769
         ],
         "yaxis": "y"
        }
       ],
       "frames": [
        {
         "data": [
          {
           "alignmentgroup": "True",
           "hovertemplate": "year=1984<br>make=%{x}<br>sellingprice=%{y}<extra></extra>",
           "legendgroup": "",
           "marker": {
            "color": "#636efa",
            "pattern": {
             "shape": ""
            }
           },
           "name": "",
           "offsetgroup": "",
           "orientation": "v",
           "showlegend": false,
           "textposition": "auto",
           "type": "bar",
           "x": [
            "Chevrolet"
           ],
           "xaxis": "x",
           "y": [
            3100
           ],
           "yaxis": "y"
          }
         ],
         "name": "1984"
        },
        {
         "data": [
          {
           "alignmentgroup": "True",
           "hovertemplate": "year=1985<br>make=%{x}<br>sellingprice=%{y}<extra></extra>",
           "legendgroup": "",
           "marker": {
            "color": "#636efa",
            "pattern": {
             "shape": ""
            }
           },
           "name": "",
           "offsetgroup": "",
           "orientation": "v",
           "showlegend": false,
           "textposition": "auto",
           "type": "bar",
           "x": [
            "Chevrolet"
           ],
           "xaxis": "x",
           "y": [
            3875
           ],
           "yaxis": "y"
          }
         ],
         "name": "1985"
        },
        {
         "data": [
          {
           "alignmentgroup": "True",
           "hovertemplate": "year=1986<br>make=%{x}<br>sellingprice=%{y}<extra></extra>",
           "legendgroup": "",
           "marker": {
            "color": "#636efa",
            "pattern": {
             "shape": ""
            }
           },
           "name": "",
           "offsetgroup": "",
           "orientation": "v",
           "showlegend": false,
           "textposition": "auto",
           "type": "bar",
           "x": [
            "Chevrolet",
            "Mercedes-Benz"
           ],
           "xaxis": "x",
           "y": [
            8600,
            1400
           ],
           "yaxis": "y"
          }
         ],
         "name": "1986"
        },
        {
         "data": [
          {
           "alignmentgroup": "True",
           "hovertemplate": "year=1987<br>make=%{x}<br>sellingprice=%{y}<extra></extra>",
           "legendgroup": "",
           "marker": {
            "color": "#636efa",
            "pattern": {
             "shape": ""
            }
           },
           "name": "",
           "offsetgroup": "",
           "orientation": "v",
           "showlegend": false,
           "textposition": "auto",
           "type": "bar",
           "x": [
            "Mercedes-Benz"
           ],
           "xaxis": "x",
           "y": [
            300
           ],
           "yaxis": "y"
          }
         ],
         "name": "1987"
        },
        {
         "data": [
          {
           "alignmentgroup": "True",
           "hovertemplate": "year=1989<br>make=%{x}<br>sellingprice=%{y}<extra></extra>",
           "legendgroup": "",
           "marker": {
            "color": "#636efa",
            "pattern": {
             "shape": ""
            }
           },
           "name": "",
           "offsetgroup": "",
           "orientation": "v",
           "showlegend": false,
           "textposition": "auto",
           "type": "bar",
           "x": [
            "Chevrolet",
            "Mercedes-Benz",
            "Toyota"
           ],
           "xaxis": "x",
           "y": [
            5050,
            300,
            537.5
           ],
           "yaxis": "y"
          }
         ],
         "name": "1989"
        },
        {
         "data": [
          {
           "alignmentgroup": "True",
           "hovertemplate": "year=1990<br>make=%{x}<br>sellingprice=%{y}<extra></extra>",
           "legendgroup": "",
           "marker": {
            "color": "#636efa",
            "pattern": {
             "shape": ""
            }
           },
           "name": "",
           "offsetgroup": "",
           "orientation": "v",
           "showlegend": false,
           "textposition": "auto",
           "type": "bar",
           "x": [
            "Cadillac",
            "Chevrolet",
            "Honda",
            "Jaguar",
            "Lexus",
            "Mazda",
            "Mercedes-Benz",
            "Nissan",
            "Toyota"
           ],
           "xaxis": "x",
           "y": [
            325,
            5150,
            410,
            550,
            503.57142857142856,
            1565,
            275,
            1333.3333333333333,
            403.125
           ],
           "yaxis": "y"
          }
         ],
         "name": "1990"
        },
        {
         "data": [
          {
           "alignmentgroup": "True",
           "hovertemplate": "year=1991<br>make=%{x}<br>sellingprice=%{y}<extra></extra>",
           "legendgroup": "",
           "marker": {
            "color": "#636efa",
            "pattern": {
             "shape": ""
            }
           },
           "name": "",
           "offsetgroup": "",
           "orientation": "v",
           "showlegend": false,
           "textposition": "auto",
           "type": "bar",
           "x": [
            "BMW",
            "Buick",
            "Cadillac",
            "Chevrolet",
            "Ford",
            "Honda",
            "Lexus",
            "Lincoln",
            "Mazda",
            "Mercedes-Benz",
            "Nissan",
            "Oldsmobile",
            "Toyota"
           ],
           "xaxis": "x",
           "y": [
            6750,
            441.6666666666667,
            562.5,
            2240,
            200,
            357.5,
            737.5,
            387.5,
            900,
            1857.5,
            475,
            200,
            431.94444444444446
           ],
           "yaxis": "y"
          }
         ],
         "name": "1991"
        },
        {
         "data": [
          {
           "alignmentgroup": "True",
           "hovertemplate": "year=1992<br>make=%{x}<br>sellingprice=%{y}<extra></extra>",
           "legendgroup": "",
           "marker": {
            "color": "#636efa",
            "pattern": {
             "shape": ""
            }
           },
           "name": "",
           "offsetgroup": "",
           "orientation": "v",
           "showlegend": false,
           "textposition": "auto",
           "type": "bar",
           "x": [
            "BMW",
            "Buick",
            "Cadillac",
            "Chevrolet",
            "Ford",
            "Honda",
            "Jeep",
            "Lexus",
            "Lincoln",
            "Mazda",
            "Mercedes-Benz",
            "Mercury",
            "Nissan",
            "Oldsmobile",
            "Pontiac",
            "Saturn",
            "Toyota"
           ],
           "xaxis": "x",
           "y": [
            450,
            475,
            375,
            3610.714285714286,
            375,
            623.8636363636364,
            825,
            1364.4736842105262,
            566.6666666666666,
            1400,
            2866.6666666666665,
            487.5,
            350,
            325,
            275,
            750,
            640.3225806451613
           ],
           "yaxis": "y"
          }
         ],
         "name": "1992"
        },
        {
         "data": [
          {
           "alignmentgroup": "True",
           "hovertemplate": "year=1993<br>make=%{x}<br>sellingprice=%{y}<extra></extra>",
           "legendgroup": "",
           "marker": {
            "color": "#636efa",
            "pattern": {
             "shape": ""
            }
           },
           "name": "",
           "offsetgroup": "",
           "orientation": "v",
           "showlegend": false,
           "textposition": "auto",
           "type": "bar",
           "x": [
            "Acura",
            "Buick",
            "Cadillac",
            "Chevrolet",
            "Ford",
            "GMC",
            "Geo",
            "Honda",
            "Infiniti",
            "Jeep",
            "Lexus",
            "Lincoln",
            "Mazda",
            "Mercedes-Benz",
            "Mercury",
            "Nissan",
            "Oldsmobile",
            "Pontiac",
            "Saturn",
            "Toyota",
            "Volvo"
           ],
           "xaxis": "x",
           "y": [
            383.3333333333333,
            406.25,
            1330,
            1781.8181818181818,
            504.4117647058824,
            1600,
            375,
            620.1923076923077,
            350,
            772.2222222222222,
            1160,
            575,
            1075,
            912.5,
            400,
            467.85714285714283,
            460,
            800,
            387.5,
            644.2708333333334,
            325
           ],
           "yaxis": "y"
          }
         ],
         "name": "1993"
        },
        {
         "data": [
          {
           "alignmentgroup": "True",
           "hovertemplate": "year=1994<br>make=%{x}<br>sellingprice=%{y}<extra></extra>",
           "legendgroup": "",
           "marker": {
            "color": "#636efa",
            "pattern": {
             "shape": ""
            }
           },
           "name": "",
           "offsetgroup": "",
           "orientation": "v",
           "showlegend": false,
           "textposition": "auto",
           "type": "bar",
           "x": [
            "Acura",
            "BMW",
            "Buick",
            "Cadillac",
            "Chevrolet",
            "Chrysler",
            "Dodge",
            "Ford",
            "GMC",
            "Geo",
            "Honda",
            "Infiniti",
            "Isuzu",
            "Jeep",
            "Lexus",
            "Lincoln",
            "Mazda",
            "Mercedes-Benz",
            "Mercury",
            "Mitsubishi",
            "Nissan",
            "Oldsmobile",
            "Pontiac",
            "Saturn",
            "Toyota",
            "Volvo"
           ],
           "xaxis": "x",
           "y": [
            705,
            1239.5833333333333,
            433.3333333333333,
            981.25,
            2264.285714285714,
            383.3333333333333,
            400,
            625.4716981132076,
            1500,
            258.3333333333333,
            687.5,
            518.75,
            725,
            811.3636363636364,
            1010,
            662.5,
            1109.375,
            1964.4736842105262,
            498.0769230769231,
            375,
            595.4545454545455,
            410.7142857142857,
            537.5,
            640,
            760.2459016393443,
            485
           ],
           "yaxis": "y"
          }
         ],
         "name": "1994"
        },
        {
         "data": [
          {
           "alignmentgroup": "True",
           "hovertemplate": "year=1995<br>make=%{x}<br>sellingprice=%{y}<extra></extra>",
           "legendgroup": "",
           "marker": {
            "color": "#636efa",
            "pattern": {
             "shape": ""
            }
           },
           "name": "",
           "offsetgroup": "",
           "orientation": "v",
           "showlegend": false,
           "textposition": "auto",
           "type": "bar",
           "x": [
            "Acura",
            "BMW",
            "Buick",
            "Cadillac",
            "Chevrolet",
            "Chrysler",
            "Dodge",
            "Ford",
            "GMC",
            "Geo",
            "Honda",
            "Infiniti",
            "Isuzu",
            "Jaguar",
            "Jeep",
            "Lexus",
            "Lincoln",
            "Mazda",
            "Mercedes-Benz",
            "Mercury",
            "Mitsubishi",
            "Nissan",
            "Oldsmobile",
            "Pontiac",
            "Saturn",
            "Subaru",
            "Toyota",
            "Volvo"
           ],
           "xaxis": "x",
           "y": [
            490.625,
            729.5454545454545,
            815,
            811.25,
            1296.25,
            1000,
            550,
            689.3678160919541,
            533.3333333333334,
            550,
            773.5714285714286,
            578.5714285714286,
            341.8333333333333,
            1100,
            805.5555555555555,
            840.7407407407408,
            873.3333333333334,
            516.6666666666666,
            2247.340425531915,
            423.3333333333333,
            500,
            590.4255319148937,
            712.5,
            505.55555555555554,
            475,
            571.4285714285714,
            749.1525423728814,
            464.2857142857143
           ],
           "yaxis": "y"
          }
         ],
         "name": "1995"
        },
        {
         "data": [
          {
           "alignmentgroup": "True",
           "hovertemplate": "year=1996<br>make=%{x}<br>sellingprice=%{y}<extra></extra>",
           "legendgroup": "",
           "marker": {
            "color": "#636efa",
            "pattern": {
             "shape": ""
            }
           },
           "name": "",
           "offsetgroup": "",
           "orientation": "v",
           "showlegend": false,
           "textposition": "auto",
           "type": "bar",
           "x": [
            "Acura",
            "Audi",
            "BMW",
            "Buick",
            "Cadillac",
            "Chevrolet",
            "Chrysler",
            "Dodge",
            "Ford",
            "GMC",
            "Geo",
            "Honda",
            "Infiniti",
            "Isuzu",
            "Jaguar",
            "Jeep",
            "Lexus",
            "Lincoln",
            "Mazda",
            "Mercedes-Benz",
            "Mercury",
            "Mitsubishi",
            "Nissan",
            "Oldsmobile",
            "Pontiac",
            "Saturn",
            "Subaru",
            "Suzuki",
            "Toyota",
            "Volkswagen",
            "Volvo"
           ],
           "xaxis": "x",
           "y": [
            815.3846153846154,
            300,
            1248.6842105263158,
            675,
            715.7894736842105,
            956.7164179104477,
            445.8333333333333,
            947.3684210526316,
            953.2258064516129,
            687.5,
            558.3333333333334,
            778.6111111111111,
            732.8125,
            450,
            1450,
            764.5833333333334,
            1984.375,
            755.5555555555555,
            806.25,
            1664.2857142857142,
            866.25,
            500,
            635.4166666666666,
            335.7142857142857,
            1004.5454545454545,
            423.0769230769231,
            880,
            1000,
            964.8496240601504,
            881.25,
            501.9230769230769
           ],
           "yaxis": "y"
          }
         ],
         "name": "1996"
        },
        {
         "data": [
          {
           "alignmentgroup": "True",
           "hovertemplate": "year=1997<br>make=%{x}<br>sellingprice=%{y}<extra></extra>",
           "legendgroup": "",
           "marker": {
            "color": "#636efa",
            "pattern": {
             "shape": ""
            }
           },
           "name": "",
           "offsetgroup": "",
           "orientation": "v",
           "showlegend": false,
           "textposition": "auto",
           "type": "bar",
           "x": [
            "Acura",
            "Audi",
            "BMW",
            "Buick",
            "Cadillac",
            "Chevrolet",
            "Chrysler",
            "Dodge",
            "Dodge Truck",
            "Ford",
            "Ford Truck",
            "GMC",
            "Geo",
            "Honda",
            "Infiniti",
            "Isuzu",
            "Jaguar",
            "Jeep",
            "Lexus",
            "Lincoln",
            "Mazda",
            "Mercedes-Benz",
            "Mercury",
            "Mitsubishi",
            "Nissan",
            "Oldsmobile",
            "Plymouth",
            "Pontiac",
            "Porsche",
            "Saturn",
            "Subaru",
            "Toyota",
            "Volkswagen",
            "Volvo"
           ],
           "xaxis": "x",
           "y": [
            939.84375,
            1050,
            1880.5084745762713,
            795.2830188679245,
            933.5227272727273,
            884.9514563106796,
            432.5,
            1131.0344827586207,
            550,
            1009.8739495798319,
            700,
            787.5,
            737.5,
            919.3467336683417,
            650,
            575,
            2031.25,
            1822.5,
            1643.75,
            554.1666666666666,
            525,
            1780.357142857143,
            756.8965517241379,
            588.8888888888889,
            798.0582524271845,
            738.4615384615385,
            450,
            644.5652173913044,
            5825,
            550,
            894.1176470588235,
            1496.1538461538462,
            850,
            500
           ],
           "yaxis": "y"
          }
         ],
         "name": "1997"
        },
        {
         "data": [
          {
           "alignmentgroup": "True",
           "hovertemplate": "year=1998<br>make=%{x}<br>sellingprice=%{y}<extra></extra>",
           "legendgroup": "",
           "marker": {
            "color": "#636efa",
            "pattern": {
             "shape": ""
            }
           },
           "name": "",
           "offsetgroup": "",
           "orientation": "v",
           "showlegend": false,
           "textposition": "auto",
           "type": "bar",
           "x": [
            "Acura",
            "Audi",
            "BMW",
            "Buick",
            "Cadillac",
            "Chevrolet",
            "Chrysler",
            "Dodge",
            "Dot",
            "Ford",
            "Ford Truck",
            "GMC",
            "Honda",
            "Infiniti",
            "Isuzu",
            "Jaguar",
            "Jeep",
            "Kia",
            "Land Rover",
            "Lexus",
            "Lincoln",
            "Mazda",
            "Mercedes-Benz",
            "Mercury",
            "Mitsubishi",
            "Nissan",
            "Oldsmobile",
            "Plymouth",
            "Pontiac",
            "Porsche",
            "Saturn",
            "Subaru",
            "Toyota",
            "Volkswagen",
            "Volvo"
           ],
           "xaxis": "x",
           "y": [
            1476.0869565217392,
            1031.25,
            1831.7164179104477,
            825.4629629629629,
            886.9565217391304,
            1305.4347826086957,
            701.6666666666666,
            750,
            500,
            1167.8861788617887,
            375,
            1015.2777777777778,
            1240.9893992932862,
            1166.6666666666667,
            892.3076923076923,
            2505.5555555555557,
            2200,
            400,
            858.3333333333334,
            2522.5274725274726,
            970.9183673469388,
            914.1304347826087,
            1550.357142857143,
            791.1290322580645,
            804.5454545454545,
            911.2612612612612,
            693.3823529411765,
            541.6666666666666,
            809.7560975609756,
            6633.333333333333,
            575.6944444444445,
            1218.235294117647,
            1421.9202898550725,
            787.5,
            715.0793650793651
           ],
           "yaxis": "y"
          }
         ],
         "name": "1998"
        },
        {
         "data": [
          {
           "alignmentgroup": "True",
           "hovertemplate": "year=1999<br>make=%{x}<br>sellingprice=%{y}<extra></extra>",
           "legendgroup": "",
           "marker": {
            "color": "#636efa",
            "pattern": {
             "shape": ""
            }
           },
           "name": "",
           "offsetgroup": "",
           "orientation": "v",
           "showlegend": false,
           "textposition": "auto",
           "type": "bar",
           "x": [
            "Acura",
            "Audi",
            "BMW",
            "Buick",
            "Cadillac",
            "Chevrolet",
            "Chrysler",
            "Dodge",
            "Ford",
            "GMC",
            "GMC Truck",
            "Honda",
            "Hyundai",
            "Infiniti",
            "Isuzu",
            "Jaguar",
            "Jeep",
            "Kia",
            "Land Rover",
            "Lexus",
            "Lincoln",
            "Mazda",
            "Mercedes-Benz",
            "Mercury",
            "Mitsubishi",
            "Nissan",
            "Oldsmobile",
            "Plymouth",
            "Pontiac",
            "Porsche",
            "Saab",
            "Saturn",
            "Subaru",
            "Suzuki",
            "Toyota",
            "Volkswagen",
            "Volvo"
           ],
           "xaxis": "x",
           "y": [
            1428.1746031746031,
            864.2857142857143,
            1909.9056603773586,
            1126.984126984127,
            1162.857142857143,
            1880,
            771.484375,
            1023.1770833333334,
            1286.2068965517242,
            1275.625,
            1300,
            1467.138364779874,
            200,
            1077.5862068965516,
            827.2727272727273,
            2677.777777777778,
            1528.448275862069,
            300,
            1295.4545454545455,
            3267.1270718232045,
            1241.860465116279,
            751.25,
            2127.205882352941,
            780.7471264367816,
            641.0869565217391,
            1004.8148148148148,
            641.2162162162163,
            3875,
            953.0898876404494,
            6397.222222222223,
            592.0454545454545,
            583.5106382978723,
            1170.4545454545455,
            991.6666666666666,
            1700.933908045977,
            995.4081632653061,
            691.875
           ],
           "yaxis": "y"
          }
         ],
         "name": "1999"
        },
        {
         "data": [
          {
           "alignmentgroup": "True",
           "hovertemplate": "year=2000<br>make=%{x}<br>sellingprice=%{y}<extra></extra>",
           "legendgroup": "",
           "marker": {
            "color": "#636efa",
            "pattern": {
             "shape": ""
            }
           },
           "name": "",
           "offsetgroup": "",
           "orientation": "v",
           "showlegend": false,
           "textposition": "auto",
           "type": "bar",
           "x": [
            "Acura",
            "Audi",
            "BMW",
            "Buick",
            "Cadillac",
            "Chev Truck",
            "Chevrolet",
            "Chrysler",
            "Dodge",
            "Ford",
            "Ford Truck",
            "GMC",
            "GMC Truck",
            "Honda",
            "Hyundai",
            "Infiniti",
            "Isuzu",
            "Jaguar",
            "Jeep",
            "Kia",
            "Land Rover",
            "Lexus",
            "Lincoln",
            "Mazda",
            "Mercedes-Benz",
            "Mercury",
            "Mitsubishi",
            "Nissan",
            "Oldsmobile",
            "Plymouth",
            "Pontiac",
            "Porsche",
            "Saturn",
            "Scion",
            "Subaru",
            "Suzuki",
            "Toyota",
            "Volkswagen",
            "Volvo"
           ],
           "xaxis": "x",
           "y": [
            1462.9411764705883,
            1835.344827586207,
            2447.3130841121497,
            1362.2596153846155,
            1493.859649122807,
            2000,
            1961.584051724138,
            852.710843373494,
            965.7692307692307,
            1402.0569620253164,
            2800,
            1997.65625,
            2240,
            1636.105032822757,
            686.0576923076923,
            1595.5882352941176,
            874,
            2282.9166666666665,
            2034.9236641221373,
            1223.4375,
            1521.590909090909,
            4341.085271317829,
            1279.0760869565217,
            1066.7808219178082,
            2632.5757575757575,
            1165.0568181818182,
            1008.8028169014085,
            1504.915309446254,
            844.047619047619,
            15981.25,
            902.7272727272727,
            7983.333333333333,
            852.9850746268656,
            4500,
            1617.3076923076924,
            1466.6666666666667,
            2188.5650224215246,
            1183.3103448275863,
            974.4444444444445
           ],
           "yaxis": "y"
          }
         ],
         "name": "2000"
        },
        {
         "data": [
          {
           "alignmentgroup": "True",
           "hovertemplate": "year=2001<br>make=%{x}<br>sellingprice=%{y}<extra></extra>",
           "legendgroup": "",
           "marker": {
            "color": "#636efa",
            "pattern": {
             "shape": ""
            }
           },
           "name": "",
           "offsetgroup": "",
           "orientation": "v",
           "showlegend": false,
           "textposition": "auto",
           "type": "bar",
           "x": [
            "Acura",
            "Audi",
            "BMW",
            "Buick",
            "Cadillac",
            "Chevrolet",
            "Chrysler",
            "Daewoo",
            "Dodge",
            "Ford",
            "GMC",
            "HUMMER",
            "Honda",
            "Hyundai",
            "Infiniti",
            "Isuzu",
            "Jaguar",
            "Jeep",
            "Kia",
            "Land Rover",
            "Lexus",
            "Lincoln",
            "Mazda",
            "Mercedes-Benz",
            "Mercury",
            "Mitsubishi",
            "Nissan",
            "Oldsmobile",
            "Plymouth",
            "Pontiac",
            "Porsche",
            "Saturn",
            "Subaru",
            "Suzuki",
            "Toyota",
            "Volkswagen",
            "Volvo"
           ],
           "xaxis": "x",
           "y": [
            2363.6,
            2088.377192982456,
            3038.8544891640868,
            1408.132530120482,
            1300.485436893204,
            2463.8610315186247,
            1373.780487804878,
            400,
            1283.1521739130435,
            2060.808325266215,
            2646.9827586206898,
            45750,
            1847.7433628318583,
            985.9223300970874,
            1970.886075949367,
            1242.361111111111,
            2093.0851063829787,
            2516.875,
            740.625,
            2023.3333333333333,
            4663.383838383838,
            1468.1818181818182,
            1419.0944881889764,
            3126.127819548872,
            1133.695652173913,
            1240.9872611464968,
            1790.2972027972028,
            1050.8823529411766,
            23375,
            1211.5963855421687,
            9475.925925925925,
            954.5212765957447,
            1679.3478260869565,
            1270.4545454545455,
            2958.135775862069,
            1330.5785123966941,
            1310.8695652173913
           ],
           "yaxis": "y"
          }
         ],
         "name": "2001"
        },
        {
         "data": [
          {
           "alignmentgroup": "True",
           "hovertemplate": "year=2002<br>make=%{x}<br>sellingprice=%{y}<extra></extra>",
           "legendgroup": "",
           "marker": {
            "color": "#636efa",
            "pattern": {
             "shape": ""
            }
           },
           "name": "",
           "offsetgroup": "",
           "orientation": "v",
           "showlegend": false,
           "textposition": "auto",
           "type": "bar",
           "x": [
            "Acura",
            "Audi",
            "BMW",
            "Buick",
            "Cadillac",
            "Chevrolet",
            "Chrysler",
            "Dodge",
            "Ford",
            "GMC",
            "GMC Truck",
            "Honda",
            "Hyundai",
            "Infiniti",
            "Isuzu",
            "Jaguar",
            "Jeep",
            "Kia",
            "Land Rover",
            "Lexus",
            "Lincoln",
            "MINI",
            "Maserati",
            "Mazda",
            "Mercedes-Benz",
            "Mercury",
            "Mitsubishi",
            "Nissan",
            "Oldsmobile",
            "Pontiac",
            "Porsche",
            "Saab",
            "Saturn",
            "Subaru",
            "Suzuki",
            "Toyota",
            "Volkswagen",
            "Volvo"
           ],
           "xaxis": "x",
           "y": [
            2864.0173410404623,
            2635.6481481481483,
            3806.561679790026,
            1745.9558823529412,
            2646.0393258426966,
            2878.189655172414,
            1256.5972222222222,
            1394.155844155844,
            2518.8304735758406,
            2835.9683794466405,
            11600,
            2223.489932885906,
            1212.5,
            2319.84126984127,
            1734.2105263157894,
            2088.3561643835615,
            2596.2264150943397,
            858.6111111111111,
            1863.888888888889,
            5875.690607734807,
            1968.2926829268292,
            3162,
            16850,
            1606.3793103448277,
            3823.6619718309857,
            1378.0487804878048,
            1413.1294964028777,
            2146.95885509839,
            1158.7121212121212,
            1745.926966292135,
            14507.142857142857,
            1302.7777777777778,
            1024.8648648648648,
            2530.7291666666665,
            1485.4166666666667,
            3440.670170827858,
            1725.4032258064517,
            1698.951048951049
           ],
           "yaxis": "y"
          }
         ],
         "name": "2002"
        },
        {
         "data": [
          {
           "alignmentgroup": "True",
           "hovertemplate": "year=2003<br>make=%{x}<br>sellingprice=%{y}<extra></extra>",
           "legendgroup": "",
           "marker": {
            "color": "#636efa",
            "pattern": {
             "shape": ""
            }
           },
           "name": "",
           "offsetgroup": "",
           "orientation": "v",
           "showlegend": false,
           "textposition": "auto",
           "type": "bar",
           "x": [
            "Acura",
            "Audi",
            "BMW",
            "Buick",
            "Cadillac",
            "Chevrolet",
            "Chrysler",
            "Dodge",
            "Ford",
            "GMC",
            "HUMMER",
            "Honda",
            "Hyundai",
            "Infiniti",
            "Isuzu",
            "Jaguar",
            "Jeep",
            "Kia",
            "Land Rover",
            "Lexus",
            "Lincoln",
            "MINI",
            "Mazda",
            "Mercedes-Benz",
            "Mercury",
            "Mitsubishi",
            "Nissan",
            "Oldsmobile",
            "Pontiac",
            "Porsche",
            "Saab",
            "Saturn",
            "Subaru",
            "Suzuki",
            "Toyota",
            "Volkswagen",
            "Volvo"
           ],
           "xaxis": "x",
           "y": [
            3324.4932432432433,
            3488.793103448276,
            3998.59022556391,
            2052.094972067039,
            2999.2982456140353,
            3717.1862971516553,
            1369.375,
            3843.2251908396947,
            3043.545706371191,
            4206.25,
            13981.927710843374,
            3084.383033419023,
            1524.9149659863945,
            4306.076388888889,
            2028.5714285714287,
            2908.686440677966,
            3374.920127795527,
            1354.421768707483,
            2558.9285714285716,
            6460.121457489879,
            3090.8653846153848,
            3493.75,
            2043.987341772152,
            5650.293072824156,
            2081.3380281690143,
            1962.7475247524753,
            2750.575101488498,
            1113.8297872340424,
            1583.5858585858587,
            12233.333333333334,
            1622.857142857143,
            1524.144486692015,
            3086.470588235294,
            1517.5,
            4232.90273556231,
            2005.3268765133173,
            1995.2586206896551
           ],
           "yaxis": "y"
          }
         ],
         "name": "2003"
        },
        {
         "data": [
          {
           "alignmentgroup": "True",
           "hovertemplate": "year=2004<br>make=%{x}<br>sellingprice=%{y}<extra></extra>",
           "legendgroup": "",
           "marker": {
            "color": "#636efa",
            "pattern": {
             "shape": ""
            }
           },
           "name": "",
           "offsetgroup": "",
           "orientation": "v",
           "showlegend": false,
           "textposition": "auto",
           "type": "bar",
           "x": [
            "Acura",
            "Audi",
            "BMW",
            "Bentley",
            "Buick",
            "Cadillac",
            "Chevrolet",
            "Chrysler",
            "Dodge",
            "Ferrari",
            "Ford",
            "GMC",
            "HUMMER",
            "Honda",
            "Hyundai",
            "Hyundai Truck",
            "Infiniti",
            "Isuzu",
            "Jaguar",
            "Jeep",
            "Kia",
            "Land Rover",
            "Lexus",
            "Lincoln",
            "MINI",
            "Maserati",
            "Mazda",
            "Mercedes-Benz",
            "Mercury",
            "Mitsubishi",
            "Nissan",
            "Oldsmobile",
            "Pontiac",
            "Porsche",
            "Saab",
            "Saturn",
            "Scion",
            "Subaru",
            "Suzuki",
            "Toyota",
            "Volkswagen",
            "Volvo"
           ],
           "xaxis": "x",
           "y": [
            4680.533333333334,
            4188.438735177866,
            5349.769129287599,
            33900,
            2536.8119266055046,
            4178.562176165803,
            4731.536231884058,
            1739.8474178403756,
            4532.7097505668935,
            81000,
            4180.718623481781,
            5021.656686626747,
            15287.037037037036,
            3544.4041450777204,
            1795.2522255192878,
            2100,
            5793.444730077121,
            2439.1304347826085,
            3696.3636363636365,
            4227.932203389831,
            1688.061224489796,
            2845.5882352941176,
            8622.64,
            3780.7511737089203,
            4016.9014084507044,
            12750,
            2556.521739130435,
            6542.151898734177,
            2324.639423076923,
            2086.0054347826085,
            3861.3100252737995,
            1172.7272727272727,
            2169.975490196078,
            8900.617283950618,
            2175.9615384615386,
            1778.3405172413793,
            2930.4347826086955,
            4699.175824175824,
            1576.953125,
            5004.2075163398695,
            2996.7548076923076,
            3053.5915492957747
           ],
           "yaxis": "y"
          }
         ],
         "name": "2004"
        },
        {
         "data": [
          {
           "alignmentgroup": "True",
           "hovertemplate": "year=2005<br>make=%{x}<br>sellingprice=%{y}<extra></extra>",
           "legendgroup": "",
           "marker": {
            "color": "#636efa",
            "pattern": {
             "shape": ""
            }
           },
           "name": "",
           "offsetgroup": "",
           "orientation": "v",
           "showlegend": false,
           "textposition": "auto",
           "type": "bar",
           "x": [
            "Acura",
            "Audi",
            "BMW",
            "Bentley",
            "Buick",
            "Cadillac",
            "Chevrolet",
            "Chrysler",
            "Dodge",
            "Ferrari",
            "Ford",
            "GMC",
            "HUMMER",
            "Honda",
            "Hyundai",
            "Infiniti",
            "Isuzu",
            "Jaguar",
            "Jeep",
            "Kia",
            "Land Rover",
            "Lexus",
            "Lincoln",
            "MINI",
            "Maserati",
            "Mazda",
            "Mercedes-Benz",
            "Mercury",
            "Mitsubishi",
            "Nissan",
            "Pontiac",
            "Porsche",
            "Saab",
            "Saturn",
            "Scion",
            "Smart",
            "Subaru",
            "Suzuki",
            "Toyota",
            "Volkswagen",
            "Volvo"
           ],
           "xaxis": "x",
           "y": [
            5897.959183673469,
            5604.07196969697,
            6711.086637298091,
            47216.666666666664,
            3377.355623100304,
            5263.360071301247,
            4784.773738872404,
            3255.26185770751,
            4711.852220013254,
            109000,
            4673.502544031311,
            6612.092624356776,
            18204.938271604937,
            4501.551886792453,
            2477.3563218390805,
            6809.152542372882,
            2320,
            4768.333333333333,
            5649.088541666667,
            2223.469387755102,
            5123.076923076923,
            8712.826086956522,
            4807.857142857143,
            4572.8,
            14891.666666666666,
            3191.308411214953,
            8201.302521008403,
            2997.129186602871,
            2790.972222222222,
            4308.882183908046,
            2719.814814814815,
            12623.188405797102,
            3018.3823529411766,
            2029.3147208121827,
            3318.0555555555557,
            2000,
            5657.07182320442,
            1676.0869565217392,
            5368.75,
            3468.4754521963823,
            3867.1052631578946
           ],
           "yaxis": "y"
          }
         ],
         "name": "2005"
        },
        {
         "data": [
          {
           "alignmentgroup": "True",
           "hovertemplate": "year=2006<br>make=%{x}<br>sellingprice=%{y}<extra></extra>",
           "legendgroup": "",
           "marker": {
            "color": "#636efa",
            "pattern": {
             "shape": ""
            }
           },
           "name": "",
           "offsetgroup": "",
           "orientation": "v",
           "showlegend": false,
           "textposition": "auto",
           "type": "bar",
           "x": [
            "Acura",
            "Aston Martin",
            "Audi",
            "BMW",
            "Bentley",
            "Buick",
            "Cadillac",
            "Chevrolet",
            "Chrysler",
            "Dodge",
            "Ford",
            "GMC",
            "GMC Truck",
            "HUMMER",
            "Honda",
            "Hyundai",
            "Infiniti",
            "Isuzu",
            "Jaguar",
            "Jeep",
            "Kia",
            "Land Rover",
            "Lexus",
            "Lincoln",
            "MINI",
            "Maserati",
            "Mazda",
            "Mercedes-Benz",
            "Mercury",
            "Mitsubishi",
            "Nissan",
            "Pontiac",
            "Porsche",
            "Saab",
            "Saturn",
            "Scion",
            "Subaru",
            "Suzuki",
            "Toyota",
            "Volkswagen",
            "Volvo"
           ],
           "xaxis": "x",
           "y": [
            7247.469879518072,
            44000,
            6426.6355140186915,
            8220.03367003367,
            53363.63636363636,
            4169.477611940299,
            5738.275340393344,
            5202.549501424502,
            4130.050115651504,
            6504.096385542169,
            6141.887262535036,
            8001.446759259259,
            10200,
            13153.448275862069,
            5686.52466367713,
            3284.427001569859,
            8549.392201834862,
            3269.4444444444443,
            5764.84375,
            6136.206896551724,
            2904.4052863436123,
            12796.913580246914,
            10018.003273322422,
            6213.218390804598,
            5036.875,
            20002.272727272728,
            3888.284518828452,
            8629.549469964664,
            3677.8481012658226,
            3938.157894736842,
            5181.923293852228,
            3764.543596730245,
            16783.050847457627,
            3700.5263157894738,
            2605.739299610895,
            3673.170731707317,
            6641.473214285715,
            2505.0420168067226,
            6489.918032786885,
            3777.4197031039134,
            4640.222222222223
           ],
           "yaxis": "y"
          }
         ],
         "name": "2006"
        },
        {
         "data": [
          {
           "alignmentgroup": "True",
           "hovertemplate": "year=2007<br>make=%{x}<br>sellingprice=%{y}<extra></extra>",
           "legendgroup": "",
           "marker": {
            "color": "#636efa",
            "pattern": {
             "shape": ""
            }
           },
           "name": "",
           "offsetgroup": "",
           "orientation": "v",
           "showlegend": false,
           "textposition": "auto",
           "type": "bar",
           "x": [
            "Acura",
            "Aston Martin",
            "Audi",
            "BMW",
            "Bentley",
            "Buick",
            "Cadillac",
            "Chevrolet",
            "Chrysler",
            "Dodge",
            "Ferrari",
            "Ford",
            "GMC",
            "GMC Truck",
            "HUMMER",
            "Honda",
            "Hyundai",
            "Infiniti",
            "Isuzu",
            "Jaguar",
            "Jeep",
            "Kia",
            "Lamborghini",
            "Land Rover",
            "Lexus",
            "Lincoln",
            "Lotus",
            "MINI",
            "Maserati",
            "Mazda",
            "Mazda Truck",
            "Mercedes-Benz",
            "Mercury",
            "Mitsubishi",
            "Nissan",
            "Pontiac",
            "Porsche",
            "Saab",
            "Saturn",
            "Scion",
            "Subaru",
            "Suzuki",
            "Toyota",
            "Volkswagen",
            "Volvo"
           ],
           "xaxis": "x",
           "y": [
            10828.428927680798,
            50292.307692307695,
            9476.382978723404,
            10493.206627680313,
            62478.846153846156,
            5043.927392739274,
            12110.114702815432,
            8359.375789739703,
            4601.817501869858,
            5772.150997150997,
            106500,
            7096.606124287001,
            12009.514747859183,
            21425,
            15459.075268817205,
            6941.461159062886,
            4824.8341625207295,
            9833.653846153846,
            4557.142857142857,
            14457.758620689656,
            8827.81862745098,
            3573.226775956284,
            111500,
            14579.310344827587,
            11936.189710610932,
            8856.285714285714,
            40800,
            6094.409937888198,
            27060,
            5479.380952380952,
            6500,
            13731.693262411347,
            5103.631284916201,
            4509.437751004016,
            5900.867861142217,
            4272.12019826518,
            27121.428571428572,
            4625.373134328358,
            4181.114130434783,
            5061.180124223602,
            7356.8702290076335,
            2864.4871794871797,
            7707.482533768049,
            4797.1790808240885,
            6119.886363636364
           ],
           "yaxis": "y"
          }
         ],
         "name": "2007"
        },
        {
         "data": [
          {
           "alignmentgroup": "True",
           "hovertemplate": "year=2008<br>make=%{x}<br>sellingprice=%{y}<extra></extra>",
           "legendgroup": "",
           "marker": {
            "color": "#636efa",
            "pattern": {
             "shape": ""
            }
           },
           "name": "",
           "offsetgroup": "",
           "orientation": "v",
           "showlegend": false,
           "textposition": "auto",
           "type": "bar",
           "x": [
            "Acura",
            "Aston Martin",
            "Audi",
            "BMW",
            "Bentley",
            "Buick",
            "Cadillac",
            "Chevrolet",
            "Chrysler",
            "Dodge",
            "Ferrari",
            "Ford",
            "GMC",
            "HUMMER",
            "Honda",
            "Hyundai",
            "Infiniti",
            "Isuzu",
            "Jaguar",
            "Jeep",
            "Kia",
            "Lamborghini",
            "Land Rover",
            "Lexus",
            "Lincoln",
            "MINI",
            "Maserati",
            "Mazda",
            "Mercedes-Benz",
            "Mercury",
            "Mitsubishi",
            "Nissan",
            "Pontiac",
            "Porsche",
            "Saab",
            "Saturn",
            "Scion",
            "Smart",
            "Subaru",
            "Suzuki",
            "Toyota",
            "Volkswagen",
            "Volvo"
           ],
           "xaxis": "x",
           "y": [
            11809.11680911681,
            54600,
            12516.702355460386,
            12722.841429369068,
            67411.53846153847,
            9698.259860788863,
            13315.92485549133,
            8850.240567232211,
            5882.667694680031,
            7504.851722634104,
            117000,
            9566.201322556943,
            13335.539215686274,
            17207.08661417323,
            8255.227681246255,
            5574.208566108007,
            12468.779342723004,
            4633.333333333333,
            15911.42857142857,
            10398.006509357201,
            4271.925,
            116000,
            16602.260061919504,
            15016.480263157895,
            10263.919413919413,
            7142.17032967033,
            34994.444444444445,
            5554.108910891089,
            15511.507936507936,
            5844.771241830065,
            6767.439516129032,
            7196.420220082531,
            5072.07750952986,
            26096.75925925926,
            5875,
            5932.679738562091,
            5788.6281588447655,
            4238.372093023256,
            8603.728070175439,
            3556.1990950226245,
            10238.561804335091,
            6095.567010309278,
            8647.826086956522
           ],
           "yaxis": "y"
          }
         ],
         "name": "2008"
        },
        {
         "data": [
          {
           "alignmentgroup": "True",
           "hovertemplate": "year=2009<br>make=%{x}<br>sellingprice=%{y}<extra></extra>",
           "legendgroup": "",
           "marker": {
            "color": "#636efa",
            "pattern": {
             "shape": ""
            }
           },
           "name": "",
           "offsetgroup": "",
           "orientation": "v",
           "showlegend": false,
           "textposition": "auto",
           "type": "bar",
           "x": [
            "Acura",
            "Aston Martin",
            "Audi",
            "BMW",
            "Bentley",
            "Buick",
            "Cadillac",
            "Chevrolet",
            "Chrysler",
            "Dodge",
            "Ford",
            "GMC",
            "HUMMER",
            "Honda",
            "Hyundai",
            "Infiniti",
            "Jaguar",
            "Jeep",
            "Kia",
            "Land Rover",
            "Lexus",
            "Lincoln",
            "MINI",
            "Maserati",
            "Mazda",
            "Mercedes-Benz",
            "Mercury",
            "Mitsubishi",
            "Nissan",
            "Pontiac",
            "Porsche",
            "Saab",
            "Saturn",
            "Scion",
            "Smart",
            "Subaru",
            "Suzuki",
            "Toyota",
            "Volkswagen",
            "Volvo"
           ],
           "xaxis": "x",
           "y": [
            14050.829875518672,
            57000,
            16562.98780487805,
            16069.453734671126,
            82375,
            10985.539215686274,
            16939.041994750656,
            9586.486125041793,
            6663.530571992111,
            8247.431386347642,
            10408.049001814881,
            15829.178445229682,
            26172.222222222223,
            9769.14125200642,
            6690.188547486034,
            15062.948717948719,
            16091.509433962265,
            12904.003984063746,
            5379.864864864865,
            20105.555555555555,
            17225.08532423208,
            10984.722222222223,
            8231.754032258064,
            49207.692307692305,
            6715.090909090909,
            18979.274292742928,
            7160.588235294118,
            5180.747126436781,
            8721.212121212122,
            6775.574112734865,
            25274.56140350877,
            6900,
            6284.174311926606,
            5400,
            4271.428571428572,
            9771.739130434782,
            4462.254901960784,
            8603.40630005339,
            7594.3165467625895,
            9978.712871287129
           ],
           "yaxis": "y"
          }
         ],
         "name": "2009"
        },
        {
         "data": [
          {
           "alignmentgroup": "True",
           "hovertemplate": "year=2010<br>make=%{x}<br>sellingprice=%{y}<extra></extra>",
           "legendgroup": "",
           "marker": {
            "color": "#636efa",
            "pattern": {
             "shape": ""
            }
           },
           "name": "",
           "offsetgroup": "",
           "orientation": "v",
           "showlegend": false,
           "textposition": "auto",
           "type": "bar",
           "x": [
            "Acura",
            "Audi",
            "BMW",
            "Bentley",
            "Buick",
            "Cadillac",
            "Chevrolet",
            "Chrysler",
            "Dodge",
            "Ferrari",
            "Ford",
            "GMC",
            "HUMMER",
            "Honda",
            "Hyundai",
            "Infiniti",
            "Jaguar",
            "Jeep",
            "Kia",
            "Land Rover",
            "Lexus",
            "Lincoln",
            "MINI",
            "Maserati",
            "Mazda",
            "Mercedes-Benz",
            "Mercury",
            "Mitsubishi",
            "Nissan",
            "Pontiac",
            "Porsche",
            "Rolls-Royce",
            "Saab",
            "Scion",
            "Smart",
            "Subaru",
            "Suzuki",
            "Toyota",
            "Volkswagen",
            "Volvo"
           ],
           "xaxis": "x",
           "y": [
            16767.529880478087,
            20232.41042345277,
            18666.21835443038,
            98500,
            13745.714285714286,
            19374.10447761194,
            10982.505031275496,
            7967.662420382166,
            10104.175179720016,
            122000,
            13384.210843373494,
            16857.4625748503,
            18766.666666666668,
            10815.520684736091,
            7250.273348519362,
            20835.43046357616,
            21854.347826086956,
            14689.641203703704,
            6476.112656467316,
            27850,
            20900.801963993454,
            14113.181818181818,
            9982.298136645963,
            70833.33333333333,
            8245.131375579598,
            21362.599789915967,
            9318.037974683544,
            8001.587301587301,
            10310.691624365481,
            6437.5,
            35960,
            146325,
            10725,
            8150.990099009901,
            5550,
            11647.25,
            5265.714285714285,
            11207.126813289658,
            9087.845659163988,
            14366.954022988506
           ],
           "yaxis": "y"
          }
         ],
         "name": "2010"
        },
        {
         "data": [
          {
           "alignmentgroup": "True",
           "hovertemplate": "year=2011<br>make=%{x}<br>sellingprice=%{y}<extra></extra>",
           "legendgroup": "",
           "marker": {
            "color": "#636efa",
            "pattern": {
             "shape": ""
            }
           },
           "name": "",
           "offsetgroup": "",
           "orientation": "v",
           "showlegend": false,
           "textposition": "auto",
           "type": "bar",
           "x": [
            "Acura",
            "Aston Martin",
            "Audi",
            "BMW",
            "Bentley",
            "Buick",
            "Cadillac",
            "Chevrolet",
            "Chrysler",
            "Dodge",
            "Ferrari",
            "Ford",
            "GMC",
            "Honda",
            "Hyundai",
            "Infiniti",
            "Jaguar",
            "Jeep",
            "Kia",
            "Land Rover",
            "Lexus",
            "Lincoln",
            "MINI",
            "Maserati",
            "Mazda",
            "Mercedes-Benz",
            "Mercury",
            "Mitsubishi",
            "Nissan",
            "Porsche",
            "Ram",
            "Rolls-Royce",
            "Saab",
            "Scion",
            "Smart",
            "Subaru",
            "Suzuki",
            "Toyota",
            "Volkswagen",
            "Volvo"
           ],
           "xaxis": "x",
           "y": [
            20366.60839160839,
            98750,
            23390.212264150945,
            22007.648776925886,
            113500,
            14242.94560669456,
            23147.592245989305,
            12710.026967122276,
            11992.421441774492,
            11313.054862842893,
            183000,
            15344.499548095546,
            20827.293165467625,
            13936.752013808977,
            10055.284348864994,
            20395.593892593894,
            29928.073770491803,
            17827.00300075019,
            9859.936567164179,
            34580.44041450777,
            23068.901846452867,
            18723.575129533678,
            13037.843137254902,
            63312.5,
            11393.589743589744,
            24295.01223990208,
            10765.714285714286,
            9633.554376657825,
            13314.938144329897,
            46339.230769230766,
            19063.48773841962,
            149666.66666666666,
            10946.153846153846,
            9656.018518518518,
            5614.285714285715,
            15082.185185185184,
            6158.333333333333,
            14278.503864734299,
            10318.46635367762,
            16296.42857142857
           ],
           "yaxis": "y"
          }
         ],
         "name": "2011"
        },
        {
         "data": [
          {
           "alignmentgroup": "True",
           "hovertemplate": "year=2012<br>make=%{x}<br>sellingprice=%{y}<extra></extra>",
           "legendgroup": "",
           "marker": {
            "color": "#636efa",
            "pattern": {
             "shape": ""
            }
           },
           "name": "",
           "offsetgroup": "",
           "orientation": "v",
           "showlegend": false,
           "textposition": "auto",
           "type": "bar",
           "x": [
            "Acura",
            "Airstream",
            "Audi",
            "BMW",
            "Bentley",
            "Buick",
            "Cadillac",
            "Chevrolet",
            "Chrysler",
            "Dodge",
            "FIAT",
            "Ferrari",
            "Fisker",
            "Ford",
            "GMC",
            "Honda",
            "Hyundai",
            "Infiniti",
            "Jaguar",
            "Jeep",
            "Kia",
            "Land Rover",
            "Lexus",
            "Lincoln",
            "MINI",
            "Maserati",
            "Mazda",
            "Mercedes-Benz",
            "Mitsubishi",
            "Nissan",
            "Porsche",
            "Ram",
            "Rolls-Royce",
            "Scion",
            "Smart",
            "Subaru",
            "Suzuki",
            "Toyota",
            "Volkswagen",
            "Volvo"
           ],
           "xaxis": "x",
           "y": [
            20423.527851458886,
            71000,
            27952.371048252913,
            30268.94250513347,
            110916.66666666667,
            17085.525790349417,
            24505.676117775354,
            13061.534083209106,
            12224.161834120026,
            11678.92861952862,
            8014.472340425532,
            140285.7142857143,
            46461.11111111111,
            15441.23880126183,
            23159.199048374307,
            14667.215568862275,
            12729.519415258108,
            21502.470430107525,
            37001.60427807487,
            19468.83897932248,
            11925.456723338486,
            39343.934426229505,
            24959.630032644178,
            18256.211449676823,
            14244.888888888889,
            68026.66666666667,
            11863.695915279879,
            26863.443053435116,
            10604.82062780269,
            13044.97470229279,
            54033.203125,
            22724.01877133106,
            168500,
            10807.126168224298,
            6200,
            15822.96779661017,
            7843.689320388349,
            15284.61203319502,
            11809.036597428289,
            17701.39351851852
           ],
           "yaxis": "y"
          }
         ],
         "name": "2012"
        },
        {
         "data": [
          {
           "alignmentgroup": "True",
           "hovertemplate": "year=2013<br>make=%{x}<br>sellingprice=%{y}<extra></extra>",
           "legendgroup": "",
           "marker": {
            "color": "#636efa",
            "pattern": {
             "shape": ""
            }
           },
           "name": "",
           "offsetgroup": "",
           "orientation": "v",
           "showlegend": false,
           "textposition": "auto",
           "type": "bar",
           "x": [
            "Acura",
            "Audi",
            "BMW",
            "Bentley",
            "Buick",
            "Cadillac",
            "Chevrolet",
            "Chrysler",
            "Dodge",
            "FIAT",
            "Ford",
            "GMC",
            "Honda",
            "Hyundai",
            "Infiniti",
            "Jaguar",
            "Jeep",
            "Kia",
            "Land Rover",
            "Lexus",
            "Lincoln",
            "MINI",
            "Maserati",
            "Mazda",
            "Mercedes-Benz",
            "Mitsubishi",
            "Nissan",
            "Porsche",
            "Ram",
            "Rolls-Royce",
            "Scion",
            "Smart",
            "Subaru",
            "Suzuki",
            "Tesla",
            "Toyota",
            "Volkswagen",
            "Volvo"
           ],
           "xaxis": "x",
           "y": [
            23171.160409556313,
            30999.505649717514,
            33803.75626043406,
            135840.9090909091,
            15505.167279411764,
            26259.61111111111,
            14322.272377109317,
            13987.509545296773,
            13110.302579873569,
            9400.100386100386,
            17726.84708042271,
            26335.31395348837,
            17922.025620811983,
            12395.721411346618,
            23637.66988689915,
            38976.470588235294,
            23430.494394618832,
            12459.09497206704,
            45725.11111111111,
            30781.859903381643,
            25075.668738898756,
            16067.736486486487,
            82250,
            11917.686537173477,
            31571.240372272143,
            13080.65479876161,
            13986.78357636224,
            64615.953307393,
            24842.119924457034,
            171500,
            14979.241877256318,
            7475,
            18685.565140845072,
            8590.384615384615,
            66436.11111111111,
            15865.621682075753,
            13339.610450297367,
            20165.384615384617
           ],
           "yaxis": "y"
          }
         ],
         "name": "2013"
        },
        {
         "data": [
          {
           "alignmentgroup": "True",
           "hovertemplate": "year=2014<br>make=%{x}<br>sellingprice=%{y}<extra></extra>",
           "legendgroup": "",
           "marker": {
            "color": "#636efa",
            "pattern": {
             "shape": ""
            }
           },
           "name": "",
           "offsetgroup": "",
           "orientation": "v",
           "showlegend": false,
           "textposition": "auto",
           "type": "bar",
           "x": [
            "Acura",
            "Audi",
            "BMW",
            "Bentley",
            "Buick",
            "Cadillac",
            "Chevrolet",
            "Chrysler",
            "Dodge",
            "FIAT",
            "Ford",
            "GMC",
            "Honda",
            "Hyundai",
            "Infiniti",
            "Jaguar",
            "Jeep",
            "Kia",
            "Land Rover",
            "Lexus",
            "Lincoln",
            "MINI",
            "Maserati",
            "Mazda",
            "Mercedes-Benz",
            "Mitsubishi",
            "Nissan",
            "Porsche",
            "Ram",
            "Scion",
            "Smart",
            "Subaru",
            "Tesla",
            "Toyota",
            "Volkswagen",
            "Volvo"
           ],
           "xaxis": "x",
           "y": [
            31890.16393442623,
            41370.0221238938,
            43044.69870283019,
            154000,
            22342.795698924732,
            34497.46078431373,
            18372.80832174564,
            18320.09811799535,
            17616.112976207853,
            12585.109289617487,
            19567.93629789198,
            25349.307479224375,
            20192.723880597016,
            15306.121658271988,
            33429.17564870259,
            61988.296875,
            22609.8400241473,
            14341.490037259031,
            76534.23076923077,
            35503.577235772354,
            27884.757383966244,
            20776.80250783699,
            63195.833333333336,
            18678.97022332506,
            40599.697406340056,
            13502.32383808096,
            15176.091295116772,
            66080.20792079208,
            30192.64148527529,
            15707.142857142857,
            8620,
            21256.67099286178,
            69280,
            17279.391880268366,
            14878.978159126365,
            25316.363636363636
           ],
           "yaxis": "y"
          }
         ],
         "name": "2014"
        },
        {
         "data": [
          {
           "alignmentgroup": "True",
           "hovertemplate": "year=2015<br>make=%{x}<br>sellingprice=%{y}<extra></extra>",
           "legendgroup": "",
           "marker": {
            "color": "#636efa",
            "pattern": {
             "shape": ""
            }
           },
           "name": "",
           "offsetgroup": "",
           "orientation": "v",
           "showlegend": false,
           "textposition": "auto",
           "type": "bar",
           "x": [
            "Acura",
            "Audi",
            "BMW",
            "Buick",
            "Cadillac",
            "Chevrolet",
            "Chrysler",
            "Dodge",
            "FIAT",
            "Ford",
            "GMC",
            "Honda",
            "Hyundai",
            "Infiniti",
            "Jaguar",
            "Jeep",
            "Kia",
            "Land Rover",
            "Lexus",
            "Lincoln",
            "MINI",
            "Mazda",
            "Mercedes-Benz",
            "Mitsubishi",
            "Nissan",
            "Porsche",
            "Ram",
            "Scion",
            "Smart",
            "Subaru",
            "Toyota",
            "Volkswagen",
            "Volvo"
           ],
           "xaxis": "x",
           "y": [
            31159.090909090908,
            29541.666666666668,
            42937.234042553195,
            23759.426229508197,
            58142.74193548387,
            31729.954798331015,
            16951.22199592668,
            19175.20325203252,
            8740,
            27346.5,
            38531.32780082987,
            22065.584415584417,
            17441.70634920635,
            47235,
            75706.66666666667,
            27038.85542168675,
            19684.311740890687,
            55750,
            41307.8125,
            34945,
            23460.416666666668,
            18604.691689008043,
            52187.878787878784,
            15593.939393939394,
            16513.402889245586,
            60881.25,
            34639.36170212766,
            19333.333333333332,
            9166.666666666666,
            24541.313559322032,
            19302.995780590718,
            15184.831460674157,
            26107.682619647356
           ],
           "yaxis": "y"
          }
         ],
         "name": "2015"
        }
       ],
       "layout": {
        "autosize": true,
        "barmode": "relative",
        "legend": {
         "tracegroupgap": 0
        },
        "margin": {
         "t": 60
        },
        "sliders": [
         {
          "active": 11,
          "currentvalue": {
           "prefix": "year="
          },
          "len": 0.9,
          "pad": {
           "b": 10,
           "t": 60
          },
          "steps": [
           {
            "args": [
             [
              "1984"
             ],
             {
              "frame": {
               "duration": 0,
               "redraw": true
              },
              "fromcurrent": true,
              "mode": "immediate",
              "transition": {
               "duration": 0,
               "easing": "linear"
              }
             }
            ],
            "label": "1984",
            "method": "animate"
           },
           {
            "args": [
             [
              "1985"
             ],
             {
              "frame": {
               "duration": 0,
               "redraw": true
              },
              "fromcurrent": true,
              "mode": "immediate",
              "transition": {
               "duration": 0,
               "easing": "linear"
              }
             }
            ],
            "label": "1985",
            "method": "animate"
           },
           {
            "args": [
             [
              "1986"
             ],
             {
              "frame": {
               "duration": 0,
               "redraw": true
              },
              "fromcurrent": true,
              "mode": "immediate",
              "transition": {
               "duration": 0,
               "easing": "linear"
              }
             }
            ],
            "label": "1986",
            "method": "animate"
           },
           {
            "args": [
             [
              "1987"
             ],
             {
              "frame": {
               "duration": 0,
               "redraw": true
              },
              "fromcurrent": true,
              "mode": "immediate",
              "transition": {
               "duration": 0,
               "easing": "linear"
              }
             }
            ],
            "label": "1987",
            "method": "animate"
           },
           {
            "args": [
             [
              "1989"
             ],
             {
              "frame": {
               "duration": 0,
               "redraw": true
              },
              "fromcurrent": true,
              "mode": "immediate",
              "transition": {
               "duration": 0,
               "easing": "linear"
              }
             }
            ],
            "label": "1989",
            "method": "animate"
           },
           {
            "args": [
             [
              "1990"
             ],
             {
              "frame": {
               "duration": 0,
               "redraw": true
              },
              "fromcurrent": true,
              "mode": "immediate",
              "transition": {
               "duration": 0,
               "easing": "linear"
              }
             }
            ],
            "label": "1990",
            "method": "animate"
           },
           {
            "args": [
             [
              "1991"
             ],
             {
              "frame": {
               "duration": 0,
               "redraw": true
              },
              "fromcurrent": true,
              "mode": "immediate",
              "transition": {
               "duration": 0,
               "easing": "linear"
              }
             }
            ],
            "label": "1991",
            "method": "animate"
           },
           {
            "args": [
             [
              "1992"
             ],
             {
              "frame": {
               "duration": 0,
               "redraw": true
              },
              "fromcurrent": true,
              "mode": "immediate",
              "transition": {
               "duration": 0,
               "easing": "linear"
              }
             }
            ],
            "label": "1992",
            "method": "animate"
           },
           {
            "args": [
             [
              "1993"
             ],
             {
              "frame": {
               "duration": 0,
               "redraw": true
              },
              "fromcurrent": true,
              "mode": "immediate",
              "transition": {
               "duration": 0,
               "easing": "linear"
              }
             }
            ],
            "label": "1993",
            "method": "animate"
           },
           {
            "args": [
             [
              "1994"
             ],
             {
              "frame": {
               "duration": 0,
               "redraw": true
              },
              "fromcurrent": true,
              "mode": "immediate",
              "transition": {
               "duration": 0,
               "easing": "linear"
              }
             }
            ],
            "label": "1994",
            "method": "animate"
           },
           {
            "args": [
             [
              "1995"
             ],
             {
              "frame": {
               "duration": 0,
               "redraw": true
              },
              "fromcurrent": true,
              "mode": "immediate",
              "transition": {
               "duration": 0,
               "easing": "linear"
              }
             }
            ],
            "label": "1995",
            "method": "animate"
           },
           {
            "args": [
             [
              "1996"
             ],
             {
              "frame": {
               "duration": 0,
               "redraw": true
              },
              "fromcurrent": true,
              "mode": "immediate",
              "transition": {
               "duration": 0,
               "easing": "linear"
              }
             }
            ],
            "label": "1996",
            "method": "animate"
           },
           {
            "args": [
             [
              "1997"
             ],
             {
              "frame": {
               "duration": 0,
               "redraw": true
              },
              "fromcurrent": true,
              "mode": "immediate",
              "transition": {
               "duration": 0,
               "easing": "linear"
              }
             }
            ],
            "label": "1997",
            "method": "animate"
           },
           {
            "args": [
             [
              "1998"
             ],
             {
              "frame": {
               "duration": 0,
               "redraw": true
              },
              "fromcurrent": true,
              "mode": "immediate",
              "transition": {
               "duration": 0,
               "easing": "linear"
              }
             }
            ],
            "label": "1998",
            "method": "animate"
           },
           {
            "args": [
             [
              "1999"
             ],
             {
              "frame": {
               "duration": 0,
               "redraw": true
              },
              "fromcurrent": true,
              "mode": "immediate",
              "transition": {
               "duration": 0,
               "easing": "linear"
              }
             }
            ],
            "label": "1999",
            "method": "animate"
           },
           {
            "args": [
             [
              "2000"
             ],
             {
              "frame": {
               "duration": 0,
               "redraw": true
              },
              "fromcurrent": true,
              "mode": "immediate",
              "transition": {
               "duration": 0,
               "easing": "linear"
              }
             }
            ],
            "label": "2000",
            "method": "animate"
           },
           {
            "args": [
             [
              "2001"
             ],
             {
              "frame": {
               "duration": 0,
               "redraw": true
              },
              "fromcurrent": true,
              "mode": "immediate",
              "transition": {
               "duration": 0,
               "easing": "linear"
              }
             }
            ],
            "label": "2001",
            "method": "animate"
           },
           {
            "args": [
             [
              "2002"
             ],
             {
              "frame": {
               "duration": 0,
               "redraw": true
              },
              "fromcurrent": true,
              "mode": "immediate",
              "transition": {
               "duration": 0,
               "easing": "linear"
              }
             }
            ],
            "label": "2002",
            "method": "animate"
           },
           {
            "args": [
             [
              "2003"
             ],
             {
              "frame": {
               "duration": 0,
               "redraw": true
              },
              "fromcurrent": true,
              "mode": "immediate",
              "transition": {
               "duration": 0,
               "easing": "linear"
              }
             }
            ],
            "label": "2003",
            "method": "animate"
           },
           {
            "args": [
             [
              "2004"
             ],
             {
              "frame": {
               "duration": 0,
               "redraw": true
              },
              "fromcurrent": true,
              "mode": "immediate",
              "transition": {
               "duration": 0,
               "easing": "linear"
              }
             }
            ],
            "label": "2004",
            "method": "animate"
           },
           {
            "args": [
             [
              "2005"
             ],
             {
              "frame": {
               "duration": 0,
               "redraw": true
              },
              "fromcurrent": true,
              "mode": "immediate",
              "transition": {
               "duration": 0,
               "easing": "linear"
              }
             }
            ],
            "label": "2005",
            "method": "animate"
           },
           {
            "args": [
             [
              "2006"
             ],
             {
              "frame": {
               "duration": 0,
               "redraw": true
              },
              "fromcurrent": true,
              "mode": "immediate",
              "transition": {
               "duration": 0,
               "easing": "linear"
              }
             }
            ],
            "label": "2006",
            "method": "animate"
           },
           {
            "args": [
             [
              "2007"
             ],
             {
              "frame": {
               "duration": 0,
               "redraw": true
              },
              "fromcurrent": true,
              "mode": "immediate",
              "transition": {
               "duration": 0,
               "easing": "linear"
              }
             }
            ],
            "label": "2007",
            "method": "animate"
           },
           {
            "args": [
             [
              "2008"
             ],
             {
              "frame": {
               "duration": 0,
               "redraw": true
              },
              "fromcurrent": true,
              "mode": "immediate",
              "transition": {
               "duration": 0,
               "easing": "linear"
              }
             }
            ],
            "label": "2008",
            "method": "animate"
           },
           {
            "args": [
             [
              "2009"
             ],
             {
              "frame": {
               "duration": 0,
               "redraw": true
              },
              "fromcurrent": true,
              "mode": "immediate",
              "transition": {
               "duration": 0,
               "easing": "linear"
              }
             }
            ],
            "label": "2009",
            "method": "animate"
           },
           {
            "args": [
             [
              "2010"
             ],
             {
              "frame": {
               "duration": 0,
               "redraw": true
              },
              "fromcurrent": true,
              "mode": "immediate",
              "transition": {
               "duration": 0,
               "easing": "linear"
              }
             }
            ],
            "label": "2010",
            "method": "animate"
           },
           {
            "args": [
             [
              "2011"
             ],
             {
              "frame": {
               "duration": 0,
               "redraw": true
              },
              "fromcurrent": true,
              "mode": "immediate",
              "transition": {
               "duration": 0,
               "easing": "linear"
              }
             }
            ],
            "label": "2011",
            "method": "animate"
           },
           {
            "args": [
             [
              "2012"
             ],
             {
              "frame": {
               "duration": 0,
               "redraw": true
              },
              "fromcurrent": true,
              "mode": "immediate",
              "transition": {
               "duration": 0,
               "easing": "linear"
              }
             }
            ],
            "label": "2012",
            "method": "animate"
           },
           {
            "args": [
             [
              "2013"
             ],
             {
              "frame": {
               "duration": 0,
               "redraw": true
              },
              "fromcurrent": true,
              "mode": "immediate",
              "transition": {
               "duration": 0,
               "easing": "linear"
              }
             }
            ],
            "label": "2013",
            "method": "animate"
           },
           {
            "args": [
             [
              "2014"
             ],
             {
              "frame": {
               "duration": 0,
               "redraw": true
              },
              "fromcurrent": true,
              "mode": "immediate",
              "transition": {
               "duration": 0,
               "easing": "linear"
              }
             }
            ],
            "label": "2014",
            "method": "animate"
           },
           {
            "args": [
             [
              "2015"
             ],
             {
              "frame": {
               "duration": 0,
               "redraw": true
              },
              "fromcurrent": true,
              "mode": "immediate",
              "transition": {
               "duration": 0,
               "easing": "linear"
              }
             }
            ],
            "label": "2015",
            "method": "animate"
           }
          ],
          "x": 0.1,
          "xanchor": "left",
          "y": 0,
          "yanchor": "top"
         }
        ],
        "template": {
         "data": {
          "bar": [
           {
            "error_x": {
             "color": "#2a3f5f"
            },
            "error_y": {
             "color": "#2a3f5f"
            },
            "marker": {
             "line": {
              "color": "#E5ECF6",
              "width": 0.5
             },
             "pattern": {
              "fillmode": "overlay",
              "size": 10,
              "solidity": 0.2
             }
            },
            "type": "bar"
           }
          ],
          "barpolar": [
           {
            "marker": {
             "line": {
              "color": "#E5ECF6",
              "width": 0.5
             },
             "pattern": {
              "fillmode": "overlay",
              "size": 10,
              "solidity": 0.2
             }
            },
            "type": "barpolar"
           }
          ],
          "carpet": [
           {
            "aaxis": {
             "endlinecolor": "#2a3f5f",
             "gridcolor": "white",
             "linecolor": "white",
             "minorgridcolor": "white",
             "startlinecolor": "#2a3f5f"
            },
            "baxis": {
             "endlinecolor": "#2a3f5f",
             "gridcolor": "white",
             "linecolor": "white",
             "minorgridcolor": "white",
             "startlinecolor": "#2a3f5f"
            },
            "type": "carpet"
           }
          ],
          "choropleth": [
           {
            "colorbar": {
             "outlinewidth": 0,
             "ticks": ""
            },
            "type": "choropleth"
           }
          ],
          "contour": [
           {
            "colorbar": {
             "outlinewidth": 0,
             "ticks": ""
            },
            "colorscale": [
             [
              0,
              "#0d0887"
             ],
             [
              0.1111111111111111,
              "#46039f"
             ],
             [
              0.2222222222222222,
              "#7201a8"
             ],
             [
              0.3333333333333333,
              "#9c179e"
             ],
             [
              0.4444444444444444,
              "#bd3786"
             ],
             [
              0.5555555555555556,
              "#d8576b"
             ],
             [
              0.6666666666666666,
              "#ed7953"
             ],
             [
              0.7777777777777778,
              "#fb9f3a"
             ],
             [
              0.8888888888888888,
              "#fdca26"
             ],
             [
              1,
              "#f0f921"
             ]
            ],
            "type": "contour"
           }
          ],
          "contourcarpet": [
           {
            "colorbar": {
             "outlinewidth": 0,
             "ticks": ""
            },
            "type": "contourcarpet"
           }
          ],
          "heatmap": [
           {
            "colorbar": {
             "outlinewidth": 0,
             "ticks": ""
            },
            "colorscale": [
             [
              0,
              "#0d0887"
             ],
             [
              0.1111111111111111,
              "#46039f"
             ],
             [
              0.2222222222222222,
              "#7201a8"
             ],
             [
              0.3333333333333333,
              "#9c179e"
             ],
             [
              0.4444444444444444,
              "#bd3786"
             ],
             [
              0.5555555555555556,
              "#d8576b"
             ],
             [
              0.6666666666666666,
              "#ed7953"
             ],
             [
              0.7777777777777778,
              "#fb9f3a"
             ],
             [
              0.8888888888888888,
              "#fdca26"
             ],
             [
              1,
              "#f0f921"
             ]
            ],
            "type": "heatmap"
           }
          ],
          "heatmapgl": [
           {
            "colorbar": {
             "outlinewidth": 0,
             "ticks": ""
            },
            "colorscale": [
             [
              0,
              "#0d0887"
             ],
             [
              0.1111111111111111,
              "#46039f"
             ],
             [
              0.2222222222222222,
              "#7201a8"
             ],
             [
              0.3333333333333333,
              "#9c179e"
             ],
             [
              0.4444444444444444,
              "#bd3786"
             ],
             [
              0.5555555555555556,
              "#d8576b"
             ],
             [
              0.6666666666666666,
              "#ed7953"
             ],
             [
              0.7777777777777778,
              "#fb9f3a"
             ],
             [
              0.8888888888888888,
              "#fdca26"
             ],
             [
              1,
              "#f0f921"
             ]
            ],
            "type": "heatmapgl"
           }
          ],
          "histogram": [
           {
            "marker": {
             "pattern": {
              "fillmode": "overlay",
              "size": 10,
              "solidity": 0.2
             }
            },
            "type": "histogram"
           }
          ],
          "histogram2d": [
           {
            "colorbar": {
             "outlinewidth": 0,
             "ticks": ""
            },
            "colorscale": [
             [
              0,
              "#0d0887"
             ],
             [
              0.1111111111111111,
              "#46039f"
             ],
             [
              0.2222222222222222,
              "#7201a8"
             ],
             [
              0.3333333333333333,
              "#9c179e"
             ],
             [
              0.4444444444444444,
              "#bd3786"
             ],
             [
              0.5555555555555556,
              "#d8576b"
             ],
             [
              0.6666666666666666,
              "#ed7953"
             ],
             [
              0.7777777777777778,
              "#fb9f3a"
             ],
             [
              0.8888888888888888,
              "#fdca26"
             ],
             [
              1,
              "#f0f921"
             ]
            ],
            "type": "histogram2d"
           }
          ],
          "histogram2dcontour": [
           {
            "colorbar": {
             "outlinewidth": 0,
             "ticks": ""
            },
            "colorscale": [
             [
              0,
              "#0d0887"
             ],
             [
              0.1111111111111111,
              "#46039f"
             ],
             [
              0.2222222222222222,
              "#7201a8"
             ],
             [
              0.3333333333333333,
              "#9c179e"
             ],
             [
              0.4444444444444444,
              "#bd3786"
             ],
             [
              0.5555555555555556,
              "#d8576b"
             ],
             [
              0.6666666666666666,
              "#ed7953"
             ],
             [
              0.7777777777777778,
              "#fb9f3a"
             ],
             [
              0.8888888888888888,
              "#fdca26"
             ],
             [
              1,
              "#f0f921"
             ]
            ],
            "type": "histogram2dcontour"
           }
          ],
          "mesh3d": [
           {
            "colorbar": {
             "outlinewidth": 0,
             "ticks": ""
            },
            "type": "mesh3d"
           }
          ],
          "parcoords": [
           {
            "line": {
             "colorbar": {
              "outlinewidth": 0,
              "ticks": ""
             }
            },
            "type": "parcoords"
           }
          ],
          "pie": [
           {
            "automargin": true,
            "type": "pie"
           }
          ],
          "scatter": [
           {
            "fillpattern": {
             "fillmode": "overlay",
             "size": 10,
             "solidity": 0.2
            },
            "type": "scatter"
           }
          ],
          "scatter3d": [
           {
            "line": {
             "colorbar": {
              "outlinewidth": 0,
              "ticks": ""
             }
            },
            "marker": {
             "colorbar": {
              "outlinewidth": 0,
              "ticks": ""
             }
            },
            "type": "scatter3d"
           }
          ],
          "scattercarpet": [
           {
            "marker": {
             "colorbar": {
              "outlinewidth": 0,
              "ticks": ""
             }
            },
            "type": "scattercarpet"
           }
          ],
          "scattergeo": [
           {
            "marker": {
             "colorbar": {
              "outlinewidth": 0,
              "ticks": ""
             }
            },
            "type": "scattergeo"
           }
          ],
          "scattergl": [
           {
            "marker": {
             "colorbar": {
              "outlinewidth": 0,
              "ticks": ""
             }
            },
            "type": "scattergl"
           }
          ],
          "scattermapbox": [
           {
            "marker": {
             "colorbar": {
              "outlinewidth": 0,
              "ticks": ""
             }
            },
            "type": "scattermapbox"
           }
          ],
          "scatterpolar": [
           {
            "marker": {
             "colorbar": {
              "outlinewidth": 0,
              "ticks": ""
             }
            },
            "type": "scatterpolar"
           }
          ],
          "scatterpolargl": [
           {
            "marker": {
             "colorbar": {
              "outlinewidth": 0,
              "ticks": ""
             }
            },
            "type": "scatterpolargl"
           }
          ],
          "scatterternary": [
           {
            "marker": {
             "colorbar": {
              "outlinewidth": 0,
              "ticks": ""
             }
            },
            "type": "scatterternary"
           }
          ],
          "surface": [
           {
            "colorbar": {
             "outlinewidth": 0,
             "ticks": ""
            },
            "colorscale": [
             [
              0,
              "#0d0887"
             ],
             [
              0.1111111111111111,
              "#46039f"
             ],
             [
              0.2222222222222222,
              "#7201a8"
             ],
             [
              0.3333333333333333,
              "#9c179e"
             ],
             [
              0.4444444444444444,
              "#bd3786"
             ],
             [
              0.5555555555555556,
              "#d8576b"
             ],
             [
              0.6666666666666666,
              "#ed7953"
             ],
             [
              0.7777777777777778,
              "#fb9f3a"
             ],
             [
              0.8888888888888888,
              "#fdca26"
             ],
             [
              1,
              "#f0f921"
             ]
            ],
            "type": "surface"
           }
          ],
          "table": [
           {
            "cells": {
             "fill": {
              "color": "#EBF0F8"
             },
             "line": {
              "color": "white"
             }
            },
            "header": {
             "fill": {
              "color": "#C8D4E3"
             },
             "line": {
              "color": "white"
             }
            },
            "type": "table"
           }
          ]
         },
         "layout": {
          "annotationdefaults": {
           "arrowcolor": "#2a3f5f",
           "arrowhead": 0,
           "arrowwidth": 1
          },
          "autotypenumbers": "strict",
          "coloraxis": {
           "colorbar": {
            "outlinewidth": 0,
            "ticks": ""
           }
          },
          "colorscale": {
           "diverging": [
            [
             0,
             "#8e0152"
            ],
            [
             0.1,
             "#c51b7d"
            ],
            [
             0.2,
             "#de77ae"
            ],
            [
             0.3,
             "#f1b6da"
            ],
            [
             0.4,
             "#fde0ef"
            ],
            [
             0.5,
             "#f7f7f7"
            ],
            [
             0.6,
             "#e6f5d0"
            ],
            [
             0.7,
             "#b8e186"
            ],
            [
             0.8,
             "#7fbc41"
            ],
            [
             0.9,
             "#4d9221"
            ],
            [
             1,
             "#276419"
            ]
           ],
           "sequential": [
            [
             0,
             "#0d0887"
            ],
            [
             0.1111111111111111,
             "#46039f"
            ],
            [
             0.2222222222222222,
             "#7201a8"
            ],
            [
             0.3333333333333333,
             "#9c179e"
            ],
            [
             0.4444444444444444,
             "#bd3786"
            ],
            [
             0.5555555555555556,
             "#d8576b"
            ],
            [
             0.6666666666666666,
             "#ed7953"
            ],
            [
             0.7777777777777778,
             "#fb9f3a"
            ],
            [
             0.8888888888888888,
             "#fdca26"
            ],
            [
             1,
             "#f0f921"
            ]
           ],
           "sequentialminus": [
            [
             0,
             "#0d0887"
            ],
            [
             0.1111111111111111,
             "#46039f"
            ],
            [
             0.2222222222222222,
             "#7201a8"
            ],
            [
             0.3333333333333333,
             "#9c179e"
            ],
            [
             0.4444444444444444,
             "#bd3786"
            ],
            [
             0.5555555555555556,
             "#d8576b"
            ],
            [
             0.6666666666666666,
             "#ed7953"
            ],
            [
             0.7777777777777778,
             "#fb9f3a"
            ],
            [
             0.8888888888888888,
             "#fdca26"
            ],
            [
             1,
             "#f0f921"
            ]
           ]
          },
          "colorway": [
           "#636efa",
           "#EF553B",
           "#00cc96",
           "#ab63fa",
           "#FFA15A",
           "#19d3f3",
           "#FF6692",
           "#B6E880",
           "#FF97FF",
           "#FECB52"
          ],
          "font": {
           "color": "#2a3f5f"
          },
          "geo": {
           "bgcolor": "white",
           "lakecolor": "white",
           "landcolor": "#E5ECF6",
           "showlakes": true,
           "showland": true,
           "subunitcolor": "white"
          },
          "hoverlabel": {
           "align": "left"
          },
          "hovermode": "closest",
          "mapbox": {
           "style": "light"
          },
          "paper_bgcolor": "white",
          "plot_bgcolor": "#E5ECF6",
          "polar": {
           "angularaxis": {
            "gridcolor": "white",
            "linecolor": "white",
            "ticks": ""
           },
           "bgcolor": "#E5ECF6",
           "radialaxis": {
            "gridcolor": "white",
            "linecolor": "white",
            "ticks": ""
           }
          },
          "scene": {
           "xaxis": {
            "backgroundcolor": "#E5ECF6",
            "gridcolor": "white",
            "gridwidth": 2,
            "linecolor": "white",
            "showbackground": true,
            "ticks": "",
            "zerolinecolor": "white"
           },
           "yaxis": {
            "backgroundcolor": "#E5ECF6",
            "gridcolor": "white",
            "gridwidth": 2,
            "linecolor": "white",
            "showbackground": true,
            "ticks": "",
            "zerolinecolor": "white"
           },
           "zaxis": {
            "backgroundcolor": "#E5ECF6",
            "gridcolor": "white",
            "gridwidth": 2,
            "linecolor": "white",
            "showbackground": true,
            "ticks": "",
            "zerolinecolor": "white"
           }
          },
          "shapedefaults": {
           "line": {
            "color": "#2a3f5f"
           }
          },
          "ternary": {
           "aaxis": {
            "gridcolor": "white",
            "linecolor": "white",
            "ticks": ""
           },
           "baxis": {
            "gridcolor": "white",
            "linecolor": "white",
            "ticks": ""
           },
           "bgcolor": "#E5ECF6",
           "caxis": {
            "gridcolor": "white",
            "linecolor": "white",
            "ticks": ""
           }
          },
          "title": {
           "x": 0.05
          },
          "xaxis": {
           "automargin": true,
           "gridcolor": "white",
           "linecolor": "white",
           "ticks": "",
           "title": {
            "standoff": 15
           },
           "zerolinecolor": "white",
           "zerolinewidth": 2
          },
          "yaxis": {
           "automargin": true,
           "gridcolor": "white",
           "linecolor": "white",
           "ticks": "",
           "title": {
            "standoff": 15
           },
           "zerolinecolor": "white",
           "zerolinewidth": 2
          }
         }
        },
        "updatemenus": [
         {
          "buttons": [
           {
            "args": [
             null,
             {
              "frame": {
               "duration": 500,
               "redraw": true
              },
              "fromcurrent": true,
              "mode": "immediate",
              "transition": {
               "duration": 500,
               "easing": "linear"
              }
             }
            ],
            "label": "&#9654;",
            "method": "animate"
           },
           {
            "args": [
             [
              null
             ],
             {
              "frame": {
               "duration": 0,
               "redraw": true
              },
              "fromcurrent": true,
              "mode": "immediate",
              "transition": {
               "duration": 0,
               "easing": "linear"
              }
             }
            ],
            "label": "&#9724;",
            "method": "animate"
           }
          ],
          "direction": "left",
          "pad": {
           "r": 10,
           "t": 70
          },
          "showactive": false,
          "type": "buttons",
          "x": 0.1,
          "xanchor": "right",
          "y": 0,
          "yanchor": "top"
         }
        ],
        "xaxis": {
         "anchor": "y",
         "autorange": true,
         "domain": [
          0,
          1
         ],
         "range": [
          -0.5,
          30.5
         ],
         "title": {
          "text": "make"
         },
         "type": "category"
        },
        "yaxis": {
         "anchor": "x",
         "autorange": true,
         "domain": [
          0,
          1
         ],
         "range": [
          0,
          2088.815789473684
         ],
         "title": {
          "text": "sellingprice"
         },
         "type": "linear"
        }
       }
      },
      "image/png": "[encoded data removed]",
      "text/html": [
       "<div>                            <div id=\"47b287f4-a468-46d5-8788-ffc6f225ea51\" class=\"plotly-graph-div\" style=\"height:525px; width:100%;\"></div>            <script type=\"text/javascript\">                require([\"plotly\"], function(Plotly) {                    window.PLOTLYENV=window.PLOTLYENV || {};                                    if (document.getElementById(\"47b287f4-a468-46d5-8788-ffc6f225ea51\")) {                    Plotly.newPlot(                        \"47b287f4-a468-46d5-8788-ffc6f225ea51\",                        [{\"alignmentgroup\":\"True\",\"hovertemplate\":\"year=1984\\u003cbr\\u003emake=%{x}\\u003cbr\\u003esellingprice=%{y}\\u003cextra\\u003e\\u003c\\u002fextra\\u003e\",\"legendgroup\":\"\",\"marker\":{\"color\":\"#636efa\",\"pattern\":{\"shape\":\"\"}},\"name\":\"\",\"offsetgroup\":\"\",\"orientation\":\"v\",\"showlegend\":false,\"textposition\":\"auto\",\"x\":[\"Chevrolet\"],\"xaxis\":\"x\",\"y\":[3100.0],\"yaxis\":\"y\",\"type\":\"bar\"}],                        {\"template\":{\"data\":{\"histogram2dcontour\":[{\"type\":\"histogram2dcontour\",\"colorbar\":{\"outlinewidth\":0,\"ticks\":\"\"},\"colorscale\":[[0.0,\"#0d0887\"],[0.1111111111111111,\"#46039f\"],[0.2222222222222222,\"#7201a8\"],[0.3333333333333333,\"#9c179e\"],[0.4444444444444444,\"#bd3786\"],[0.5555555555555556,\"#d8576b\"],[0.6666666666666666,\"#ed7953\"],[0.7777777777777778,\"#fb9f3a\"],[0.8888888888888888,\"#fdca26\"],[1.0,\"#f0f921\"]]}],\"choropleth\":[{\"type\":\"choropleth\",\"colorbar\":{\"outlinewidth\":0,\"ticks\":\"\"}}],\"histogram2d\":[{\"type\":\"histogram2d\",\"colorbar\":{\"outlinewidth\":0,\"ticks\":\"\"},\"colorscale\":[[0.0,\"#0d0887\"],[0.1111111111111111,\"#46039f\"],[0.2222222222222222,\"#7201a8\"],[0.3333333333333333,\"#9c179e\"],[0.4444444444444444,\"#bd3786\"],[0.5555555555555556,\"#d8576b\"],[0.6666666666666666,\"#ed7953\"],[0.7777777777777778,\"#fb9f3a\"],[0.8888888888888888,\"#fdca26\"],[1.0,\"#f0f921\"]]}],\"heatmap\":[{\"type\":\"heatmap\",\"colorbar\":{\"outlinewidth\":0,\"ticks\":\"\"},\"colorscale\":[[0.0,\"#0d0887\"],[0.1111111111111111,\"#46039f\"],[0.2222222222222222,\"#7201a8\"],[0.3333333333333333,\"#9c179e\"],[0.4444444444444444,\"#bd3786\"],[0.5555555555555556,\"#d8576b\"],[0.6666666666666666,\"#ed7953\"],[0.7777777777777778,\"#fb9f3a\"],[0.8888888888888888,\"#fdca26\"],[1.0,\"#f0f921\"]]}],\"heatmapgl\":[{\"type\":\"heatmapgl\",\"colorbar\":{\"outlinewidth\":0,\"ticks\":\"\"},\"colorscale\":[[0.0,\"#0d0887\"],[0.1111111111111111,\"#46039f\"],[0.2222222222222222,\"#7201a8\"],[0.3333333333333333,\"#9c179e\"],[0.4444444444444444,\"#bd3786\"],[0.5555555555555556,\"#d8576b\"],[0.6666666666666666,\"#ed7953\"],[0.7777777777777778,\"#fb9f3a\"],[0.8888888888888888,\"#fdca26\"],[1.0,\"#f0f921\"]]}],\"contourcarpet\":[{\"type\":\"contourcarpet\",\"colorbar\":{\"outlinewidth\":0,\"ticks\":\"\"}}],\"contour\":[{\"type\":\"contour\",\"colorbar\":{\"outlinewidth\":0,\"ticks\":\"\"},\"colorscale\":[[0.0,\"#0d0887\"],[0.1111111111111111,\"#46039f\"],[0.2222222222222222,\"#7201a8\"],[0.3333333333333333,\"#9c179e\"],[0.4444444444444444,\"#bd3786\"],[0.5555555555555556,\"#d8576b\"],[0.6666666666666666,\"#ed7953\"],[0.7777777777777778,\"#fb9f3a\"],[0.8888888888888888,\"#fdca26\"],[1.0,\"#f0f921\"]]}],\"surface\":[{\"type\":\"surface\",\"colorbar\":{\"outlinewidth\":0,\"ticks\":\"\"},\"colorscale\":[[0.0,\"#0d0887\"],[0.1111111111111111,\"#46039f\"],[0.2222222222222222,\"#7201a8\"],[0.3333333333333333,\"#9c179e\"],[0.4444444444444444,\"#bd3786\"],[0.5555555555555556,\"#d8576b\"],[0.6666666666666666,\"#ed7953\"],[0.7777777777777778,\"#fb9f3a\"],[0.8888888888888888,\"#fdca26\"],[1.0,\"#f0f921\"]]}],\"mesh3d\":[{\"type\":\"mesh3d\",\"colorbar\":{\"outlinewidth\":0,\"ticks\":\"\"}}],\"scatter\":[{\"fillpattern\":{\"fillmode\":\"overlay\",\"size\":10,\"solidity\":0.2},\"type\":\"scatter\"}],\"parcoords\":[{\"type\":\"parcoords\",\"line\":{\"colorbar\":{\"outlinewidth\":0,\"ticks\":\"\"}}}],\"scatterpolargl\":[{\"type\":\"scatterpolargl\",\"marker\":{\"colorbar\":{\"outlinewidth\":0,\"ticks\":\"\"}}}],\"bar\":[{\"error_x\":{\"color\":\"#2a3f5f\"},\"error_y\":{\"color\":\"#2a3f5f\"},\"marker\":{\"line\":{\"color\":\"#E5ECF6\",\"width\":0.5},\"pattern\":{\"fillmode\":\"overlay\",\"size\":10,\"solidity\":0.2}},\"type\":\"bar\"}],\"scattergeo\":[{\"type\":\"scattergeo\",\"marker\":{\"colorbar\":{\"outlinewidth\":0,\"ticks\":\"\"}}}],\"scatterpolar\":[{\"type\":\"scatterpolar\",\"marker\":{\"colorbar\":{\"outlinewidth\":0,\"ticks\":\"\"}}}],\"histogram\":[{\"marker\":{\"pattern\":{\"fillmode\":\"overlay\",\"size\":10,\"solidity\":0.2}},\"type\":\"histogram\"}],\"scattergl\":[{\"type\":\"scattergl\",\"marker\":{\"colorbar\":{\"outlinewidth\":0,\"ticks\":\"\"}}}],\"scatter3d\":[{\"type\":\"scatter3d\",\"line\":{\"colorbar\":{\"outlinewidth\":0,\"ticks\":\"\"}},\"marker\":{\"colorbar\":{\"outlinewidth\":0,\"ticks\":\"\"}}}],\"scattermapbox\":[{\"type\":\"scattermapbox\",\"marker\":{\"colorbar\":{\"outlinewidth\":0,\"ticks\":\"\"}}}],\"scatterternary\":[{\"type\":\"scatterternary\",\"marker\":{\"colorbar\":{\"outlinewidth\":0,\"ticks\":\"\"}}}],\"scattercarpet\":[{\"type\":\"scattercarpet\",\"marker\":{\"colorbar\":{\"outlinewidth\":0,\"ticks\":\"\"}}}],\"carpet\":[{\"aaxis\":{\"endlinecolor\":\"#2a3f5f\",\"gridcolor\":\"white\",\"linecolor\":\"white\",\"minorgridcolor\":\"white\",\"startlinecolor\":\"#2a3f5f\"},\"baxis\":{\"endlinecolor\":\"#2a3f5f\",\"gridcolor\":\"white\",\"linecolor\":\"white\",\"minorgridcolor\":\"white\",\"startlinecolor\":\"#2a3f5f\"},\"type\":\"carpet\"}],\"table\":[{\"cells\":{\"fill\":{\"color\":\"#EBF0F8\"},\"line\":{\"color\":\"white\"}},\"header\":{\"fill\":{\"color\":\"#C8D4E3\"},\"line\":{\"color\":\"white\"}},\"type\":\"table\"}],\"barpolar\":[{\"marker\":{\"line\":{\"color\":\"#E5ECF6\",\"width\":0.5},\"pattern\":{\"fillmode\":\"overlay\",\"size\":10,\"solidity\":0.2}},\"type\":\"barpolar\"}],\"pie\":[{\"automargin\":true,\"type\":\"pie\"}]},\"layout\":{\"autotypenumbers\":\"strict\",\"colorway\":[\"#636efa\",\"#EF553B\",\"#00cc96\",\"#ab63fa\",\"#FFA15A\",\"#19d3f3\",\"#FF6692\",\"#B6E880\",\"#FF97FF\",\"#FECB52\"],\"font\":{\"color\":\"#2a3f5f\"},\"hovermode\":\"closest\",\"hoverlabel\":{\"align\":\"left\"},\"paper_bgcolor\":\"white\",\"plot_bgcolor\":\"#E5ECF6\",\"polar\":{\"bgcolor\":\"#E5ECF6\",\"angularaxis\":{\"gridcolor\":\"white\",\"linecolor\":\"white\",\"ticks\":\"\"},\"radialaxis\":{\"gridcolor\":\"white\",\"linecolor\":\"white\",\"ticks\":\"\"}},\"ternary\":{\"bgcolor\":\"#E5ECF6\",\"aaxis\":{\"gridcolor\":\"white\",\"linecolor\":\"white\",\"ticks\":\"\"},\"baxis\":{\"gridcolor\":\"white\",\"linecolor\":\"white\",\"ticks\":\"\"},\"caxis\":{\"gridcolor\":\"white\",\"linecolor\":\"white\",\"ticks\":\"\"}},\"coloraxis\":{\"colorbar\":{\"outlinewidth\":0,\"ticks\":\"\"}},\"colorscale\":{\"sequential\":[[0.0,\"#0d0887\"],[0.1111111111111111,\"#46039f\"],[0.2222222222222222,\"#7201a8\"],[0.3333333333333333,\"#9c179e\"],[0.4444444444444444,\"#bd3786\"],[0.5555555555555556,\"#d8576b\"],[0.6666666666666666,\"#ed7953\"],[0.7777777777777778,\"#fb9f3a\"],[0.8888888888888888,\"#fdca26\"],[1.0,\"#f0f921\"]],\"sequentialminus\":[[0.0,\"#0d0887\"],[0.1111111111111111,\"#46039f\"],[0.2222222222222222,\"#7201a8\"],[0.3333333333333333,\"#9c179e\"],[0.4444444444444444,\"#bd3786\"],[0.5555555555555556,\"#d8576b\"],[0.6666666666666666,\"#ed7953\"],[0.7777777777777778,\"#fb9f3a\"],[0.8888888888888888,\"#fdca26\"],[1.0,\"#f0f921\"]],\"diverging\":[[0,\"#8e0152\"],[0.1,\"#c51b7d\"],[0.2,\"#de77ae\"],[0.3,\"#f1b6da\"],[0.4,\"#fde0ef\"],[0.5,\"#f7f7f7\"],[0.6,\"#e6f5d0\"],[0.7,\"#b8e186\"],[0.8,\"#7fbc41\"],[0.9,\"#4d9221\"],[1,\"#276419\"]]},\"xaxis\":{\"gridcolor\":\"white\",\"linecolor\":\"white\",\"ticks\":\"\",\"title\":{\"standoff\":15},\"zerolinecolor\":\"white\",\"automargin\":true,\"zerolinewidth\":2},\"yaxis\":{\"gridcolor\":\"white\",\"linecolor\":\"white\",\"ticks\":\"\",\"title\":{\"standoff\":15},\"zerolinecolor\":\"white\",\"automargin\":true,\"zerolinewidth\":2},\"scene\":{\"xaxis\":{\"backgroundcolor\":\"#E5ECF6\",\"gridcolor\":\"white\",\"linecolor\":\"white\",\"showbackground\":true,\"ticks\":\"\",\"zerolinecolor\":\"white\",\"gridwidth\":2},\"yaxis\":{\"backgroundcolor\":\"#E5ECF6\",\"gridcolor\":\"white\",\"linecolor\":\"white\",\"showbackground\":true,\"ticks\":\"\",\"zerolinecolor\":\"white\",\"gridwidth\":2},\"zaxis\":{\"backgroundcolor\":\"#E5ECF6\",\"gridcolor\":\"white\",\"linecolor\":\"white\",\"showbackground\":true,\"ticks\":\"\",\"zerolinecolor\":\"white\",\"gridwidth\":2}},\"shapedefaults\":{\"line\":{\"color\":\"#2a3f5f\"}},\"annotationdefaults\":{\"arrowcolor\":\"#2a3f5f\",\"arrowhead\":0,\"arrowwidth\":1},\"geo\":{\"bgcolor\":\"white\",\"landcolor\":\"#E5ECF6\",\"subunitcolor\":\"white\",\"showland\":true,\"showlakes\":true,\"lakecolor\":\"white\"},\"title\":{\"x\":0.05},\"mapbox\":{\"style\":\"light\"}}},\"xaxis\":{\"anchor\":\"y\",\"domain\":[0.0,1.0],\"title\":{\"text\":\"make\"}},\"yaxis\":{\"anchor\":\"x\",\"domain\":[0.0,1.0],\"title\":{\"text\":\"sellingprice\"}},\"legend\":{\"tracegroupgap\":0},\"margin\":{\"t\":60},\"barmode\":\"relative\",\"updatemenus\":[{\"buttons\":[{\"args\":[null,{\"frame\":{\"duration\":500,\"redraw\":true},\"mode\":\"immediate\",\"fromcurrent\":true,\"transition\":{\"duration\":500,\"easing\":\"linear\"}}],\"label\":\"&#9654;\",\"method\":\"animate\"},{\"args\":[[null],{\"frame\":{\"duration\":0,\"redraw\":true},\"mode\":\"immediate\",\"fromcurrent\":true,\"transition\":{\"duration\":0,\"easing\":\"linear\"}}],\"label\":\"&#9724;\",\"method\":\"animate\"}],\"direction\":\"left\",\"pad\":{\"r\":10,\"t\":70},\"showactive\":false,\"type\":\"buttons\",\"x\":0.1,\"xanchor\":\"right\",\"y\":0,\"yanchor\":\"top\"}],\"sliders\":[{\"active\":0,\"currentvalue\":{\"prefix\":\"year=\"},\"len\":0.9,\"pad\":{\"b\":10,\"t\":60},\"steps\":[{\"args\":[[\"1984\"],{\"frame\":{\"duration\":0,\"redraw\":true},\"mode\":\"immediate\",\"fromcurrent\":true,\"transition\":{\"duration\":0,\"easing\":\"linear\"}}],\"label\":\"1984\",\"method\":\"animate\"},{\"args\":[[\"1985\"],{\"frame\":{\"duration\":0,\"redraw\":true},\"mode\":\"immediate\",\"fromcurrent\":true,\"transition\":{\"duration\":0,\"easing\":\"linear\"}}],\"label\":\"1985\",\"method\":\"animate\"},{\"args\":[[\"1986\"],{\"frame\":{\"duration\":0,\"redraw\":true},\"mode\":\"immediate\",\"fromcurrent\":true,\"transition\":{\"duration\":0,\"easing\":\"linear\"}}],\"label\":\"1986\",\"method\":\"animate\"},{\"args\":[[\"1987\"],{\"frame\":{\"duration\":0,\"redraw\":true},\"mode\":\"immediate\",\"fromcurrent\":true,\"transition\":{\"duration\":0,\"easing\":\"linear\"}}],\"label\":\"1987\",\"method\":\"animate\"},{\"args\":[[\"1989\"],{\"frame\":{\"duration\":0,\"redraw\":true},\"mode\":\"immediate\",\"fromcurrent\":true,\"transition\":{\"duration\":0,\"easing\":\"linear\"}}],\"label\":\"1989\",\"method\":\"animate\"},{\"args\":[[\"1990\"],{\"frame\":{\"duration\":0,\"redraw\":true},\"mode\":\"immediate\",\"fromcurrent\":true,\"transition\":{\"duration\":0,\"easing\":\"linear\"}}],\"label\":\"1990\",\"method\":\"animate\"},{\"args\":[[\"1991\"],{\"frame\":{\"duration\":0,\"redraw\":true},\"mode\":\"immediate\",\"fromcurrent\":true,\"transition\":{\"duration\":0,\"easing\":\"linear\"}}],\"label\":\"1991\",\"method\":\"animate\"},{\"args\":[[\"1992\"],{\"frame\":{\"duration\":0,\"redraw\":true},\"mode\":\"immediate\",\"fromcurrent\":true,\"transition\":{\"duration\":0,\"easing\":\"linear\"}}],\"label\":\"1992\",\"method\":\"animate\"},{\"args\":[[\"1993\"],{\"frame\":{\"duration\":0,\"redraw\":true},\"mode\":\"immediate\",\"fromcurrent\":true,\"transition\":{\"duration\":0,\"easing\":\"linear\"}}],\"label\":\"1993\",\"method\":\"animate\"},{\"args\":[[\"1994\"],{\"frame\":{\"duration\":0,\"redraw\":true},\"mode\":\"immediate\",\"fromcurrent\":true,\"transition\":{\"duration\":0,\"easing\":\"linear\"}}],\"label\":\"1994\",\"method\":\"animate\"},{\"args\":[[\"1995\"],{\"frame\":{\"duration\":0,\"redraw\":true},\"mode\":\"immediate\",\"fromcurrent\":true,\"transition\":{\"duration\":0,\"easing\":\"linear\"}}],\"label\":\"1995\",\"method\":\"animate\"},{\"args\":[[\"1996\"],{\"frame\":{\"duration\":0,\"redraw\":true},\"mode\":\"immediate\",\"fromcurrent\":true,\"transition\":{\"duration\":0,\"easing\":\"linear\"}}],\"label\":\"1996\",\"method\":\"animate\"},{\"args\":[[\"1997\"],{\"frame\":{\"duration\":0,\"redraw\":true},\"mode\":\"immediate\",\"fromcurrent\":true,\"transition\":{\"duration\":0,\"easing\":\"linear\"}}],\"label\":\"1997\",\"method\":\"animate\"},{\"args\":[[\"1998\"],{\"frame\":{\"duration\":0,\"redraw\":true},\"mode\":\"immediate\",\"fromcurrent\":true,\"transition\":{\"duration\":0,\"easing\":\"linear\"}}],\"label\":\"1998\",\"method\":\"animate\"},{\"args\":[[\"1999\"],{\"frame\":{\"duration\":0,\"redraw\":true},\"mode\":\"immediate\",\"fromcurrent\":true,\"transition\":{\"duration\":0,\"easing\":\"linear\"}}],\"label\":\"1999\",\"method\":\"animate\"},{\"args\":[[\"2000\"],{\"frame\":{\"duration\":0,\"redraw\":true},\"mode\":\"immediate\",\"fromcurrent\":true,\"transition\":{\"duration\":0,\"easing\":\"linear\"}}],\"label\":\"2000\",\"method\":\"animate\"},{\"args\":[[\"2001\"],{\"frame\":{\"duration\":0,\"redraw\":true},\"mode\":\"immediate\",\"fromcurrent\":true,\"transition\":{\"duration\":0,\"easing\":\"linear\"}}],\"label\":\"2001\",\"method\":\"animate\"},{\"args\":[[\"2002\"],{\"frame\":{\"duration\":0,\"redraw\":true},\"mode\":\"immediate\",\"fromcurrent\":true,\"transition\":{\"duration\":0,\"easing\":\"linear\"}}],\"label\":\"2002\",\"method\":\"animate\"},{\"args\":[[\"2003\"],{\"frame\":{\"duration\":0,\"redraw\":true},\"mode\":\"immediate\",\"fromcurrent\":true,\"transition\":{\"duration\":0,\"easing\":\"linear\"}}],\"label\":\"2003\",\"method\":\"animate\"},{\"args\":[[\"2004\"],{\"frame\":{\"duration\":0,\"redraw\":true},\"mode\":\"immediate\",\"fromcurrent\":true,\"transition\":{\"duration\":0,\"easing\":\"linear\"}}],\"label\":\"2004\",\"method\":\"animate\"},{\"args\":[[\"2005\"],{\"frame\":{\"duration\":0,\"redraw\":true},\"mode\":\"immediate\",\"fromcurrent\":true,\"transition\":{\"duration\":0,\"easing\":\"linear\"}}],\"label\":\"2005\",\"method\":\"animate\"},{\"args\":[[\"2006\"],{\"frame\":{\"duration\":0,\"redraw\":true},\"mode\":\"immediate\",\"fromcurrent\":true,\"transition\":{\"duration\":0,\"easing\":\"linear\"}}],\"label\":\"2006\",\"method\":\"animate\"},{\"args\":[[\"2007\"],{\"frame\":{\"duration\":0,\"redraw\":true},\"mode\":\"immediate\",\"fromcurrent\":true,\"transition\":{\"duration\":0,\"easing\":\"linear\"}}],\"label\":\"2007\",\"method\":\"animate\"},{\"args\":[[\"2008\"],{\"frame\":{\"duration\":0,\"redraw\":true},\"mode\":\"immediate\",\"fromcurrent\":true,\"transition\":{\"duration\":0,\"easing\":\"linear\"}}],\"label\":\"2008\",\"method\":\"animate\"},{\"args\":[[\"2009\"],{\"frame\":{\"duration\":0,\"redraw\":true},\"mode\":\"immediate\",\"fromcurrent\":true,\"transition\":{\"duration\":0,\"easing\":\"linear\"}}],\"label\":\"2009\",\"method\":\"animate\"},{\"args\":[[\"2010\"],{\"frame\":{\"duration\":0,\"redraw\":true},\"mode\":\"immediate\",\"fromcurrent\":true,\"transition\":{\"duration\":0,\"easing\":\"linear\"}}],\"label\":\"2010\",\"method\":\"animate\"},{\"args\":[[\"2011\"],{\"frame\":{\"duration\":0,\"redraw\":true},\"mode\":\"immediate\",\"fromcurrent\":true,\"transition\":{\"duration\":0,\"easing\":\"linear\"}}],\"label\":\"2011\",\"method\":\"animate\"},{\"args\":[[\"2012\"],{\"frame\":{\"duration\":0,\"redraw\":true},\"mode\":\"immediate\",\"fromcurrent\":true,\"transition\":{\"duration\":0,\"easing\":\"linear\"}}],\"label\":\"2012\",\"method\":\"animate\"},{\"args\":[[\"2013\"],{\"frame\":{\"duration\":0,\"redraw\":true},\"mode\":\"immediate\",\"fromcurrent\":true,\"transition\":{\"duration\":0,\"easing\":\"linear\"}}],\"label\":\"2013\",\"method\":\"animate\"},{\"args\":[[\"2014\"],{\"frame\":{\"duration\":0,\"redraw\":true},\"mode\":\"immediate\",\"fromcurrent\":true,\"transition\":{\"duration\":0,\"easing\":\"linear\"}}],\"label\":\"2014\",\"method\":\"animate\"},{\"args\":[[\"2015\"],{\"frame\":{\"duration\":0,\"redraw\":true},\"mode\":\"immediate\",\"fromcurrent\":true,\"transition\":{\"duration\":0,\"easing\":\"linear\"}}],\"label\":\"2015\",\"method\":\"animate\"}],\"x\":0.1,\"xanchor\":\"left\",\"y\":0,\"yanchor\":\"top\"}]},                        {\"responsive\": true}                    ).then(function(){\n",
       "                            Plotly.addFrames('47b287f4-a468-46d5-8788-ffc6f225ea51', [{\"data\":[{\"alignmentgroup\":\"True\",\"hovertemplate\":\"year=1984\\u003cbr\\u003emake=%{x}\\u003cbr\\u003esellingprice=%{y}\\u003cextra\\u003e\\u003c\\u002fextra\\u003e\",\"legendgroup\":\"\",\"marker\":{\"color\":\"#636efa\",\"pattern\":{\"shape\":\"\"}},\"name\":\"\",\"offsetgroup\":\"\",\"orientation\":\"v\",\"showlegend\":false,\"textposition\":\"auto\",\"x\":[\"Chevrolet\"],\"xaxis\":\"x\",\"y\":[3100.0],\"yaxis\":\"y\",\"type\":\"bar\"}],\"name\":\"1984\"},{\"data\":[{\"alignmentgroup\":\"True\",\"hovertemplate\":\"year=1985\\u003cbr\\u003emake=%{x}\\u003cbr\\u003esellingprice=%{y}\\u003cextra\\u003e\\u003c\\u002fextra\\u003e\",\"legendgroup\":\"\",\"marker\":{\"color\":\"#636efa\",\"pattern\":{\"shape\":\"\"}},\"name\":\"\",\"offsetgroup\":\"\",\"orientation\":\"v\",\"showlegend\":false,\"textposition\":\"auto\",\"x\":[\"Chevrolet\"],\"xaxis\":\"x\",\"y\":[3875.0],\"yaxis\":\"y\",\"type\":\"bar\"}],\"name\":\"1985\"},{\"data\":[{\"alignmentgroup\":\"True\",\"hovertemplate\":\"year=1986\\u003cbr\\u003emake=%{x}\\u003cbr\\u003esellingprice=%{y}\\u003cextra\\u003e\\u003c\\u002fextra\\u003e\",\"legendgroup\":\"\",\"marker\":{\"color\":\"#636efa\",\"pattern\":{\"shape\":\"\"}},\"name\":\"\",\"offsetgroup\":\"\",\"orientation\":\"v\",\"showlegend\":false,\"textposition\":\"auto\",\"x\":[\"Chevrolet\",\"Mercedes-Benz\"],\"xaxis\":\"x\",\"y\":[8600.0,1400.0],\"yaxis\":\"y\",\"type\":\"bar\"}],\"name\":\"1986\"},{\"data\":[{\"alignmentgroup\":\"True\",\"hovertemplate\":\"year=1987\\u003cbr\\u003emake=%{x}\\u003cbr\\u003esellingprice=%{y}\\u003cextra\\u003e\\u003c\\u002fextra\\u003e\",\"legendgroup\":\"\",\"marker\":{\"color\":\"#636efa\",\"pattern\":{\"shape\":\"\"}},\"name\":\"\",\"offsetgroup\":\"\",\"orientation\":\"v\",\"showlegend\":false,\"textposition\":\"auto\",\"x\":[\"Mercedes-Benz\"],\"xaxis\":\"x\",\"y\":[300.0],\"yaxis\":\"y\",\"type\":\"bar\"}],\"name\":\"1987\"},{\"data\":[{\"alignmentgroup\":\"True\",\"hovertemplate\":\"year=1989\\u003cbr\\u003emake=%{x}\\u003cbr\\u003esellingprice=%{y}\\u003cextra\\u003e\\u003c\\u002fextra\\u003e\",\"legendgroup\":\"\",\"marker\":{\"color\":\"#636efa\",\"pattern\":{\"shape\":\"\"}},\"name\":\"\",\"offsetgroup\":\"\",\"orientation\":\"v\",\"showlegend\":false,\"textposition\":\"auto\",\"x\":[\"Chevrolet\",\"Mercedes-Benz\",\"Toyota\"],\"xaxis\":\"x\",\"y\":[5050.0,300.0,537.5],\"yaxis\":\"y\",\"type\":\"bar\"}],\"name\":\"1989\"},{\"data\":[{\"alignmentgroup\":\"True\",\"hovertemplate\":\"year=1990\\u003cbr\\u003emake=%{x}\\u003cbr\\u003esellingprice=%{y}\\u003cextra\\u003e\\u003c\\u002fextra\\u003e\",\"legendgroup\":\"\",\"marker\":{\"color\":\"#636efa\",\"pattern\":{\"shape\":\"\"}},\"name\":\"\",\"offsetgroup\":\"\",\"orientation\":\"v\",\"showlegend\":false,\"textposition\":\"auto\",\"x\":[\"Cadillac\",\"Chevrolet\",\"Honda\",\"Jaguar\",\"Lexus\",\"Mazda\",\"Mercedes-Benz\",\"Nissan\",\"Toyota\"],\"xaxis\":\"x\",\"y\":[325.0,5150.0,410.0,550.0,503.57142857142856,1565.0,275.0,1333.3333333333333,403.125],\"yaxis\":\"y\",\"type\":\"bar\"}],\"name\":\"1990\"},{\"data\":[{\"alignmentgroup\":\"True\",\"hovertemplate\":\"year=1991\\u003cbr\\u003emake=%{x}\\u003cbr\\u003esellingprice=%{y}\\u003cextra\\u003e\\u003c\\u002fextra\\u003e\",\"legendgroup\":\"\",\"marker\":{\"color\":\"#636efa\",\"pattern\":{\"shape\":\"\"}},\"name\":\"\",\"offsetgroup\":\"\",\"orientation\":\"v\",\"showlegend\":false,\"textposition\":\"auto\",\"x\":[\"BMW\",\"Buick\",\"Cadillac\",\"Chevrolet\",\"Ford\",\"Honda\",\"Lexus\",\"Lincoln\",\"Mazda\",\"Mercedes-Benz\",\"Nissan\",\"Oldsmobile\",\"Toyota\"],\"xaxis\":\"x\",\"y\":[6750.0,441.6666666666667,562.5,2240.0,200.0,357.5,737.5,387.5,900.0,1857.5,475.0,200.0,431.94444444444446],\"yaxis\":\"y\",\"type\":\"bar\"}],\"name\":\"1991\"},{\"data\":[{\"alignmentgroup\":\"True\",\"hovertemplate\":\"year=1992\\u003cbr\\u003emake=%{x}\\u003cbr\\u003esellingprice=%{y}\\u003cextra\\u003e\\u003c\\u002fextra\\u003e\",\"legendgroup\":\"\",\"marker\":{\"color\":\"#636efa\",\"pattern\":{\"shape\":\"\"}},\"name\":\"\",\"offsetgroup\":\"\",\"orientation\":\"v\",\"showlegend\":false,\"textposition\":\"auto\",\"x\":[\"BMW\",\"Buick\",\"Cadillac\",\"Chevrolet\",\"Ford\",\"Honda\",\"Jeep\",\"Lexus\",\"Lincoln\",\"Mazda\",\"Mercedes-Benz\",\"Mercury\",\"Nissan\",\"Oldsmobile\",\"Pontiac\",\"Saturn\",\"Toyota\"],\"xaxis\":\"x\",\"y\":[450.0,475.0,375.0,3610.714285714286,375.0,623.8636363636364,825.0,1364.4736842105262,566.6666666666666,1400.0,2866.6666666666665,487.5,350.0,325.0,275.0,750.0,640.3225806451613],\"yaxis\":\"y\",\"type\":\"bar\"}],\"name\":\"1992\"},{\"data\":[{\"alignmentgroup\":\"True\",\"hovertemplate\":\"year=1993\\u003cbr\\u003emake=%{x}\\u003cbr\\u003esellingprice=%{y}\\u003cextra\\u003e\\u003c\\u002fextra\\u003e\",\"legendgroup\":\"\",\"marker\":{\"color\":\"#636efa\",\"pattern\":{\"shape\":\"\"}},\"name\":\"\",\"offsetgroup\":\"\",\"orientation\":\"v\",\"showlegend\":false,\"textposition\":\"auto\",\"x\":[\"Acura\",\"Buick\",\"Cadillac\",\"Chevrolet\",\"Ford\",\"GMC\",\"Geo\",\"Honda\",\"Infiniti\",\"Jeep\",\"Lexus\",\"Lincoln\",\"Mazda\",\"Mercedes-Benz\",\"Mercury\",\"Nissan\",\"Oldsmobile\",\"Pontiac\",\"Saturn\",\"Toyota\",\"Volvo\"],\"xaxis\":\"x\",\"y\":[383.3333333333333,406.25,1330.0,1781.8181818181818,504.4117647058824,1600.0,375.0,620.1923076923077,350.0,772.2222222222222,1160.0,575.0,1075.0,912.5,400.0,467.85714285714283,460.0,800.0,387.5,644.2708333333334,325.0],\"yaxis\":\"y\",\"type\":\"bar\"}],\"name\":\"1993\"},{\"data\":[{\"alignmentgroup\":\"True\",\"hovertemplate\":\"year=1994\\u003cbr\\u003emake=%{x}\\u003cbr\\u003esellingprice=%{y}\\u003cextra\\u003e\\u003c\\u002fextra\\u003e\",\"legendgroup\":\"\",\"marker\":{\"color\":\"#636efa\",\"pattern\":{\"shape\":\"\"}},\"name\":\"\",\"offsetgroup\":\"\",\"orientation\":\"v\",\"showlegend\":false,\"textposition\":\"auto\",\"x\":[\"Acura\",\"BMW\",\"Buick\",\"Cadillac\",\"Chevrolet\",\"Chrysler\",\"Dodge\",\"Ford\",\"GMC\",\"Geo\",\"Honda\",\"Infiniti\",\"Isuzu\",\"Jeep\",\"Lexus\",\"Lincoln\",\"Mazda\",\"Mercedes-Benz\",\"Mercury\",\"Mitsubishi\",\"Nissan\",\"Oldsmobile\",\"Pontiac\",\"Saturn\",\"Toyota\",\"Volvo\"],\"xaxis\":\"x\",\"y\":[705.0,1239.5833333333333,433.3333333333333,981.25,2264.285714285714,383.3333333333333,400.0,625.4716981132076,1500.0,258.3333333333333,687.5,518.75,725.0,811.3636363636364,1010.0,662.5,1109.375,1964.4736842105262,498.0769230769231,375.0,595.4545454545455,410.7142857142857,537.5,640.0,760.2459016393443,485.0],\"yaxis\":\"y\",\"type\":\"bar\"}],\"name\":\"1994\"},{\"data\":[{\"alignmentgroup\":\"True\",\"hovertemplate\":\"year=1995\\u003cbr\\u003emake=%{x}\\u003cbr\\u003esellingprice=%{y}\\u003cextra\\u003e\\u003c\\u002fextra\\u003e\",\"legendgroup\":\"\",\"marker\":{\"color\":\"#636efa\",\"pattern\":{\"shape\":\"\"}},\"name\":\"\",\"offsetgroup\":\"\",\"orientation\":\"v\",\"showlegend\":false,\"textposition\":\"auto\",\"x\":[\"Acura\",\"BMW\",\"Buick\",\"Cadillac\",\"Chevrolet\",\"Chrysler\",\"Dodge\",\"Ford\",\"GMC\",\"Geo\",\"Honda\",\"Infiniti\",\"Isuzu\",\"Jaguar\",\"Jeep\",\"Lexus\",\"Lincoln\",\"Mazda\",\"Mercedes-Benz\",\"Mercury\",\"Mitsubishi\",\"Nissan\",\"Oldsmobile\",\"Pontiac\",\"Saturn\",\"Subaru\",\"Toyota\",\"Volvo\"],\"xaxis\":\"x\",\"y\":[490.625,729.5454545454545,815.0,811.25,1296.25,1000.0,550.0,689.3678160919541,533.3333333333334,550.0,773.5714285714286,578.5714285714286,341.8333333333333,1100.0,805.5555555555555,840.7407407407408,873.3333333333334,516.6666666666666,2247.340425531915,423.3333333333333,500.0,590.4255319148937,712.5,505.55555555555554,475.0,571.4285714285714,749.1525423728814,464.2857142857143],\"yaxis\":\"y\",\"type\":\"bar\"}],\"name\":\"1995\"},{\"data\":[{\"alignmentgroup\":\"True\",\"hovertemplate\":\"year=1996\\u003cbr\\u003emake=%{x}\\u003cbr\\u003esellingprice=%{y}\\u003cextra\\u003e\\u003c\\u002fextra\\u003e\",\"legendgroup\":\"\",\"marker\":{\"color\":\"#636efa\",\"pattern\":{\"shape\":\"\"}},\"name\":\"\",\"offsetgroup\":\"\",\"orientation\":\"v\",\"showlegend\":false,\"textposition\":\"auto\",\"x\":[\"Acura\",\"Audi\",\"BMW\",\"Buick\",\"Cadillac\",\"Chevrolet\",\"Chrysler\",\"Dodge\",\"Ford\",\"GMC\",\"Geo\",\"Honda\",\"Infiniti\",\"Isuzu\",\"Jaguar\",\"Jeep\",\"Lexus\",\"Lincoln\",\"Mazda\",\"Mercedes-Benz\",\"Mercury\",\"Mitsubishi\",\"Nissan\",\"Oldsmobile\",\"Pontiac\",\"Saturn\",\"Subaru\",\"Suzuki\",\"Toyota\",\"Volkswagen\",\"Volvo\"],\"xaxis\":\"x\",\"y\":[815.3846153846154,300.0,1248.6842105263158,675.0,715.7894736842105,956.7164179104477,445.8333333333333,947.3684210526316,953.2258064516129,687.5,558.3333333333334,778.6111111111111,732.8125,450.0,1450.0,764.5833333333334,1984.375,755.5555555555555,806.25,1664.2857142857142,866.25,500.0,635.4166666666666,335.7142857142857,1004.5454545454545,423.0769230769231,880.0,1000.0,964.8496240601504,881.25,501.9230769230769],\"yaxis\":\"y\",\"type\":\"bar\"}],\"name\":\"1996\"},{\"data\":[{\"alignmentgroup\":\"True\",\"hovertemplate\":\"year=1997\\u003cbr\\u003emake=%{x}\\u003cbr\\u003esellingprice=%{y}\\u003cextra\\u003e\\u003c\\u002fextra\\u003e\",\"legendgroup\":\"\",\"marker\":{\"color\":\"#636efa\",\"pattern\":{\"shape\":\"\"}},\"name\":\"\",\"offsetgroup\":\"\",\"orientation\":\"v\",\"showlegend\":false,\"textposition\":\"auto\",\"x\":[\"Acura\",\"Audi\",\"BMW\",\"Buick\",\"Cadillac\",\"Chevrolet\",\"Chrysler\",\"Dodge\",\"Dodge Truck\",\"Ford\",\"Ford Truck\",\"GMC\",\"Geo\",\"Honda\",\"Infiniti\",\"Isuzu\",\"Jaguar\",\"Jeep\",\"Lexus\",\"Lincoln\",\"Mazda\",\"Mercedes-Benz\",\"Mercury\",\"Mitsubishi\",\"Nissan\",\"Oldsmobile\",\"Plymouth\",\"Pontiac\",\"Porsche\",\"Saturn\",\"Subaru\",\"Toyota\",\"Volkswagen\",\"Volvo\"],\"xaxis\":\"x\",\"y\":[939.84375,1050.0,1880.5084745762713,795.2830188679245,933.5227272727273,884.9514563106796,432.5,1131.0344827586207,550.0,1009.8739495798319,700.0,787.5,737.5,919.3467336683417,650.0,575.0,2031.25,1822.5,1643.75,554.1666666666666,525.0,1780.357142857143,756.8965517241379,588.8888888888889,798.0582524271845,738.4615384615385,450.0,644.5652173913044,5825.0,550.0,894.1176470588235,1496.1538461538462,850.0,500.0],\"yaxis\":\"y\",\"type\":\"bar\"}],\"name\":\"1997\"},{\"data\":[{\"alignmentgroup\":\"True\",\"hovertemplate\":\"year=1998\\u003cbr\\u003emake=%{x}\\u003cbr\\u003esellingprice=%{y}\\u003cextra\\u003e\\u003c\\u002fextra\\u003e\",\"legendgroup\":\"\",\"marker\":{\"color\":\"#636efa\",\"pattern\":{\"shape\":\"\"}},\"name\":\"\",\"offsetgroup\":\"\",\"orientation\":\"v\",\"showlegend\":false,\"textposition\":\"auto\",\"x\":[\"Acura\",\"Audi\",\"BMW\",\"Buick\",\"Cadillac\",\"Chevrolet\",\"Chrysler\",\"Dodge\",\"Dot\",\"Ford\",\"Ford Truck\",\"GMC\",\"Honda\",\"Infiniti\",\"Isuzu\",\"Jaguar\",\"Jeep\",\"Kia\",\"Land Rover\",\"Lexus\",\"Lincoln\",\"Mazda\",\"Mercedes-Benz\",\"Mercury\",\"Mitsubishi\",\"Nissan\",\"Oldsmobile\",\"Plymouth\",\"Pontiac\",\"Porsche\",\"Saturn\",\"Subaru\",\"Toyota\",\"Volkswagen\",\"Volvo\"],\"xaxis\":\"x\",\"y\":[1476.0869565217392,1031.25,1831.7164179104477,825.4629629629629,886.9565217391304,1305.4347826086957,701.6666666666666,750.0,500.0,1167.8861788617887,375.0,1015.2777777777778,1240.9893992932862,1166.6666666666667,892.3076923076923,2505.5555555555557,2200.0,400.0,858.3333333333334,2522.5274725274726,970.9183673469388,914.1304347826087,1550.357142857143,791.1290322580645,804.5454545454545,911.2612612612612,693.3823529411765,541.6666666666666,809.7560975609756,6633.333333333333,575.6944444444445,1218.235294117647,1421.9202898550725,787.5,715.0793650793651],\"yaxis\":\"y\",\"type\":\"bar\"}],\"name\":\"1998\"},{\"data\":[{\"alignmentgroup\":\"True\",\"hovertemplate\":\"year=1999\\u003cbr\\u003emake=%{x}\\u003cbr\\u003esellingprice=%{y}\\u003cextra\\u003e\\u003c\\u002fextra\\u003e\",\"legendgroup\":\"\",\"marker\":{\"color\":\"#636efa\",\"pattern\":{\"shape\":\"\"}},\"name\":\"\",\"offsetgroup\":\"\",\"orientation\":\"v\",\"showlegend\":false,\"textposition\":\"auto\",\"x\":[\"Acura\",\"Audi\",\"BMW\",\"Buick\",\"Cadillac\",\"Chevrolet\",\"Chrysler\",\"Dodge\",\"Ford\",\"GMC\",\"GMC Truck\",\"Honda\",\"Hyundai\",\"Infiniti\",\"Isuzu\",\"Jaguar\",\"Jeep\",\"Kia\",\"Land Rover\",\"Lexus\",\"Lincoln\",\"Mazda\",\"Mercedes-Benz\",\"Mercury\",\"Mitsubishi\",\"Nissan\",\"Oldsmobile\",\"Plymouth\",\"Pontiac\",\"Porsche\",\"Saab\",\"Saturn\",\"Subaru\",\"Suzuki\",\"Toyota\",\"Volkswagen\",\"Volvo\"],\"xaxis\":\"x\",\"y\":[1428.1746031746031,864.2857142857143,1909.9056603773586,1126.984126984127,1162.857142857143,1880.0,771.484375,1023.1770833333334,1286.2068965517242,1275.625,1300.0,1467.138364779874,200.0,1077.5862068965516,827.2727272727273,2677.777777777778,1528.448275862069,300.0,1295.4545454545455,3267.1270718232045,1241.860465116279,751.25,2127.205882352941,780.7471264367816,641.0869565217391,1004.8148148148148,641.2162162162163,3875.0,953.0898876404494,6397.222222222223,592.0454545454545,583.5106382978723,1170.4545454545455,991.6666666666666,1700.933908045977,995.4081632653061,691.875],\"yaxis\":\"y\",\"type\":\"bar\"}],\"name\":\"1999\"},{\"data\":[{\"alignmentgroup\":\"True\",\"hovertemplate\":\"year=2000\\u003cbr\\u003emake=%{x}\\u003cbr\\u003esellingprice=%{y}\\u003cextra\\u003e\\u003c\\u002fextra\\u003e\",\"legendgroup\":\"\",\"marker\":{\"color\":\"#636efa\",\"pattern\":{\"shape\":\"\"}},\"name\":\"\",\"offsetgroup\":\"\",\"orientation\":\"v\",\"showlegend\":false,\"textposition\":\"auto\",\"x\":[\"Acura\",\"Audi\",\"BMW\",\"Buick\",\"Cadillac\",\"Chev Truck\",\"Chevrolet\",\"Chrysler\",\"Dodge\",\"Ford\",\"Ford Truck\",\"GMC\",\"GMC Truck\",\"Honda\",\"Hyundai\",\"Infiniti\",\"Isuzu\",\"Jaguar\",\"Jeep\",\"Kia\",\"Land Rover\",\"Lexus\",\"Lincoln\",\"Mazda\",\"Mercedes-Benz\",\"Mercury\",\"Mitsubishi\",\"Nissan\",\"Oldsmobile\",\"Plymouth\",\"Pontiac\",\"Porsche\",\"Saturn\",\"Scion\",\"Subaru\",\"Suzuki\",\"Toyota\",\"Volkswagen\",\"Volvo\"],\"xaxis\":\"x\",\"y\":[1462.9411764705883,1835.344827586207,2447.3130841121497,1362.2596153846155,1493.859649122807,2000.0,1961.584051724138,852.710843373494,965.7692307692307,1402.0569620253164,2800.0,1997.65625,2240.0,1636.105032822757,686.0576923076923,1595.5882352941176,874.0,2282.9166666666665,2034.9236641221373,1223.4375,1521.590909090909,4341.085271317829,1279.0760869565217,1066.7808219178082,2632.5757575757575,1165.0568181818182,1008.8028169014085,1504.915309446254,844.047619047619,15981.25,902.7272727272727,7983.333333333333,852.9850746268656,4500.0,1617.3076923076924,1466.6666666666667,2188.5650224215246,1183.3103448275863,974.4444444444445],\"yaxis\":\"y\",\"type\":\"bar\"}],\"name\":\"2000\"},{\"data\":[{\"alignmentgroup\":\"True\",\"hovertemplate\":\"year=2001\\u003cbr\\u003emake=%{x}\\u003cbr\\u003esellingprice=%{y}\\u003cextra\\u003e\\u003c\\u002fextra\\u003e\",\"legendgroup\":\"\",\"marker\":{\"color\":\"#636efa\",\"pattern\":{\"shape\":\"\"}},\"name\":\"\",\"offsetgroup\":\"\",\"orientation\":\"v\",\"showlegend\":false,\"textposition\":\"auto\",\"x\":[\"Acura\",\"Audi\",\"BMW\",\"Buick\",\"Cadillac\",\"Chevrolet\",\"Chrysler\",\"Daewoo\",\"Dodge\",\"Ford\",\"GMC\",\"HUMMER\",\"Honda\",\"Hyundai\",\"Infiniti\",\"Isuzu\",\"Jaguar\",\"Jeep\",\"Kia\",\"Land Rover\",\"Lexus\",\"Lincoln\",\"Mazda\",\"Mercedes-Benz\",\"Mercury\",\"Mitsubishi\",\"Nissan\",\"Oldsmobile\",\"Plymouth\",\"Pontiac\",\"Porsche\",\"Saturn\",\"Subaru\",\"Suzuki\",\"Toyota\",\"Volkswagen\",\"Volvo\"],\"xaxis\":\"x\",\"y\":[2363.6,2088.377192982456,3038.8544891640868,1408.132530120482,1300.485436893204,2463.8610315186247,1373.780487804878,400.0,1283.1521739130435,2060.808325266215,2646.9827586206898,45750.0,1847.7433628318583,985.9223300970874,1970.886075949367,1242.361111111111,2093.0851063829787,2516.875,740.625,2023.3333333333333,4663.383838383838,1468.1818181818182,1419.0944881889764,3126.127819548872,1133.695652173913,1240.9872611464968,1790.2972027972028,1050.8823529411766,23375.0,1211.5963855421687,9475.925925925925,954.5212765957447,1679.3478260869565,1270.4545454545455,2958.135775862069,1330.5785123966941,1310.8695652173913],\"yaxis\":\"y\",\"type\":\"bar\"}],\"name\":\"2001\"},{\"data\":[{\"alignmentgroup\":\"True\",\"hovertemplate\":\"year=2002\\u003cbr\\u003emake=%{x}\\u003cbr\\u003esellingprice=%{y}\\u003cextra\\u003e\\u003c\\u002fextra\\u003e\",\"legendgroup\":\"\",\"marker\":{\"color\":\"#636efa\",\"pattern\":{\"shape\":\"\"}},\"name\":\"\",\"offsetgroup\":\"\",\"orientation\":\"v\",\"showlegend\":false,\"textposition\":\"auto\",\"x\":[\"Acura\",\"Audi\",\"BMW\",\"Buick\",\"Cadillac\",\"Chevrolet\",\"Chrysler\",\"Dodge\",\"Ford\",\"GMC\",\"GMC Truck\",\"Honda\",\"Hyundai\",\"Infiniti\",\"Isuzu\",\"Jaguar\",\"Jeep\",\"Kia\",\"Land Rover\",\"Lexus\",\"Lincoln\",\"MINI\",\"Maserati\",\"Mazda\",\"Mercedes-Benz\",\"Mercury\",\"Mitsubishi\",\"Nissan\",\"Oldsmobile\",\"Pontiac\",\"Porsche\",\"Saab\",\"Saturn\",\"Subaru\",\"Suzuki\",\"Toyota\",\"Volkswagen\",\"Volvo\"],\"xaxis\":\"x\",\"y\":[2864.0173410404623,2635.6481481481483,3806.561679790026,1745.9558823529412,2646.0393258426966,2878.189655172414,1256.5972222222222,1394.155844155844,2518.8304735758406,2835.9683794466405,11600.0,2223.489932885906,1212.5,2319.84126984127,1734.2105263157894,2088.3561643835615,2596.2264150943397,858.6111111111111,1863.888888888889,5875.690607734807,1968.2926829268292,3162.0,16850.0,1606.3793103448277,3823.6619718309857,1378.0487804878048,1413.1294964028777,2146.95885509839,1158.7121212121212,1745.926966292135,14507.142857142857,1302.7777777777778,1024.8648648648648,2530.7291666666665,1485.4166666666667,3440.670170827858,1725.4032258064517,1698.951048951049],\"yaxis\":\"y\",\"type\":\"bar\"}],\"name\":\"2002\"},{\"data\":[{\"alignmentgroup\":\"True\",\"hovertemplate\":\"year=2003\\u003cbr\\u003emake=%{x}\\u003cbr\\u003esellingprice=%{y}\\u003cextra\\u003e\\u003c\\u002fextra\\u003e\",\"legendgroup\":\"\",\"marker\":{\"color\":\"#636efa\",\"pattern\":{\"shape\":\"\"}},\"name\":\"\",\"offsetgroup\":\"\",\"orientation\":\"v\",\"showlegend\":false,\"textposition\":\"auto\",\"x\":[\"Acura\",\"Audi\",\"BMW\",\"Buick\",\"Cadillac\",\"Chevrolet\",\"Chrysler\",\"Dodge\",\"Ford\",\"GMC\",\"HUMMER\",\"Honda\",\"Hyundai\",\"Infiniti\",\"Isuzu\",\"Jaguar\",\"Jeep\",\"Kia\",\"Land Rover\",\"Lexus\",\"Lincoln\",\"MINI\",\"Mazda\",\"Mercedes-Benz\",\"Mercury\",\"Mitsubishi\",\"Nissan\",\"Oldsmobile\",\"Pontiac\",\"Porsche\",\"Saab\",\"Saturn\",\"Subaru\",\"Suzuki\",\"Toyota\",\"Volkswagen\",\"Volvo\"],\"xaxis\":\"x\",\"y\":[3324.4932432432433,3488.793103448276,3998.59022556391,2052.094972067039,2999.2982456140353,3717.1862971516553,1369.375,3843.2251908396947,3043.545706371191,4206.25,13981.927710843374,3084.383033419023,1524.9149659863945,4306.076388888889,2028.5714285714287,2908.686440677966,3374.920127795527,1354.421768707483,2558.9285714285716,6460.121457489879,3090.8653846153848,3493.75,2043.987341772152,5650.293072824156,2081.3380281690143,1962.7475247524753,2750.575101488498,1113.8297872340424,1583.5858585858587,12233.333333333334,1622.857142857143,1524.144486692015,3086.470588235294,1517.5,4232.90273556231,2005.3268765133173,1995.2586206896551],\"yaxis\":\"y\",\"type\":\"bar\"}],\"name\":\"2003\"},{\"data\":[{\"alignmentgroup\":\"True\",\"hovertemplate\":\"year=2004\\u003cbr\\u003emake=%{x}\\u003cbr\\u003esellingprice=%{y}\\u003cextra\\u003e\\u003c\\u002fextra\\u003e\",\"legendgroup\":\"\",\"marker\":{\"color\":\"#636efa\",\"pattern\":{\"shape\":\"\"}},\"name\":\"\",\"offsetgroup\":\"\",\"orientation\":\"v\",\"showlegend\":false,\"textposition\":\"auto\",\"x\":[\"Acura\",\"Audi\",\"BMW\",\"Bentley\",\"Buick\",\"Cadillac\",\"Chevrolet\",\"Chrysler\",\"Dodge\",\"Ferrari\",\"Ford\",\"GMC\",\"HUMMER\",\"Honda\",\"Hyundai\",\"Hyundai Truck\",\"Infiniti\",\"Isuzu\",\"Jaguar\",\"Jeep\",\"Kia\",\"Land Rover\",\"Lexus\",\"Lincoln\",\"MINI\",\"Maserati\",\"Mazda\",\"Mercedes-Benz\",\"Mercury\",\"Mitsubishi\",\"Nissan\",\"Oldsmobile\",\"Pontiac\",\"Porsche\",\"Saab\",\"Saturn\",\"Scion\",\"Subaru\",\"Suzuki\",\"Toyota\",\"Volkswagen\",\"Volvo\"],\"xaxis\":\"x\",\"y\":[4680.533333333334,4188.438735177866,5349.769129287599,33900.0,2536.8119266055046,4178.562176165803,4731.536231884058,1739.8474178403756,4532.7097505668935,81000.0,4180.718623481781,5021.656686626747,15287.037037037036,3544.4041450777204,1795.2522255192878,2100.0,5793.444730077121,2439.1304347826085,3696.3636363636365,4227.932203389831,1688.061224489796,2845.5882352941176,8622.64,3780.7511737089203,4016.9014084507044,12750.0,2556.521739130435,6542.151898734177,2324.639423076923,2086.0054347826085,3861.3100252737995,1172.7272727272727,2169.975490196078,8900.617283950618,2175.9615384615386,1778.3405172413793,2930.4347826086955,4699.175824175824,1576.953125,5004.2075163398695,2996.7548076923076,3053.5915492957747],\"yaxis\":\"y\",\"type\":\"bar\"}],\"name\":\"2004\"},{\"data\":[{\"alignmentgroup\":\"True\",\"hovertemplate\":\"year=2005\\u003cbr\\u003emake=%{x}\\u003cbr\\u003esellingprice=%{y}\\u003cextra\\u003e\\u003c\\u002fextra\\u003e\",\"legendgroup\":\"\",\"marker\":{\"color\":\"#636efa\",\"pattern\":{\"shape\":\"\"}},\"name\":\"\",\"offsetgroup\":\"\",\"orientation\":\"v\",\"showlegend\":false,\"textposition\":\"auto\",\"x\":[\"Acura\",\"Audi\",\"BMW\",\"Bentley\",\"Buick\",\"Cadillac\",\"Chevrolet\",\"Chrysler\",\"Dodge\",\"Ferrari\",\"Ford\",\"GMC\",\"HUMMER\",\"Honda\",\"Hyundai\",\"Infiniti\",\"Isuzu\",\"Jaguar\",\"Jeep\",\"Kia\",\"Land Rover\",\"Lexus\",\"Lincoln\",\"MINI\",\"Maserati\",\"Mazda\",\"Mercedes-Benz\",\"Mercury\",\"Mitsubishi\",\"Nissan\",\"Pontiac\",\"Porsche\",\"Saab\",\"Saturn\",\"Scion\",\"Smart\",\"Subaru\",\"Suzuki\",\"Toyota\",\"Volkswagen\",\"Volvo\"],\"xaxis\":\"x\",\"y\":[5897.959183673469,5604.07196969697,6711.086637298091,47216.666666666664,3377.355623100304,5263.360071301247,4784.773738872404,3255.26185770751,4711.852220013254,109000.0,4673.502544031311,6612.092624356776,18204.938271604937,4501.551886792453,2477.3563218390805,6809.152542372882,2320.0,4768.333333333333,5649.088541666667,2223.469387755102,5123.076923076923,8712.826086956522,4807.857142857143,4572.8,14891.666666666666,3191.308411214953,8201.302521008403,2997.129186602871,2790.972222222222,4308.882183908046,2719.814814814815,12623.188405797102,3018.3823529411766,2029.3147208121827,3318.0555555555557,2000.0,5657.07182320442,1676.0869565217392,5368.75,3468.4754521963823,3867.1052631578946],\"yaxis\":\"y\",\"type\":\"bar\"}],\"name\":\"2005\"},{\"data\":[{\"alignmentgroup\":\"True\",\"hovertemplate\":\"year=2006\\u003cbr\\u003emake=%{x}\\u003cbr\\u003esellingprice=%{y}\\u003cextra\\u003e\\u003c\\u002fextra\\u003e\",\"legendgroup\":\"\",\"marker\":{\"color\":\"#636efa\",\"pattern\":{\"shape\":\"\"}},\"name\":\"\",\"offsetgroup\":\"\",\"orientation\":\"v\",\"showlegend\":false,\"textposition\":\"auto\",\"x\":[\"Acura\",\"Aston Martin\",\"Audi\",\"BMW\",\"Bentley\",\"Buick\",\"Cadillac\",\"Chevrolet\",\"Chrysler\",\"Dodge\",\"Ford\",\"GMC\",\"GMC Truck\",\"HUMMER\",\"Honda\",\"Hyundai\",\"Infiniti\",\"Isuzu\",\"Jaguar\",\"Jeep\",\"Kia\",\"Land Rover\",\"Lexus\",\"Lincoln\",\"MINI\",\"Maserati\",\"Mazda\",\"Mercedes-Benz\",\"Mercury\",\"Mitsubishi\",\"Nissan\",\"Pontiac\",\"Porsche\",\"Saab\",\"Saturn\",\"Scion\",\"Subaru\",\"Suzuki\",\"Toyota\",\"Volkswagen\",\"Volvo\"],\"xaxis\":\"x\",\"y\":[7247.469879518072,44000.0,6426.6355140186915,8220.03367003367,53363.63636363636,4169.477611940299,5738.275340393344,5202.549501424502,4130.050115651504,6504.096385542169,6141.887262535036,8001.446759259259,10200.0,13153.448275862069,5686.52466367713,3284.427001569859,8549.392201834862,3269.4444444444443,5764.84375,6136.206896551724,2904.4052863436123,12796.913580246914,10018.003273322422,6213.218390804598,5036.875,20002.272727272728,3888.284518828452,8629.549469964664,3677.8481012658226,3938.157894736842,5181.923293852228,3764.543596730245,16783.050847457627,3700.5263157894738,2605.739299610895,3673.170731707317,6641.473214285715,2505.0420168067226,6489.918032786885,3777.4197031039134,4640.222222222223],\"yaxis\":\"y\",\"type\":\"bar\"}],\"name\":\"2006\"},{\"data\":[{\"alignmentgroup\":\"True\",\"hovertemplate\":\"year=2007\\u003cbr\\u003emake=%{x}\\u003cbr\\u003esellingprice=%{y}\\u003cextra\\u003e\\u003c\\u002fextra\\u003e\",\"legendgroup\":\"\",\"marker\":{\"color\":\"#636efa\",\"pattern\":{\"shape\":\"\"}},\"name\":\"\",\"offsetgroup\":\"\",\"orientation\":\"v\",\"showlegend\":false,\"textposition\":\"auto\",\"x\":[\"Acura\",\"Aston Martin\",\"Audi\",\"BMW\",\"Bentley\",\"Buick\",\"Cadillac\",\"Chevrolet\",\"Chrysler\",\"Dodge\",\"Ferrari\",\"Ford\",\"GMC\",\"GMC Truck\",\"HUMMER\",\"Honda\",\"Hyundai\",\"Infiniti\",\"Isuzu\",\"Jaguar\",\"Jeep\",\"Kia\",\"Lamborghini\",\"Land Rover\",\"Lexus\",\"Lincoln\",\"Lotus\",\"MINI\",\"Maserati\",\"Mazda\",\"Mazda Truck\",\"Mercedes-Benz\",\"Mercury\",\"Mitsubishi\",\"Nissan\",\"Pontiac\",\"Porsche\",\"Saab\",\"Saturn\",\"Scion\",\"Subaru\",\"Suzuki\",\"Toyota\",\"Volkswagen\",\"Volvo\"],\"xaxis\":\"x\",\"y\":[10828.428927680798,50292.307692307695,9476.382978723404,10493.206627680313,62478.846153846156,5043.927392739274,12110.114702815432,8359.375789739703,4601.817501869858,5772.150997150997,106500.0,7096.606124287001,12009.514747859183,21425.0,15459.075268817205,6941.461159062886,4824.8341625207295,9833.653846153846,4557.142857142857,14457.758620689656,8827.81862745098,3573.226775956284,111500.0,14579.310344827587,11936.189710610932,8856.285714285714,40800.0,6094.409937888198,27060.0,5479.380952380952,6500.0,13731.693262411347,5103.631284916201,4509.437751004016,5900.867861142217,4272.12019826518,27121.428571428572,4625.373134328358,4181.114130434783,5061.180124223602,7356.8702290076335,2864.4871794871797,7707.482533768049,4797.1790808240885,6119.886363636364],\"yaxis\":\"y\",\"type\":\"bar\"}],\"name\":\"2007\"},{\"data\":[{\"alignmentgroup\":\"True\",\"hovertemplate\":\"year=2008\\u003cbr\\u003emake=%{x}\\u003cbr\\u003esellingprice=%{y}\\u003cextra\\u003e\\u003c\\u002fextra\\u003e\",\"legendgroup\":\"\",\"marker\":{\"color\":\"#636efa\",\"pattern\":{\"shape\":\"\"}},\"name\":\"\",\"offsetgroup\":\"\",\"orientation\":\"v\",\"showlegend\":false,\"textposition\":\"auto\",\"x\":[\"Acura\",\"Aston Martin\",\"Audi\",\"BMW\",\"Bentley\",\"Buick\",\"Cadillac\",\"Chevrolet\",\"Chrysler\",\"Dodge\",\"Ferrari\",\"Ford\",\"GMC\",\"HUMMER\",\"Honda\",\"Hyundai\",\"Infiniti\",\"Isuzu\",\"Jaguar\",\"Jeep\",\"Kia\",\"Lamborghini\",\"Land Rover\",\"Lexus\",\"Lincoln\",\"MINI\",\"Maserati\",\"Mazda\",\"Mercedes-Benz\",\"Mercury\",\"Mitsubishi\",\"Nissan\",\"Pontiac\",\"Porsche\",\"Saab\",\"Saturn\",\"Scion\",\"Smart\",\"Subaru\",\"Suzuki\",\"Toyota\",\"Volkswagen\",\"Volvo\"],\"xaxis\":\"x\",\"y\":[11809.11680911681,54600.0,12516.702355460386,12722.841429369068,67411.53846153847,9698.259860788863,13315.92485549133,8850.240567232211,5882.667694680031,7504.851722634104,117000.0,9566.201322556943,13335.539215686274,17207.08661417323,8255.227681246255,5574.208566108007,12468.779342723004,4633.333333333333,15911.42857142857,10398.006509357201,4271.925,116000.0,16602.260061919504,15016.480263157895,10263.919413919413,7142.17032967033,34994.444444444445,5554.108910891089,15511.507936507936,5844.771241830065,6767.439516129032,7196.420220082531,5072.07750952986,26096.75925925926,5875.0,5932.679738562091,5788.6281588447655,4238.372093023256,8603.728070175439,3556.1990950226245,10238.561804335091,6095.567010309278,8647.826086956522],\"yaxis\":\"y\",\"type\":\"bar\"}],\"name\":\"2008\"},{\"data\":[{\"alignmentgroup\":\"True\",\"hovertemplate\":\"year=2009\\u003cbr\\u003emake=%{x}\\u003cbr\\u003esellingprice=%{y}\\u003cextra\\u003e\\u003c\\u002fextra\\u003e\",\"legendgroup\":\"\",\"marker\":{\"color\":\"#636efa\",\"pattern\":{\"shape\":\"\"}},\"name\":\"\",\"offsetgroup\":\"\",\"orientation\":\"v\",\"showlegend\":false,\"textposition\":\"auto\",\"x\":[\"Acura\",\"Aston Martin\",\"Audi\",\"BMW\",\"Bentley\",\"Buick\",\"Cadillac\",\"Chevrolet\",\"Chrysler\",\"Dodge\",\"Ford\",\"GMC\",\"HUMMER\",\"Honda\",\"Hyundai\",\"Infiniti\",\"Jaguar\",\"Jeep\",\"Kia\",\"Land Rover\",\"Lexus\",\"Lincoln\",\"MINI\",\"Maserati\",\"Mazda\",\"Mercedes-Benz\",\"Mercury\",\"Mitsubishi\",\"Nissan\",\"Pontiac\",\"Porsche\",\"Saab\",\"Saturn\",\"Scion\",\"Smart\",\"Subaru\",\"Suzuki\",\"Toyota\",\"Volkswagen\",\"Volvo\"],\"xaxis\":\"x\",\"y\":[14050.829875518672,57000.0,16562.98780487805,16069.453734671126,82375.0,10985.539215686274,16939.041994750656,9586.486125041793,6663.530571992111,8247.431386347642,10408.049001814881,15829.178445229682,26172.222222222223,9769.14125200642,6690.188547486034,15062.948717948719,16091.509433962265,12904.003984063746,5379.864864864865,20105.555555555555,17225.08532423208,10984.722222222223,8231.754032258064,49207.692307692305,6715.090909090909,18979.274292742928,7160.588235294118,5180.747126436781,8721.212121212122,6775.574112734865,25274.56140350877,6900.0,6284.174311926606,5400.0,4271.428571428572,9771.739130434782,4462.254901960784,8603.40630005339,7594.3165467625895,9978.712871287129],\"yaxis\":\"y\",\"type\":\"bar\"}],\"name\":\"2009\"},{\"data\":[{\"alignmentgroup\":\"True\",\"hovertemplate\":\"year=2010\\u003cbr\\u003emake=%{x}\\u003cbr\\u003esellingprice=%{y}\\u003cextra\\u003e\\u003c\\u002fextra\\u003e\",\"legendgroup\":\"\",\"marker\":{\"color\":\"#636efa\",\"pattern\":{\"shape\":\"\"}},\"name\":\"\",\"offsetgroup\":\"\",\"orientation\":\"v\",\"showlegend\":false,\"textposition\":\"auto\",\"x\":[\"Acura\",\"Audi\",\"BMW\",\"Bentley\",\"Buick\",\"Cadillac\",\"Chevrolet\",\"Chrysler\",\"Dodge\",\"Ferrari\",\"Ford\",\"GMC\",\"HUMMER\",\"Honda\",\"Hyundai\",\"Infiniti\",\"Jaguar\",\"Jeep\",\"Kia\",\"Land Rover\",\"Lexus\",\"Lincoln\",\"MINI\",\"Maserati\",\"Mazda\",\"Mercedes-Benz\",\"Mercury\",\"Mitsubishi\",\"Nissan\",\"Pontiac\",\"Porsche\",\"Rolls-Royce\",\"Saab\",\"Scion\",\"Smart\",\"Subaru\",\"Suzuki\",\"Toyota\",\"Volkswagen\",\"Volvo\"],\"xaxis\":\"x\",\"y\":[16767.529880478087,20232.41042345277,18666.21835443038,98500.0,13745.714285714286,19374.10447761194,10982.505031275496,7967.662420382166,10104.175179720016,122000.0,13384.210843373494,16857.4625748503,18766.666666666668,10815.520684736091,7250.273348519362,20835.43046357616,21854.347826086956,14689.641203703704,6476.112656467316,27850.0,20900.801963993454,14113.181818181818,9982.298136645963,70833.33333333333,8245.131375579598,21362.599789915967,9318.037974683544,8001.587301587301,10310.691624365481,6437.5,35960.0,146325.0,10725.0,8150.990099009901,5550.0,11647.25,5265.714285714285,11207.126813289658,9087.845659163988,14366.954022988506],\"yaxis\":\"y\",\"type\":\"bar\"}],\"name\":\"2010\"},{\"data\":[{\"alignmentgroup\":\"True\",\"hovertemplate\":\"year=2011\\u003cbr\\u003emake=%{x}\\u003cbr\\u003esellingprice=%{y}\\u003cextra\\u003e\\u003c\\u002fextra\\u003e\",\"legendgroup\":\"\",\"marker\":{\"color\":\"#636efa\",\"pattern\":{\"shape\":\"\"}},\"name\":\"\",\"offsetgroup\":\"\",\"orientation\":\"v\",\"showlegend\":false,\"textposition\":\"auto\",\"x\":[\"Acura\",\"Aston Martin\",\"Audi\",\"BMW\",\"Bentley\",\"Buick\",\"Cadillac\",\"Chevrolet\",\"Chrysler\",\"Dodge\",\"Ferrari\",\"Ford\",\"GMC\",\"Honda\",\"Hyundai\",\"Infiniti\",\"Jaguar\",\"Jeep\",\"Kia\",\"Land Rover\",\"Lexus\",\"Lincoln\",\"MINI\",\"Maserati\",\"Mazda\",\"Mercedes-Benz\",\"Mercury\",\"Mitsubishi\",\"Nissan\",\"Porsche\",\"Ram\",\"Rolls-Royce\",\"Saab\",\"Scion\",\"Smart\",\"Subaru\",\"Suzuki\",\"Toyota\",\"Volkswagen\",\"Volvo\"],\"xaxis\":\"x\",\"y\":[20366.60839160839,98750.0,23390.212264150945,22007.648776925886,113500.0,14242.94560669456,23147.592245989305,12710.026967122276,11992.421441774492,11313.054862842893,183000.0,15344.499548095546,20827.293165467625,13936.752013808977,10055.284348864994,20395.593892593894,29928.073770491803,17827.00300075019,9859.936567164179,34580.44041450777,23068.901846452867,18723.575129533678,13037.843137254902,63312.5,11393.589743589744,24295.01223990208,10765.714285714286,9633.554376657825,13314.938144329897,46339.230769230766,19063.48773841962,149666.66666666666,10946.153846153846,9656.018518518518,5614.285714285715,15082.185185185184,6158.333333333333,14278.503864734299,10318.46635367762,16296.42857142857],\"yaxis\":\"y\",\"type\":\"bar\"}],\"name\":\"2011\"},{\"data\":[{\"alignmentgroup\":\"True\",\"hovertemplate\":\"year=2012\\u003cbr\\u003emake=%{x}\\u003cbr\\u003esellingprice=%{y}\\u003cextra\\u003e\\u003c\\u002fextra\\u003e\",\"legendgroup\":\"\",\"marker\":{\"color\":\"#636efa\",\"pattern\":{\"shape\":\"\"}},\"name\":\"\",\"offsetgroup\":\"\",\"orientation\":\"v\",\"showlegend\":false,\"textposition\":\"auto\",\"x\":[\"Acura\",\"Airstream\",\"Audi\",\"BMW\",\"Bentley\",\"Buick\",\"Cadillac\",\"Chevrolet\",\"Chrysler\",\"Dodge\",\"FIAT\",\"Ferrari\",\"Fisker\",\"Ford\",\"GMC\",\"Honda\",\"Hyundai\",\"Infiniti\",\"Jaguar\",\"Jeep\",\"Kia\",\"Land Rover\",\"Lexus\",\"Lincoln\",\"MINI\",\"Maserati\",\"Mazda\",\"Mercedes-Benz\",\"Mitsubishi\",\"Nissan\",\"Porsche\",\"Ram\",\"Rolls-Royce\",\"Scion\",\"Smart\",\"Subaru\",\"Suzuki\",\"Toyota\",\"Volkswagen\",\"Volvo\"],\"xaxis\":\"x\",\"y\":[20423.527851458886,71000.0,27952.371048252913,30268.94250513347,110916.66666666667,17085.525790349417,24505.676117775354,13061.534083209106,12224.161834120026,11678.92861952862,8014.472340425532,140285.7142857143,46461.11111111111,15441.23880126183,23159.199048374307,14667.215568862275,12729.519415258108,21502.470430107525,37001.60427807487,19468.83897932248,11925.456723338486,39343.934426229505,24959.630032644178,18256.211449676823,14244.888888888889,68026.66666666667,11863.695915279879,26863.443053435116,10604.82062780269,13044.97470229279,54033.203125,22724.01877133106,168500.0,10807.126168224298,6200.0,15822.96779661017,7843.689320388349,15284.61203319502,11809.036597428289,17701.39351851852],\"yaxis\":\"y\",\"type\":\"bar\"}],\"name\":\"2012\"},{\"data\":[{\"alignmentgroup\":\"True\",\"hovertemplate\":\"year=2013\\u003cbr\\u003emake=%{x}\\u003cbr\\u003esellingprice=%{y}\\u003cextra\\u003e\\u003c\\u002fextra\\u003e\",\"legendgroup\":\"\",\"marker\":{\"color\":\"#636efa\",\"pattern\":{\"shape\":\"\"}},\"name\":\"\",\"offsetgroup\":\"\",\"orientation\":\"v\",\"showlegend\":false,\"textposition\":\"auto\",\"x\":[\"Acura\",\"Audi\",\"BMW\",\"Bentley\",\"Buick\",\"Cadillac\",\"Chevrolet\",\"Chrysler\",\"Dodge\",\"FIAT\",\"Ford\",\"GMC\",\"Honda\",\"Hyundai\",\"Infiniti\",\"Jaguar\",\"Jeep\",\"Kia\",\"Land Rover\",\"Lexus\",\"Lincoln\",\"MINI\",\"Maserati\",\"Mazda\",\"Mercedes-Benz\",\"Mitsubishi\",\"Nissan\",\"Porsche\",\"Ram\",\"Rolls-Royce\",\"Scion\",\"Smart\",\"Subaru\",\"Suzuki\",\"Tesla\",\"Toyota\",\"Volkswagen\",\"Volvo\"],\"xaxis\":\"x\",\"y\":[23171.160409556313,30999.505649717514,33803.75626043406,135840.9090909091,15505.167279411764,26259.61111111111,14322.272377109317,13987.509545296773,13110.302579873569,9400.100386100386,17726.84708042271,26335.31395348837,17922.025620811983,12395.721411346618,23637.66988689915,38976.470588235294,23430.494394618832,12459.09497206704,45725.11111111111,30781.859903381643,25075.668738898756,16067.736486486487,82250.0,11917.686537173477,31571.240372272143,13080.65479876161,13986.78357636224,64615.953307393,24842.119924457034,171500.0,14979.241877256318,7475.0,18685.565140845072,8590.384615384615,66436.11111111111,15865.621682075753,13339.610450297367,20165.384615384617],\"yaxis\":\"y\",\"type\":\"bar\"}],\"name\":\"2013\"},{\"data\":[{\"alignmentgroup\":\"True\",\"hovertemplate\":\"year=2014\\u003cbr\\u003emake=%{x}\\u003cbr\\u003esellingprice=%{y}\\u003cextra\\u003e\\u003c\\u002fextra\\u003e\",\"legendgroup\":\"\",\"marker\":{\"color\":\"#636efa\",\"pattern\":{\"shape\":\"\"}},\"name\":\"\",\"offsetgroup\":\"\",\"orientation\":\"v\",\"showlegend\":false,\"textposition\":\"auto\",\"x\":[\"Acura\",\"Audi\",\"BMW\",\"Bentley\",\"Buick\",\"Cadillac\",\"Chevrolet\",\"Chrysler\",\"Dodge\",\"FIAT\",\"Ford\",\"GMC\",\"Honda\",\"Hyundai\",\"Infiniti\",\"Jaguar\",\"Jeep\",\"Kia\",\"Land Rover\",\"Lexus\",\"Lincoln\",\"MINI\",\"Maserati\",\"Mazda\",\"Mercedes-Benz\",\"Mitsubishi\",\"Nissan\",\"Porsche\",\"Ram\",\"Scion\",\"Smart\",\"Subaru\",\"Tesla\",\"Toyota\",\"Volkswagen\",\"Volvo\"],\"xaxis\":\"x\",\"y\":[31890.16393442623,41370.0221238938,43044.69870283019,154000.0,22342.795698924732,34497.46078431373,18372.80832174564,18320.09811799535,17616.112976207853,12585.109289617487,19567.93629789198,25349.307479224375,20192.723880597016,15306.121658271988,33429.17564870259,61988.296875,22609.8400241473,14341.490037259031,76534.23076923077,35503.577235772354,27884.757383966244,20776.80250783699,63195.833333333336,18678.97022332506,40599.697406340056,13502.32383808096,15176.091295116772,66080.20792079208,30192.64148527529,15707.142857142857,8620.0,21256.67099286178,69280.0,17279.391880268366,14878.978159126365,25316.363636363636],\"yaxis\":\"y\",\"type\":\"bar\"}],\"name\":\"2014\"},{\"data\":[{\"alignmentgroup\":\"True\",\"hovertemplate\":\"year=2015\\u003cbr\\u003emake=%{x}\\u003cbr\\u003esellingprice=%{y}\\u003cextra\\u003e\\u003c\\u002fextra\\u003e\",\"legendgroup\":\"\",\"marker\":{\"color\":\"#636efa\",\"pattern\":{\"shape\":\"\"}},\"name\":\"\",\"offsetgroup\":\"\",\"orientation\":\"v\",\"showlegend\":false,\"textposition\":\"auto\",\"x\":[\"Acura\",\"Audi\",\"BMW\",\"Buick\",\"Cadillac\",\"Chevrolet\",\"Chrysler\",\"Dodge\",\"FIAT\",\"Ford\",\"GMC\",\"Honda\",\"Hyundai\",\"Infiniti\",\"Jaguar\",\"Jeep\",\"Kia\",\"Land Rover\",\"Lexus\",\"Lincoln\",\"MINI\",\"Mazda\",\"Mercedes-Benz\",\"Mitsubishi\",\"Nissan\",\"Porsche\",\"Ram\",\"Scion\",\"Smart\",\"Subaru\",\"Toyota\",\"Volkswagen\",\"Volvo\"],\"xaxis\":\"x\",\"y\":[31159.090909090908,29541.666666666668,42937.234042553195,23759.426229508197,58142.74193548387,31729.954798331015,16951.22199592668,19175.20325203252,8740.0,27346.5,38531.32780082987,22065.584415584417,17441.70634920635,47235.0,75706.66666666667,27038.85542168675,19684.311740890687,55750.0,41307.8125,34945.0,23460.416666666668,18604.691689008043,52187.878787878784,15593.939393939394,16513.402889245586,60881.25,34639.36170212766,19333.333333333332,9166.666666666666,24541.313559322032,19302.995780590718,15184.831460674157,26107.682619647356],\"yaxis\":\"y\",\"type\":\"bar\"}],\"name\":\"2015\"}]);\n",
       "                        }).then(function(){\n",
       "                            \n",
       "var gd = document.getElementById('47b287f4-a468-46d5-8788-ffc6f225ea51');\n",
       "var x = new MutationObserver(function (mutations, observer) {{\n",
       "        var display = window.getComputedStyle(gd).display;\n",
       "        if (!display || display === 'none') {{\n",
       "            console.log([gd, 'removed!']);\n",
       "            Plotly.purge(gd);\n",
       "            observer.disconnect();\n",
       "        }}\n",
       "}});\n",
       "\n",
       "// Listen for the removal of the full notebook cells\n",
       "var notebookContainer = gd.closest('#notebook-container');\n",
       "if (notebookContainer) {{\n",
       "    x.observe(notebookContainer, {childList: true});\n",
       "}}\n",
       "\n",
       "// Listen for the clearing of the current output cell\n",
       "var outputEl = gd.closest('.output');\n",
       "if (outputEl) {{\n",
       "    x.observe(outputEl, {childList: true});\n",
       "}}\n",
       "\n",
       "                        })                };                });            </script>        </div>"
      ]
     },
     "metadata": {},
     "output_type": "display_data"
    }
   ],
   "source": [
    "fig = px.bar(result, x=\"make\", y=\"sellingprice\", animation_frame=\"year\")\n",
    "fig.show()"
   ]
  },
  {
   "cell_type": "code",
   "execution_count": null,
   "id": "07d05d1b-a2e0-4f44-9904-cd2a8b3ff094",
   "metadata": {},
   "outputs": [],
   "source": []
  }
 ],
 "metadata": {
  "kernelspec": {
   "display_name": "Python 3 (ipykernel)",
   "language": "python",
   "name": "python3"
  },
  "language_info": {
   "codemirror_mode": {
    "name": "ipython",
    "version": 3
   },
   "file_extension": ".py",
   "mimetype": "text/x-python",
   "name": "python",
   "nbconvert_exporter": "python",
   "pygments_lexer": "ipython3",
   "version": "3.12.1"
  }
 },
 "nbformat": 4,
 "nbformat_minor": 5
}
