{
 "cells": [
  {
   "cell_type": "code",
   "execution_count": null,
   "id": "1e11d125-c16d-425f-b688-2222e5fef331",
   "metadata": {},
   "outputs": [],
   "source": [
    "import pandas as pd\n",
    "import numpy as np\n",
    "import matplotlib.pyplot as plt\n",
    "import plotly.express as px"
   ]
  },
  {
   "cell_type": "code",
   "execution_count": null,
   "id": "33d20f1d-b763-4939-91a4-84ed0b32d134",
   "metadata": {},
   "outputs": [],
   "source": [
    "df = pd.read_csv(\"../data/car_prices.csv\")\n",
    "df"
   ]
  },
  {
   "cell_type": "code",
   "execution_count": null,
   "id": "8d6bd63c-da22-4303-995a-4f6783e70fe7",
   "metadata": {},
   "outputs": [],
   "source": [
    "import re\n",
    "\n",
    "def has_no_capital_letters(text):\n",
    "    return not bool(re.search(r'[A-Z]', text))\n",
    "\n",
    "bad_make_labels=[make for make in df['make'].dropna().unique() if has_no_capital_letters(make)]\n",
    "make_labels_dict={bad_make_label:bad_make_label.title() for bad_make_label in bad_make_labels}\n",
    "make_labels_dict"
   ]
  },
  {
   "cell_type": "code",
   "execution_count": null,
   "id": "7b2390cc-f6c1-4eae-b3bd-837cb986b6a7",
   "metadata": {},
   "outputs": [],
   "source": [
    "df['make']=df['make'].apply(lambda x:make_labels_dict[x] if x in make_labels_dict else x)\n",
    "make_labels_dict_2={\n",
    "    'Bmw':'BMW',\n",
    "    'Ford Tk':'Ford Truck',\n",
    "    'Gmc':'GMC',\n",
    "    'Gmc Truck':'GMC Truck',\n",
    "    'Landrover':'Land Rover',\n",
    "    'Mercedes-B':'Mercedes-Benz',\n",
    "    'Mercedes':'Mercedes-Benz',\n",
    "    'Vw':'Volkswagen',\n",
    "}\n",
    "\n",
    "df['make']=df['make'].apply(lambda x:make_labels_dict_2[x] if x in make_labels_dict_2 else x)\n",
    "\n",
    "df['make']=df['make'].str.replace(' Tk', ' Truck',regex=True)\n",
    "\n",
    "df['make'].unique()"
   ]
  },
  {
   "cell_type": "code",
   "execution_count": null,
   "id": "c9b7b89f-debe-4bf9-badd-f8c63fac9323",
   "metadata": {},
   "outputs": [],
   "source": [
    "group = ['year', 'make', 'mmr', 'sellingprice']\n",
    "df_need = pd.DataFrame(df, columns=group)\n",
    "data = df_need.groupby(['year', 'make'])\n",
    "data.groups"
   ]
  },
  {
   "cell_type": "code",
   "execution_count": null,
   "id": "d9a4a4e8-c5f0-47e4-9e6c-5dcaa9f1676b",
   "metadata": {},
   "outputs": [],
   "source": [
    "result = data.mean().reset_index()\n",
    "result"
   ]
  },
  {
   "cell_type": "code",
   "execution_count": null,
   "id": "6b90cb9e-59b6-43e4-a3ed-562393317c04",
   "metadata": {},
   "outputs": [],
   "source": [
    "temp1 = df_need.groupby('year')['mmr'].mean()\n",
    "temp2 = df_need.groupby('year')['sellingprice'].mean()\n",
    "result_fluc = pd.concat([temp1, temp2], axis=1)\n",
    "result_fluc.columns = ['MMR', 'Sellingprice']\n",
    "result_fluc = result_fluc.reset_index()\n",
    "result_fluc"
   ]
  },
  {
   "cell_type": "code",
   "execution_count": null,
   "id": "2f5ecb6c-8d4d-4a2b-b0de-12bf5eba100b",
   "metadata": {},
   "outputs": [],
   "source": [
    "result"
   ]
  },
  {
   "cell_type": "code",
   "execution_count": null,
   "id": "aa01ad1f",
   "metadata": {},
   "outputs": [],
   "source": [
    "sample = df[(df['make'] == 'Kia') & (df['model'] == 'Sorento')].groupby('year')['sellingprice'].agg(lambda x: x.mean())\n",
    "sample.sort_index()\n",
    "all_years = pd.Series(index=range(sample.index.min(), sample.index.max() + 1))\n",
    "sample = sample.reindex(all_years.index)\n",
    "print(\"Updated Series with missing years as NaN:\")\n",
    "print(sample)"
   ]
  },
  {
   "cell_type": "code",
   "execution_count": null,
   "id": "036c41cc",
   "metadata": {},
   "outputs": [],
   "source": [
    "sub_df = pd.DataFrame({'year': sample.index, 'sellingprice': sample.values})\n",
    "\n",
    "fig = px.line(sub_df, x=\"year\", y=\"sellingprice\", title='Selling Price Over Years')\n",
    "\n",
    "# Update layout\n",
    "fig.update_layout(xaxis=dict(rangeselector=dict(buttons=list([\n",
    "                        dict(count=1, label=\"1y\", step=\"year\", stepmode=\"backward\"),\n",
    "                        dict(count=3, label=\"3y\", step=\"year\", stepmode=\"backward\"),\n",
    "                        dict(count=5, label=\"5y\", step=\"year\", stepmode=\"backward\"),\n",
    "                        dict(count=10, label=\"10y\", step=\"year\", stepmode=\"backward\"),\n",
    "                        dict(step=\"all\")\n",
    "                    ])\n",
    "                ),\n",
    "                rangeslider=dict(visible=True),\n",
    "                type=\"date\"\n",
    "            )\n",
    ")\n",
    "\n",
    "fig.show()"
   ]
  },
  {
   "cell_type": "code",
   "execution_count": null,
   "id": "4c03aaf7-dd1a-4ca2-8299-0d57569d1ec8",
   "metadata": {},
   "outputs": [],
   "source": [
    "fig = px.bar(result, x=\"make\", y=\"sellingprice\", animation_frame=\"year\")\n",
    "fig.show()"
   ]
  }
 ],
 "metadata": {
  "kernelspec": {
   "display_name": "Python 3 (ipykernel)",
   "language": "python",
   "name": "python3"
  },
  "language_info": {
   "codemirror_mode": {
    "name": "ipython",
    "version": 3
   },
   "file_extension": ".py",
   "mimetype": "text/x-python",
   "name": "python",
   "nbconvert_exporter": "python",
   "pygments_lexer": "ipython3",
   "version": "3.12.1"
  }
 },
 "nbformat": 4,
 "nbformat_minor": 5
}
