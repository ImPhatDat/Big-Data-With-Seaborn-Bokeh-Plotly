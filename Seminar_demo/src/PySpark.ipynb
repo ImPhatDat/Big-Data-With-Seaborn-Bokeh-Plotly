{
 "cells": [
  {
   "cell_type": "code",
   "execution_count": 4,
   "metadata": {},
   "outputs": [],
   "source": [
    "import pyspark\n",
    "import findspark\n",
    "import pandas as pd"
   ]
  },
  {
   "cell_type": "code",
   "execution_count": 217,
   "metadata": {},
   "outputs": [],
   "source": [
    "data = pd.read_csv(\"../data/Main_Last.csv\")\n",
    "data['DateFull'] = pd.to_datetime(data[['Year', 'Month', 'Day']])"
   ]
  },
  {
   "cell_type": "code",
   "execution_count": 218,
   "metadata": {},
   "outputs": [],
   "source": [
    "data.to_csv('../data/Main_Last.csv', index=False)"
   ]
  },
  {
   "cell_type": "code",
   "execution_count": 76,
   "metadata": {},
   "outputs": [],
   "source": [
    "data['Date'] = pd.to_datetime(data['Date'], errors='coerce')"
   ]
  },
  {
   "cell_type": "code",
   "execution_count": 79,
   "metadata": {},
   "outputs": [],
   "source": [
    "data['Count'] = data.groupby(data['Date'].dt.date)['Date'].transform('count')"
   ]
  },
  {
   "cell_type": "code",
   "execution_count": 81,
   "metadata": {},
   "outputs": [],
   "source": [
    "data_sorted = data.sort_values(by=['Date', 'Count'], ascending=[True, False])"
   ]
  },
  {
   "cell_type": "code",
   "execution_count": 86,
   "metadata": {},
   "outputs": [
    {
     "data": {
      "text/html": [
       "<div>\n",
       "<style scoped>\n",
       "    .dataframe tbody tr th:only-of-type {\n",
       "        vertical-align: middle;\n",
       "    }\n",
       "\n",
       "    .dataframe tbody tr th {\n",
       "        vertical-align: top;\n",
       "    }\n",
       "\n",
       "    .dataframe thead th {\n",
       "        text-align: right;\n",
       "    }\n",
       "</style>\n",
       "<table border=\"1\" class=\"dataframe\">\n",
       "  <thead>\n",
       "    <tr style=\"text-align: right;\">\n",
       "      <th></th>\n",
       "      <th>Date</th>\n",
       "      <th>Count</th>\n",
       "    </tr>\n",
       "  </thead>\n",
       "  <tbody>\n",
       "    <tr>\n",
       "      <th>0</th>\n",
       "      <td>2016-01-14</td>\n",
       "      <td>2</td>\n",
       "    </tr>\n",
       "    <tr>\n",
       "      <th>1</th>\n",
       "      <td>2016-02-08</td>\n",
       "      <td>1</td>\n",
       "    </tr>\n",
       "    <tr>\n",
       "      <th>2</th>\n",
       "      <td>2016-02-09</td>\n",
       "      <td>4</td>\n",
       "    </tr>\n",
       "    <tr>\n",
       "      <th>3</th>\n",
       "      <td>2016-02-10</td>\n",
       "      <td>5</td>\n",
       "    </tr>\n",
       "    <tr>\n",
       "      <th>4</th>\n",
       "      <td>2016-02-11</td>\n",
       "      <td>5</td>\n",
       "    </tr>\n",
       "    <tr>\n",
       "      <th>...</th>\n",
       "      <td>...</td>\n",
       "      <td>...</td>\n",
       "    </tr>\n",
       "    <tr>\n",
       "      <th>2532</th>\n",
       "      <td>2023-03-27</td>\n",
       "      <td>144</td>\n",
       "    </tr>\n",
       "    <tr>\n",
       "      <th>2533</th>\n",
       "      <td>2023-03-28</td>\n",
       "      <td>158</td>\n",
       "    </tr>\n",
       "    <tr>\n",
       "      <th>2534</th>\n",
       "      <td>2023-03-29</td>\n",
       "      <td>150</td>\n",
       "    </tr>\n",
       "    <tr>\n",
       "      <th>2535</th>\n",
       "      <td>2023-03-30</td>\n",
       "      <td>124</td>\n",
       "    </tr>\n",
       "    <tr>\n",
       "      <th>2536</th>\n",
       "      <td>2023-03-31</td>\n",
       "      <td>132</td>\n",
       "    </tr>\n",
       "  </tbody>\n",
       "</table>\n",
       "<p>2537 rows × 2 columns</p>\n",
       "</div>"
      ],
      "text/plain": [
       "           Date  Count\n",
       "0    2016-01-14      2\n",
       "1    2016-02-08      1\n",
       "2    2016-02-09      4\n",
       "3    2016-02-10      5\n",
       "4    2016-02-11      5\n",
       "...         ...    ...\n",
       "2532 2023-03-27    144\n",
       "2533 2023-03-28    158\n",
       "2534 2023-03-29    150\n",
       "2535 2023-03-30    124\n",
       "2536 2023-03-31    132\n",
       "\n",
       "[2537 rows x 2 columns]"
      ]
     },
     "execution_count": 86,
     "metadata": {},
     "output_type": "execute_result"
    }
   ],
   "source": [
    "data_sorted = data_sorted.reset_index(drop=True)\n",
    "data_sorted = data_sorted.drop_duplicates(subset=['Date'])\n",
    "data_sorted"
   ]
  },
  {
   "cell_type": "code",
   "execution_count": 91,
   "metadata": {},
   "outputs": [],
   "source": [
    "min_date = data['Date'].min()\n",
    "max_date = data['Date'].max()\n",
    "all_dates = pd.date_range(start=min_date, end=max_date, freq='D')\n",
    "all_dates_df = pd.DataFrame({'Date': all_dates})\n",
    "\n",
    "# Thực hiện phép gộp giữa DataFrame mới và DataFrame hiện tại dựa trên cột 'Date'\n",
    "merged_df = pd.merge(all_dates_df, data_sorted, on='Date', how='left')\n",
    "\n",
    "# Điền giá trị 0 cho các ngày không có trong DataFrame ban đầu\n",
    "merged_df['Count'] = merged_df['Count'].fillna(0).astype(int)\n",
    "merged_df.to_csv(\"../data/Main_Last.csv\")"
   ]
  },
  {
   "cell_type": "code",
   "execution_count": 198,
   "metadata": {},
   "outputs": [],
   "source": [
    "data.to_csv('../data/Main_Last.csv', index=False)"
   ]
  },
  {
   "cell_type": "markdown",
   "metadata": {},
   "source": [
    "---"
   ]
  },
  {
   "cell_type": "code",
   "execution_count": 5,
   "metadata": {},
   "outputs": [],
   "source": [
    "findspark.init()"
   ]
  },
  {
   "cell_type": "code",
   "execution_count": 6,
   "metadata": {},
   "outputs": [],
   "source": [
    "spark = pyspark.sql.SparkSession.builder.getOrCreate()"
   ]
  },
  {
   "cell_type": "code",
   "execution_count": 7,
   "metadata": {},
   "outputs": [
    {
     "data": {
      "text/html": [
       "\n",
       "            <div>\n",
       "                <p><b>SparkSession - in-memory</b></p>\n",
       "                \n",
       "        <div>\n",
       "            <p><b>SparkContext</b></p>\n",
       "\n",
       "            <p><a href=\"http://Alex-Surface:4041\">Spark UI</a></p>\n",
       "\n",
       "            <dl>\n",
       "              <dt>Version</dt>\n",
       "                <dd><code>v3.5.1</code></dd>\n",
       "              <dt>Master</dt>\n",
       "                <dd><code>local[*]</code></dd>\n",
       "              <dt>AppName</dt>\n",
       "                <dd><code>pyspark-shell</code></dd>\n",
       "            </dl>\n",
       "        </div>\n",
       "        \n",
       "            </div>\n",
       "        "
      ],
      "text/plain": [
       "<pyspark.sql.session.SparkSession at 0x25742ba2a50>"
      ]
     },
     "execution_count": 7,
     "metadata": {},
     "output_type": "execute_result"
    }
   ],
   "source": [
    "spark"
   ]
  },
  {
   "cell_type": "code",
   "execution_count": 8,
   "metadata": {},
   "outputs": [],
   "source": [
    "input_df = spark.read.csv(\"../data/Main_Last.csv\", header=True, inferSchema=True)"
   ]
  },
  {
   "cell_type": "code",
   "execution_count": 9,
   "metadata": {},
   "outputs": [
    {
     "name": "stdout",
     "output_type": "stream",
     "text": [
      "+---+-----+----+-----+---+----------+\n",
      "| ID|Count|Year|Month|Day|  DateFull|\n",
      "+---+-----+----+-----+---+----------+\n",
      "|  0|    2|2016|    1| 14|2016-01-14|\n",
      "|  1|    0|2016|    1| 15|2016-01-15|\n",
      "|  2|    0|2016|    1| 16|2016-01-16|\n",
      "|  3|    0|2016|    1| 17|2016-01-17|\n",
      "|  4|    0|2016|    1| 18|2016-01-18|\n",
      "|  5|    0|2016|    1| 19|2016-01-19|\n",
      "|  6|    0|2016|    1| 20|2016-01-20|\n",
      "|  7|    0|2016|    1| 21|2016-01-21|\n",
      "|  8|    0|2016|    1| 22|2016-01-22|\n",
      "|  9|    0|2016|    1| 23|2016-01-23|\n",
      "| 10|    0|2016|    1| 24|2016-01-24|\n",
      "| 11|    0|2016|    1| 25|2016-01-25|\n",
      "| 12|    0|2016|    1| 26|2016-01-26|\n",
      "| 13|    0|2016|    1| 27|2016-01-27|\n",
      "| 14|    0|2016|    1| 28|2016-01-28|\n",
      "| 15|    0|2016|    1| 29|2016-01-29|\n",
      "| 16|    0|2016|    1| 30|2016-01-30|\n",
      "| 17|    0|2016|    1| 31|2016-01-31|\n",
      "| 18|    0|2016|    2|  1|2016-02-01|\n",
      "| 19|    0|2016|    2|  2|2016-02-02|\n",
      "+---+-----+----+-----+---+----------+\n",
      "only showing top 20 rows\n",
      "\n"
     ]
    }
   ],
   "source": [
    "input_df.show()"
   ]
  },
  {
   "cell_type": "markdown",
   "metadata": {},
   "source": [
    "---"
   ]
  },
  {
   "cell_type": "code",
   "execution_count": 10,
   "metadata": {},
   "outputs": [],
   "source": [
    "from pyspark.streaming import StreamingContext\n",
    "from pyspark.sql.types import StructType, StructField, StringType, IntegerType\n",
    "from pyspark.sql.functions import col\n",
    "import time"
   ]
  },
  {
   "cell_type": "code",
   "execution_count": 11,
   "metadata": {},
   "outputs": [],
   "source": [
    "input_df.createOrReplaceTempView(\"main_table\")"
   ]
  },
  {
   "cell_type": "code",
   "execution_count": 12,
   "metadata": {},
   "outputs": [],
   "source": [
    "last = pd.DataFrame()"
   ]
  },
  {
   "cell_type": "code",
   "execution_count": 204,
   "metadata": {},
   "outputs": [
    {
     "name": "stdout",
     "output_type": "stream",
     "text": [
      "+---+-----+----+-----+---+\n",
      "| ID|Count|Year|Month|Day|\n",
      "+---+-----+----+-----+---+\n",
      "|  0|    2|2016|    1| 14|\n",
      "|  1|    0|2016|    1| 15|\n",
      "|  2|    0|2016|    1| 16|\n",
      "|  3|    0|2016|    1| 17|\n",
      "|  4|    0|2016|    1| 18|\n",
      "|  5|    0|2016|    1| 19|\n",
      "|  6|    0|2016|    1| 20|\n",
      "|  7|    0|2016|    1| 21|\n",
      "|  8|    0|2016|    1| 22|\n",
      "|  9|    0|2016|    1| 23|\n",
      "| 10|    0|2016|    1| 24|\n",
      "| 11|    0|2016|    1| 25|\n",
      "| 12|    0|2016|    1| 26|\n",
      "| 13|    0|2016|    1| 27|\n",
      "| 14|    0|2016|    1| 28|\n",
      "| 15|    0|2016|    1| 29|\n",
      "| 16|    0|2016|    1| 30|\n",
      "| 17|    0|2016|    1| 31|\n",
      "| 18|    0|2016|    2|  1|\n",
      "| 19|    0|2016|    2|  2|\n",
      "+---+-----+----+-----+---+\n",
      "only showing top 20 rows\n",
      "\n"
     ]
    }
   ],
   "source": [
    "input_df.show()"
   ]
  },
  {
   "cell_type": "code",
   "execution_count": 14,
   "metadata": {},
   "outputs": [],
   "source": [
    "data = pd.read_csv('../data/Main_Last.csv')"
   ]
  },
  {
   "cell_type": "code",
   "execution_count": 20,
   "metadata": {},
   "outputs": [],
   "source": [
    "import seaborn as sns\n",
    "import matplotlib.pyplot as plt\n",
    "def visualize(data):\n",
    "    plt.plot(data['DateFull'], data['Count'])\n",
    "    plt.xlabel('Date')\n",
    "    plt.ylabel('Count')\n",
    "    plt.title('Line Chart of Count over Date')\n",
    "\n",
    "    # Xoay nhãn trục x nếu cần\n",
    "    plt.tight_layout()  # Đảm bảo không bị cắt bớt các nhãn\n",
    "    plt.show()\n"
   ]
  },
  {
   "cell_type": "code",
   "execution_count": 30,
   "metadata": {},
   "outputs": [],
   "source": [
    "year = 2016\n",
    "result = pd.DataFrame()\n",
    "def update():\n",
    "    if year < input_df.count():\n",
    "        for month in range(1, 12):\n",
    "            sql_query = \"SELECT * FROM main_table WHERE Year = '{}' AND Month = '{}'\".format(year, month)\n",
    "            cut_df = spark.sql(sql_query).toPandas()\n",
    "            result = pd.concat([result, cut_df], axis=0)\n",
    "        year += 1"
   ]
  },
  {
   "cell_type": "code",
   "execution_count": 38,
   "metadata": {},
   "outputs": [],
   "source": [
    "year = 2016\n",
    "result = pd.DataFrame()\n",
    "def update():\n",
    "    if year < 2024:\n",
    "        for month in range(1, 12):\n",
    "            sql_query = \"SELECT * FROM main_table WHERE Year = '{}' AND Month = '{}'\".format(year, month)\n",
    "            cut_df = spark.sql(sql_query).toPandas()\n",
    "            result = pd.concat([result, cut_df], axis=0)\n",
    "        year += 1"
   ]
  },
  {
   "cell_type": "code",
   "execution_count": 21,
   "metadata": {},
   "outputs": [],
   "source": [
    "from bokeh.plotting import figure, curdoc\n",
    "from bokeh.models import ColumnDataSource"
   ]
  },
  {
   "cell_type": "code",
   "execution_count": 28,
   "metadata": {},
   "outputs": [
    {
     "data": {
      "text/html": [
       "<div style=\"display: table;\"><div style=\"display: table-row;\"><div style=\"display: table-cell;\"><b title=\"bokeh.models.renderers.glyph_renderer.GlyphRenderer\">GlyphRenderer</b>(</div><div style=\"display: table-cell;\">id&nbsp;=&nbsp;'p1053', <span id=\"p1057\" style=\"cursor: pointer;\">&hellip;)</span></div></div><div class=\"p1056\" style=\"display: none;\"><div style=\"display: table-cell;\"></div><div style=\"display: table-cell;\">context_menu&nbsp;=&nbsp;None,</div></div><div class=\"p1056\" style=\"display: none;\"><div style=\"display: table-cell;\"></div><div style=\"display: table-cell;\">coordinates&nbsp;=&nbsp;None,</div></div><div class=\"p1056\" style=\"display: none;\"><div style=\"display: table-cell;\"></div><div style=\"display: table-cell;\">data_source&nbsp;=&nbsp;ColumnDataSource(id='p1044', ...),</div></div><div class=\"p1056\" style=\"display: none;\"><div style=\"display: table-cell;\"></div><div style=\"display: table-cell;\">glyph&nbsp;=&nbsp;Line(id='p1050', ...),</div></div><div class=\"p1056\" style=\"display: none;\"><div style=\"display: table-cell;\"></div><div style=\"display: table-cell;\">group&nbsp;=&nbsp;None,</div></div><div class=\"p1056\" style=\"display: none;\"><div style=\"display: table-cell;\"></div><div style=\"display: table-cell;\">hover_glyph&nbsp;=&nbsp;None,</div></div><div class=\"p1056\" style=\"display: none;\"><div style=\"display: table-cell;\"></div><div style=\"display: table-cell;\">js_event_callbacks&nbsp;=&nbsp;{},</div></div><div class=\"p1056\" style=\"display: none;\"><div style=\"display: table-cell;\"></div><div style=\"display: table-cell;\">js_property_callbacks&nbsp;=&nbsp;{},</div></div><div class=\"p1056\" style=\"display: none;\"><div style=\"display: table-cell;\"></div><div style=\"display: table-cell;\">level&nbsp;=&nbsp;'glyph',</div></div><div class=\"p1056\" style=\"display: none;\"><div style=\"display: table-cell;\"></div><div style=\"display: table-cell;\">muted&nbsp;=&nbsp;False,</div></div><div class=\"p1056\" style=\"display: none;\"><div style=\"display: table-cell;\"></div><div style=\"display: table-cell;\">muted_glyph&nbsp;=&nbsp;Line(id='p1052', ...),</div></div><div class=\"p1056\" style=\"display: none;\"><div style=\"display: table-cell;\"></div><div style=\"display: table-cell;\">name&nbsp;=&nbsp;None,</div></div><div class=\"p1056\" style=\"display: none;\"><div style=\"display: table-cell;\"></div><div style=\"display: table-cell;\">nonselection_glyph&nbsp;=&nbsp;Line(id='p1051', ...),</div></div><div class=\"p1056\" style=\"display: none;\"><div style=\"display: table-cell;\"></div><div style=\"display: table-cell;\">propagate_hover&nbsp;=&nbsp;False,</div></div><div class=\"p1056\" style=\"display: none;\"><div style=\"display: table-cell;\"></div><div style=\"display: table-cell;\">selection_glyph&nbsp;=&nbsp;'auto',</div></div><div class=\"p1056\" style=\"display: none;\"><div style=\"display: table-cell;\"></div><div style=\"display: table-cell;\">subscribed_events&nbsp;=&nbsp;PropertyValueSet(),</div></div><div class=\"p1056\" style=\"display: none;\"><div style=\"display: table-cell;\"></div><div style=\"display: table-cell;\">syncable&nbsp;=&nbsp;True,</div></div><div class=\"p1056\" style=\"display: none;\"><div style=\"display: table-cell;\"></div><div style=\"display: table-cell;\">tags&nbsp;=&nbsp;[],</div></div><div class=\"p1056\" style=\"display: none;\"><div style=\"display: table-cell;\"></div><div style=\"display: table-cell;\">view&nbsp;=&nbsp;CDSView(id='p1054', ...),</div></div><div class=\"p1056\" style=\"display: none;\"><div style=\"display: table-cell;\"></div><div style=\"display: table-cell;\">visible&nbsp;=&nbsp;True,</div></div><div class=\"p1056\" style=\"display: none;\"><div style=\"display: table-cell;\"></div><div style=\"display: table-cell;\">x_range_name&nbsp;=&nbsp;'default',</div></div><div class=\"p1056\" style=\"display: none;\"><div style=\"display: table-cell;\"></div><div style=\"display: table-cell;\">y_range_name&nbsp;=&nbsp;'default')</div></div></div>\n",
       "<script>\n",
       "(function() {\n",
       "  let expanded = false;\n",
       "  const ellipsis = document.getElementById(\"p1057\");\n",
       "  ellipsis.addEventListener(\"click\", function() {\n",
       "    const rows = document.getElementsByClassName(\"p1056\");\n",
       "    for (let i = 0; i < rows.length; i++) {\n",
       "      const el = rows[i];\n",
       "      el.style.display = expanded ? \"none\" : \"table-row\";\n",
       "    }\n",
       "    ellipsis.innerHTML = expanded ? \"&hellip;)\" : \"&lsaquo;&lsaquo;&lsaquo;\";\n",
       "    expanded = !expanded;\n",
       "  });\n",
       "})();\n",
       "</script>\n"
      ],
      "text/plain": [
       "GlyphRenderer(id='p1053', ...)"
      ]
     },
     "execution_count": 28,
     "metadata": {},
     "output_type": "execute_result"
    }
   ],
   "source": [
    "p = figure(outer_height=300, outer_width=800)\n",
    "p.line(x=\"x\", y=\"y\", source=result)"
   ]
  },
  {
   "cell_type": "code",
   "execution_count": 29,
   "metadata": {},
   "outputs": [],
   "source": [
    "curdoc().add_periodic_callback(update, 100)\n",
    "curdoc().add_root(p)"
   ]
  },
  {
   "cell_type": "code",
   "execution_count": null,
   "metadata": {},
   "outputs": [],
   "source": [
    "import pandas as pd\n",
    "\n",
    "# Đọc dữ liệu từ CSV vào DataFrame\n",
    "df = pd.read_csv(\"../data/Main_Last.csv\")\n",
    "\n",
    "# Xóa các hàng có giá trị trong cột \"Count\" là 0\n",
    "df = df[df[\"Count\"] != 0]\n",
    "\n",
    "# Lưu DataFrame đã chỉnh sửa lại thành file CSV\n",
    "df.to_csv(\"../data/Main_Last_Miss.csv\", index=False)\n"
   ]
  }
 ],
 "metadata": {
  "kernelspec": {
   "display_name": "Python 3",
   "language": "python",
   "name": "python3"
  },
  "language_info": {
   "codemirror_mode": {
    "name": "ipython",
    "version": 3
   },
   "file_extension": ".py",
   "mimetype": "text/x-python",
   "name": "python",
   "nbconvert_exporter": "python",
   "pygments_lexer": "ipython3",
   "version": "3.11.8"
  }
 },
 "nbformat": 4,
 "nbformat_minor": 2
}
